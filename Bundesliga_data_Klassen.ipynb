{
 "cells": [
  {
   "cell_type": "raw",
   "id": "ef67024b-15f5-4eac-bc79-25b7ff3860cd",
   "metadata": {},
   "source": []
  },
  {
   "cell_type": "code",
   "execution_count": null,
   "id": "cea3aa2b-24cb-44fc-902e-7676ae15aed6",
   "metadata": {},
   "outputs": [],
   "source": []
  },
  {
   "cell_type": "markdown",
   "id": "7152d758-ea39-4107-8ec5-5f4e2dd81a84",
   "metadata": {},
   "source": []
  },
  {
   "cell_type": "markdown",
   "id": "b95cafa0-b391-4036-83c0-08ead9dc04f0",
   "metadata": {},
   "source": [
    "# Klassenbibliothek für Bundesliga_data Projekt"
   ]
  },
  {
   "cell_type": "code",
   "execution_count": 1,
   "id": "e596ddc3-63b5-4271-bc5b-000d056e7ce0",
   "metadata": {},
   "outputs": [],
   "source": [
    "# nötige Module einbinden\n",
    "import pandas as pd"
   ]
  },
  {
   "cell_type": "markdown",
   "id": "85fb2e15-93dc-4b19-9332-18112ebe399c",
   "metadata": {},
   "source": [
    "Objekte der Klasse Spieltag repräsentieren einen Spieltag einer bestimmten Saison.\n",
    "Dem Konstruktor werden Saison (Jahr in dem die Saison begann als int) und Spieltag (int zwischen 1 und 34) übergeben.\n",
    "Der Konstruktor generiert den für die Analysen benötigten pandas-DataFrame.\n",
    "\n",
    "Die Methoden der Klasse sind:\n",
    "* print_tabelle: gibt den Stand der Tabelle zu diesem Spieltag aus\n",
    "* print_ergebnisse: gibt die Ergebnisse des Spieltags aus\n",
    "* plot_punkte: plottet die Punkteausbeute der Vereine zu diesem Spieltag"
   ]
  },
  {
   "cell_type": "code",
   "execution_count": null,
   "id": "ece63ea7-9a26-4fb7-b311-1494eeb1b76c",
   "metadata": {},
   "outputs": [],
   "source": [
    "class Spieltag:\n",
    "    def __init__(self, nummer, saison):\n",
    "        self.nummer = nummer\n",
    "        self.saison = saison\n",
    "        self.data \n",
    "\n",
    "    def print_tabelle(self):\n",
    "\n",
    "    def print_ergebnisse(self):\n",
    "\n",
    "        "
   ]
  },
  {
   "cell_type": "markdown",
   "id": "4adccba2-e4ad-4321-b9c6-d27b3951312f",
   "metadata": {},
   "source": [
    "\n",
    "Objekte der Klasse Verein repäsentieren Vereine, die in der Bundesliag spielen / gespielt haben. Dem Konstruktor weird der Name des Vereins übergeben. Der Konstruktor generiert den für die Analysen benötigten pandas-DataFrame.\n",
    "\n",
    "Die Methoden der Klasse sind:\n",
    "* plot_stats: der Methoden werden eine Saison (Jahr in dem die Saison begann als int), ein Spieltag ((int zwischen 1 und 34; default 34), die gewünschte Statistik (\"Gesamtpunktzahl\", \"Punkte Heim\", \"Punkte Auswärts\", \"Tordifferenz\") und eine Liste von Vereinen (als Objekte der Klasse Verein), die auch in den plot aufgenommen werden sollen übergeben.\n"
   ]
  },
  {
   "cell_type": "code",
   "execution_count": null,
   "id": "bc7b4d8c-c7af-4d83-a043-5bbd9d79c7d0",
   "metadata": {},
   "outputs": [],
   "source": [
    "class Verein:\n",
    "    def __init__(self, verein):\n",
    "        self.verein = verein\n",
    "        self.data = \n",
    "\n",
    "    def plot_stats(self, Saison, Spieltag = 34, stats, vergleich):\n",
    "\n",
    "        "
   ]
  }
 ],
 "metadata": {
  "kernelspec": {
   "display_name": "Python 3 (ipykernel)",
   "language": "python",
   "name": "python3"
  },
  "language_info": {
   "codemirror_mode": {
    "name": "ipython",
    "version": 3
   },
   "file_extension": ".py",
   "mimetype": "text/x-python",
   "name": "python",
   "nbconvert_exporter": "python",
   "pygments_lexer": "ipython3",
   "version": "3.11.4"
  }
 },
 "nbformat": 4,
 "nbformat_minor": 5
}

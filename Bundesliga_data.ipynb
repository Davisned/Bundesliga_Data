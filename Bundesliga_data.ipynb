{
 "cells": [
  {
   "cell_type": "markdown",
   "metadata": {},
   "source": [
    "# Bundesliga_data - eine Spielerei\n",
    "\n",
    "Ziel ist es über die API der OpenligaDB (siehe https://www.openligadb.de/) die Statistiken der einzelnen Spieltage zu ziehen. Zudem werden mit etwas Web-Scraping die Zuschauerdaten von der Webseite des Kickers gezogen:\n"
   ]
  },
  {
   "cell_type": "code",
   "execution_count": 1,
   "metadata": {},
   "outputs": [
    {
     "name": "stdout",
     "output_type": "stream",
     "text": [
      "{'Transfer-Encoding': 'chunked', 'Content-Type': 'application/json; charset=utf-8', 'Server': 'Microsoft-IIS/10.0', 'Strict-Transport-Security': 'max-age=2592000', 'X-Powered-By': 'ASP.NET', 'Date': 'Mon, 21 Aug 2023 15:17:38 GMT'}\n"
     ]
    }
   ],
   "source": [
    "import requests\n",
    "import pandas as pd\n",
    "import numpy as np\n",
    "\n",
    "# um die Daten des 1. Spieltags zu ziehen ruft man diese Adresse auf:\n",
    "url = \"https://api.openligadb.de/getmatchdata/bl1/2020/1\"\n",
    "bundesliga = requests.get(url)\n",
    "\n",
    "print(bundesliga.headers)"
   ]
  },
  {
   "cell_type": "markdown",
   "metadata": {},
   "source": [
    "Der Contente-Type ist json.\n",
    "\n",
    "Wir wollen die Daten aller Spieltage der Bundesliga Saison 2022/23 aus dem Internet ziehen:"
   ]
  },
  {
   "cell_type": "code",
   "execution_count": 2,
   "metadata": {},
   "outputs": [
    {
     "name": "stdout",
     "output_type": "stream",
     "text": [
      "[1, 2, 3, 4, 5, 6, 7, 8, 9, 10, 11, 12, 13, 14, 15, 16, 17, 18, 19, 20, 21, 22, 23, 24, 25, 26, 27, 28, 29, 30, 31, 32, 33, 34]\n"
     ]
    }
   ],
   "source": [
    "# Spieltagsliste:\n",
    "spieltage = [x for x in range(1,35)]\n",
    "print(spieltage)\n"
   ]
  },
  {
   "cell_type": "markdown",
   "metadata": {},
   "source": [
    "Jetzt können wir die aufzurufenden Urls bauen:"
   ]
  },
  {
   "cell_type": "code",
   "execution_count": 3,
   "metadata": {},
   "outputs": [
    {
     "name": "stdout",
     "output_type": "stream",
     "text": [
      "['https://api.openligadb.de/getmatchdata/bl1/2022/1', 'https://api.openligadb.de/getmatchdata/bl1/2022/2', 'https://api.openligadb.de/getmatchdata/bl1/2022/3', 'https://api.openligadb.de/getmatchdata/bl1/2022/4', 'https://api.openligadb.de/getmatchdata/bl1/2022/5', 'https://api.openligadb.de/getmatchdata/bl1/2022/6', 'https://api.openligadb.de/getmatchdata/bl1/2022/7', 'https://api.openligadb.de/getmatchdata/bl1/2022/8', 'https://api.openligadb.de/getmatchdata/bl1/2022/9', 'https://api.openligadb.de/getmatchdata/bl1/2022/10', 'https://api.openligadb.de/getmatchdata/bl1/2022/11', 'https://api.openligadb.de/getmatchdata/bl1/2022/12', 'https://api.openligadb.de/getmatchdata/bl1/2022/13', 'https://api.openligadb.de/getmatchdata/bl1/2022/14', 'https://api.openligadb.de/getmatchdata/bl1/2022/15', 'https://api.openligadb.de/getmatchdata/bl1/2022/16', 'https://api.openligadb.de/getmatchdata/bl1/2022/17', 'https://api.openligadb.de/getmatchdata/bl1/2022/18', 'https://api.openligadb.de/getmatchdata/bl1/2022/19', 'https://api.openligadb.de/getmatchdata/bl1/2022/20', 'https://api.openligadb.de/getmatchdata/bl1/2022/21', 'https://api.openligadb.de/getmatchdata/bl1/2022/22', 'https://api.openligadb.de/getmatchdata/bl1/2022/23', 'https://api.openligadb.de/getmatchdata/bl1/2022/24', 'https://api.openligadb.de/getmatchdata/bl1/2022/25', 'https://api.openligadb.de/getmatchdata/bl1/2022/26', 'https://api.openligadb.de/getmatchdata/bl1/2022/27', 'https://api.openligadb.de/getmatchdata/bl1/2022/28', 'https://api.openligadb.de/getmatchdata/bl1/2022/29', 'https://api.openligadb.de/getmatchdata/bl1/2022/30', 'https://api.openligadb.de/getmatchdata/bl1/2022/31', 'https://api.openligadb.de/getmatchdata/bl1/2022/32', 'https://api.openligadb.de/getmatchdata/bl1/2022/33', 'https://api.openligadb.de/getmatchdata/bl1/2022/34']\n"
     ]
    }
   ],
   "source": [
    "urls = list()\n",
    "for tag in spieltage: \n",
    "    url = \"https://api.openligadb.de/getmatchdata/bl1/2022/\" + str(tag)\n",
    "    urls.append(url)\n",
    "print(urls)"
   ]
  },
  {
   "cell_type": "markdown",
   "metadata": {},
   "source": [
    "Als nächstes holen wir uns die jsons für alle Spieltage:"
   ]
  },
  {
   "cell_type": "code",
   "execution_count": 4,
   "metadata": {},
   "outputs": [],
   "source": [
    "jsons = list()\n",
    "for url in urls:\n",
    "    jsons.append(requests.get(url).json())"
   ]
  },
  {
   "cell_type": "code",
   "execution_count": 5,
   "metadata": {
    "scrolled": false
   },
   "outputs": [
    {
     "name": "stdout",
     "output_type": "stream",
     "text": [
      "[{'matchID': 63864, 'matchDateTime': '2022-08-05T20:30:00', 'timeZoneID': 'W. Europe Standard Time', 'leagueId': 4562, 'leagueName': '1. Fußball-Bundesliga 2022/2023', 'leagueSeason': 2022, 'leagueShortcut': 'bl1', 'matchDateTimeUTC': '2022-08-05T18:30:00Z', 'group': {'groupName': '1. Spieltag', 'groupOrderID': 1, 'groupID': 39881}, 'team1': {'teamId': 91, 'teamName': 'Eintracht Frankfurt', 'shortName': 'Frankfurt', 'teamIconUrl': 'https://i.imgur.com/X8NFkOb.png', 'teamGroupName': None}, 'team2': {'teamId': 40, 'teamName': 'FC Bayern München', 'shortName': 'Bayern', 'teamIconUrl': 'https://i.imgur.com/jJEsJrj.png', 'teamGroupName': None}, 'lastUpdateDateTime': '2022-08-14T09:42:12.96', 'matchIsFinished': True, 'matchResults': [{'resultID': 98425, 'resultName': 'Endergebnis', 'pointsTeam1': 1, 'pointsTeam2': 6, 'resultOrderID': 1, 'resultTypeID': 2, 'resultDescription': 'Ergebnis nach Ende der offiziellen Spielzeit'}, {'resultID': 98426, 'resultName': 'Halbzeit', 'pointsTeam1': 0, 'pointsTeam2': 5, 'resultOrderID': 2, 'resultTypeID': 1, 'resultDescription': 'Zwischenstand zur Halbzeit'}], 'goals': [{'goalID': 95049, 'scoreTeam1': 0, 'scoreTeam2': 3, 'matchMinute': 16, 'goalGetterID': 14661, 'goalGetterName': 'Mane', 'isPenalty': False, 'isOwnGoal': False, 'isOvertime': False, 'comment': None}, {'goalID': 95046, 'scoreTeam1': 0, 'scoreTeam2': 1, 'matchMinute': 5, 'goalGetterID': 14935, 'goalGetterName': ' Kimmich', 'isPenalty': False, 'isOwnGoal': False, 'isOvertime': False, 'comment': None}, {'goalID': 95047, 'scoreTeam1': 0, 'scoreTeam2': 2, 'matchMinute': 11, 'goalGetterID': 16143, 'goalGetterName': 'Pavard', 'isPenalty': False, 'isOwnGoal': False, 'isOvertime': False, 'comment': None}, {'goalID': 95054, 'scoreTeam1': 0, 'scoreTeam2': 5, 'matchMinute': 43, 'goalGetterID': 18085, 'goalGetterName': 'Gnabry', 'isPenalty': False, 'isOwnGoal': False, 'isOvertime': False, 'comment': None}, {'goalID': 95053, 'scoreTeam1': 0, 'scoreTeam2': 4, 'matchMinute': 35, 'goalGetterID': 18700, 'goalGetterName': 'J. Musiala', 'isPenalty': False, 'isOwnGoal': False, 'isOvertime': False, 'comment': None}, {'goalID': 95056, 'scoreTeam1': 1, 'scoreTeam2': 6, 'matchMinute': 83, 'goalGetterID': 18700, 'goalGetterName': 'J. Musiala', 'isPenalty': False, 'isOwnGoal': False, 'isOvertime': False, 'comment': None}, {'goalID': 95055, 'scoreTeam1': 1, 'scoreTeam2': 5, 'matchMinute': 64, 'goalGetterID': 19448, 'goalGetterName': 'Kolo Muani', 'isPenalty': False, 'isOwnGoal': False, 'isOvertime': False, 'comment': None}, {'goalID': 95377, 'scoreTeam1': 1, 'scoreTeam2': 7, 'matchMinute': None, 'goalGetterID': 0, 'goalGetterName': '', 'isPenalty': False, 'isOwnGoal': False, 'isOvertime': False, 'comment': None}], 'location': {'locationID': 30, 'locationCity': 'Frankfurt', 'locationStadium': 'Commerzbank Arena'}, 'numberOfViewers': None}, {'matchID': 63865, 'matchDateTime': '2022-08-06T15:30:00', 'timeZoneID': 'W. Europe Standard Time', 'leagueId': 4562, 'leagueName': '1. Fußball-Bundesliga 2022/2023', 'leagueSeason': 2022, 'leagueShortcut': 'bl1', 'matchDateTimeUTC': '2022-08-06T13:30:00Z', 'group': {'groupName': '1. Spieltag', 'groupOrderID': 1, 'groupID': 39881}, 'team1': {'teamId': 95, 'teamName': 'FC Augsburg', 'shortName': 'Augsburg', 'teamIconUrl': 'https://i.imgur.com/sdE62e2.png', 'teamGroupName': None}, 'team2': {'teamId': 112, 'teamName': 'SC Freiburg', 'shortName': 'Freiburg', 'teamIconUrl': 'https://i.imgur.com/r3mvi0h.png', 'teamGroupName': None}, 'lastUpdateDateTime': '2023-03-12T12:25:38.537', 'matchIsFinished': True, 'matchResults': [{'resultID': 98437, 'resultName': 'Endergebnis', 'pointsTeam1': 0, 'pointsTeam2': 4, 'resultOrderID': 1, 'resultTypeID': 2, 'resultDescription': 'Ergebnis nach Ende der offiziellen Spielzeit'}, {'resultID': 98438, 'resultName': 'Halbzeit', 'pointsTeam1': 0, 'pointsTeam2': 0, 'resultOrderID': 2, 'resultTypeID': 1, 'resultDescription': 'Zwischenstand zur Halbzeit'}], 'goals': [{'goalID': 95079, 'scoreTeam1': 0, 'scoreTeam2': 3, 'matchMinute': 61, 'goalGetterID': 18712, 'goalGetterName': 'M. Ginter', 'isPenalty': False, 'isOwnGoal': False, 'isOvertime': False, 'comment': None}, {'goalID': 95081, 'scoreTeam1': 0, 'scoreTeam2': 4, 'matchMinute': 78, 'goalGetterID': 18500, 'goalGetterName': 'R. Doan', 'isPenalty': False, 'isOwnGoal': False, 'isOvertime': False, 'comment': None}, {'goalID': 95074, 'scoreTeam1': 0, 'scoreTeam2': 1, 'matchMinute': 46, 'goalGetterID': 13007, 'goalGetterName': 'Gregoritsch', 'isPenalty': False, 'isOwnGoal': False, 'isOvertime': False, 'comment': None}, {'goalID': 95075, 'scoreTeam1': 0, 'scoreTeam2': 2, 'matchMinute': 49, 'goalGetterID': 13738, 'goalGetterName': 'Grifo', 'isPenalty': False, 'isOwnGoal': False, 'isOvertime': False, 'comment': None}], 'location': {'locationID': 1029, 'locationCity': 'Augsburg', 'locationStadium': 'WWK Arena'}, 'numberOfViewers': None}, {'matchID': 63866, 'matchDateTime': '2022-08-06T15:30:00', 'timeZoneID': 'W. Europe Standard Time', 'leagueId': 4562, 'leagueName': '1. Fußball-Bundesliga 2022/2023', 'leagueSeason': 2022, 'leagueShortcut': 'bl1', 'matchDateTimeUTC': '2022-08-06T13:30:00Z', 'group': {'groupName': '1. Spieltag', 'groupOrderID': 1, 'groupID': 39881}, 'team1': {'teamId': 129, 'teamName': 'VfL Bochum', 'shortName': 'Bochum', 'teamIconUrl': 'https://i.imgur.com/5jy3Gfr.png', 'teamGroupName': None}, 'team2': {'teamId': 81, 'teamName': '1. FSV Mainz 05', 'shortName': 'Mainz', 'teamIconUrl': 'https://upload.wikimedia.org/wikipedia/commons/thumb/9/9e/Logo_Mainz_05.svg/1200px-Logo_Mainz_05.svg.png', 'teamGroupName': None}, 'lastUpdateDateTime': '2022-08-06T17:30:14.553', 'matchIsFinished': True, 'matchResults': [{'resultID': 98445, 'resultName': 'Endergebnis', 'pointsTeam1': 1, 'pointsTeam2': 2, 'resultOrderID': 1, 'resultTypeID': 2, 'resultDescription': 'Ergebnis nach Ende der offiziellen Spielzeit'}, {'resultID': 98446, 'resultName': 'Halbzeit', 'pointsTeam1': 1, 'pointsTeam2': 1, 'resultOrderID': 2, 'resultTypeID': 1, 'resultDescription': 'Zwischenstand zur Halbzeit'}], 'goals': [{'goalID': 95072, 'scoreTeam1': 1, 'scoreTeam2': 1, 'matchMinute': 39, 'goalGetterID': 18602, 'goalGetterName': 'K. Stöger', 'isPenalty': False, 'isOwnGoal': False, 'isOvertime': False, 'comment': None}, {'goalID': 95070, 'scoreTeam1': 0, 'scoreTeam2': 1, 'matchMinute': 26, 'goalGetterID': 18615, 'goalGetterName': 'K. Onisiwo', 'isPenalty': False, 'isOwnGoal': False, 'isOvertime': False, 'comment': None}, {'goalID': 95083, 'scoreTeam1': 1, 'scoreTeam2': 2, 'matchMinute': 77, 'goalGetterID': 18615, 'goalGetterName': 'K. Onisiwo', 'isPenalty': False, 'isOwnGoal': False, 'isOvertime': False, 'comment': None}], 'location': None, 'numberOfViewers': None}, {'matchID': 63868, 'matchDateTime': '2022-08-06T15:30:00', 'timeZoneID': 'W. Europe Standard Time', 'leagueId': 4562, 'leagueName': '1. Fußball-Bundesliga 2022/2023', 'leagueSeason': 2022, 'leagueShortcut': 'bl1', 'matchDateTimeUTC': '2022-08-06T13:30:00Z', 'group': {'groupName': '1. Spieltag', 'groupOrderID': 1, 'groupID': 39881}, 'team1': {'teamId': 87, 'teamName': 'Borussia Mönchengladbach', 'shortName': 'Gladbach', 'teamIconUrl': 'https://i.imgur.com/KSIk0Eu.png', 'teamGroupName': None}, 'team2': {'teamId': 175, 'teamName': 'TSG 1899 Hoffenheim', 'shortName': 'Hoffenheim', 'teamIconUrl': 'https://i.imgur.com/gF0PfEl.png', 'teamGroupName': None}, 'lastUpdateDateTime': '2022-08-06T17:23:32.847', 'matchIsFinished': True, 'matchResults': [{'resultID': 98439, 'resultName': 'Endergebnis', 'pointsTeam1': 3, 'pointsTeam2': 1, 'resultOrderID': 1, 'resultTypeID': 2, 'resultDescription': 'Ergebnis nach Ende der offiziellen Spielzeit'}, {'resultID': 98440, 'resultName': 'Halbzeit', 'pointsTeam1': 1, 'pointsTeam2': 1, 'resultOrderID': 2, 'resultTypeID': 1, 'resultDescription': 'Zwischenstand zur Halbzeit'}], 'goals': [{'goalID': 95073, 'scoreTeam1': 1, 'scoreTeam2': 1, 'matchMinute': 42, 'goalGetterID': 18717, 'goalGetterName': 'R. Bensebaini', 'isPenalty': False, 'isOwnGoal': False, 'isOvertime': False, 'comment': None}, {'goalID': 95080, 'scoreTeam1': 2, 'scoreTeam2': 1, 'matchMinute': 71, 'goalGetterID': 18573, 'goalGetterName': 'M. Thuram', 'isPenalty': False, 'isOwnGoal': False, 'isOvertime': False, 'comment': None}, {'goalID': 95069, 'scoreTeam1': 0, 'scoreTeam2': 1, 'matchMinute': 25, 'goalGetterID': 18366, 'goalGetterName': 'R. Skov', 'isPenalty': False, 'isOwnGoal': False, 'isOvertime': False, 'comment': None}, {'goalID': 95082, 'scoreTeam1': 3, 'scoreTeam2': 1, 'matchMinute': 78, 'goalGetterID': 18490, 'goalGetterName': 'N. Elvedi', 'isPenalty': False, 'isOwnGoal': False, 'isOvertime': False, 'comment': None}], 'location': None, 'numberOfViewers': None}, {'matchID': 63871, 'matchDateTime': '2022-08-06T15:30:00', 'timeZoneID': 'W. Europe Standard Time', 'leagueId': 4562, 'leagueName': '1. Fußball-Bundesliga 2022/2023', 'leagueSeason': 2022, 'leagueShortcut': 'bl1', 'matchDateTimeUTC': '2022-08-06T13:30:00Z', 'group': {'groupName': '1. Spieltag', 'groupOrderID': 1, 'groupID': 39881}, 'team1': {'teamId': 80, 'teamName': '1. FC Union Berlin', 'shortName': 'Union Berlin', 'teamIconUrl': 'https://assets.dfb.de/uploads/000/018/232/small_union-Berlin.jpg', 'teamGroupName': None}, 'team2': {'teamId': 54, 'teamName': 'Hertha BSC', 'shortName': 'Hertha', 'teamIconUrl': 'https://i.imgur.com/apFwbYZ.png', 'teamGroupName': None}, 'lastUpdateDateTime': '2023-03-12T12:24:55.59', 'matchIsFinished': True, 'matchResults': [{'resultID': 98441, 'resultName': 'Endergebnis', 'pointsTeam1': 3, 'pointsTeam2': 1, 'resultOrderID': 1, 'resultTypeID': 2, 'resultDescription': 'Ergebnis nach Ende der offiziellen Spielzeit'}, {'resultID': 98442, 'resultName': 'Halbzeit', 'pointsTeam1': 1, 'pointsTeam2': 0, 'resultOrderID': 2, 'resultTypeID': 1, 'resultDescription': 'Zwischenstand zur Halbzeit'}], 'goals': [{'goalID': 95084, 'scoreTeam1': 3, 'scoreTeam2': 1, 'matchMinute': 85, 'goalGetterID': 18338, 'goalGetterName': 'D. Lukebakio', 'isPenalty': False, 'isOwnGoal': False, 'isOvertime': False, 'comment': None}, {'goalID': 95076, 'scoreTeam1': 2, 'scoreTeam2': 0, 'matchMinute': 50, 'goalGetterID': 821, 'goalGetterName': 'Becker', 'isPenalty': False, 'isOwnGoal': False, 'isOvertime': False, 'comment': None}, {'goalID': 95078, 'scoreTeam1': 3, 'scoreTeam2': 0, 'matchMinute': 56, 'goalGetterID': 9415, 'goalGetterName': 'Knoche', 'isPenalty': False, 'isOwnGoal': False, 'isOvertime': False, 'comment': None}, {'goalID': 95071, 'scoreTeam1': 1, 'scoreTeam2': 0, 'matchMinute': 32, 'goalGetterID': 19159, 'goalGetterName': 'Jordan Siebatcheu', 'isPenalty': False, 'isOwnGoal': False, 'isOvertime': False, 'comment': None}], 'location': {'locationID': 82, 'locationCity': 'Berlin', 'locationStadium': 'Alte Försterei'}, 'numberOfViewers': None}, {'matchID': 63872, 'matchDateTime': '2022-08-06T15:30:00', 'timeZoneID': 'W. Europe Standard Time', 'leagueId': 4562, 'leagueName': '1. Fußball-Bundesliga 2022/2023', 'leagueSeason': 2022, 'leagueShortcut': 'bl1', 'matchDateTimeUTC': '2022-08-06T13:30:00Z', 'group': {'groupName': '1. Spieltag', 'groupOrderID': 1, 'groupID': 39881}, 'team1': {'teamId': 131, 'teamName': 'VfL Wolfsburg', 'shortName': 'Wolfsburg', 'teamIconUrl': 'https://i.imgur.com/ucqKV4B.png', 'teamGroupName': None}, 'team2': {'teamId': 134, 'teamName': 'Werder Bremen', 'shortName': 'Bremen', 'teamIconUrl': 'https://upload.wikimedia.org/wikipedia/commons/thumb/b/be/SV-Werder-Bremen-Logo.svg/681px-SV-Werder-Bremen-Logo.svg.png', 'teamGroupName': None}, 'lastUpdateDateTime': '2022-08-06T17:25:48.177', 'matchIsFinished': True, 'matchResults': [{'resultID': 98443, 'resultName': 'Endergebnis', 'pointsTeam1': 2, 'pointsTeam2': 2, 'resultOrderID': 1, 'resultTypeID': 2, 'resultDescription': 'Ergebnis nach Ende der offiziellen Spielzeit'}, {'resultID': 98444, 'resultName': 'Halbzeit', 'pointsTeam1': 1, 'pointsTeam2': 2, 'resultOrderID': 2, 'resultTypeID': 1, 'resultDescription': 'Zwischenstand zur Halbzeit'}], 'goals': [{'goalID': 95066, 'scoreTeam1': 1, 'scoreTeam2': 0, 'matchMinute': 11, 'goalGetterID': 19021, 'goalGetterName': 'L. Nmecha', 'isPenalty': False, 'isOwnGoal': False, 'isOvertime': False, 'comment': None}, {'goalID': 95067, 'scoreTeam1': 1, 'scoreTeam2': 1, 'matchMinute': 21, 'goalGetterID': 18661, 'goalGetterName': 'N. Füllkrug', 'isPenalty': False, 'isOwnGoal': False, 'isOvertime': False, 'comment': None}, {'goalID': 95085, 'scoreTeam1': 2, 'scoreTeam2': 2, 'matchMinute': 84, 'goalGetterID': 15001, 'goalGetterName': 'Guilavogui', 'isPenalty': False, 'isOwnGoal': False, 'isOvertime': False, 'comment': None}, {'goalID': 95068, 'scoreTeam1': 1, 'scoreTeam2': 2, 'matchMinute': 23, 'goalGetterID': 18523, 'goalGetterName': 'L. Bittencourt', 'isPenalty': False, 'isOwnGoal': False, 'isOvertime': False, 'comment': None}], 'location': None, 'numberOfViewers': None}, {'matchID': 63867, 'matchDateTime': '2022-08-06T18:30:00', 'timeZoneID': 'W. Europe Standard Time', 'leagueId': 4562, 'leagueName': '1. Fußball-Bundesliga 2022/2023', 'leagueSeason': 2022, 'leagueShortcut': 'bl1', 'matchDateTimeUTC': '2022-08-06T16:30:00Z', 'group': {'groupName': '1. Spieltag', 'groupOrderID': 1, 'groupID': 39881}, 'team1': {'teamId': 7, 'teamName': 'Borussia Dortmund', 'shortName': 'BVB', 'teamIconUrl': 'https://upload.wikimedia.org/wikipedia/commons/thumb/6/67/Borussia_Dortmund_logo.svg/560px-Borussia_Dortmund_logo.svg.png', 'teamGroupName': None}, 'team2': {'teamId': 6, 'teamName': 'Bayer Leverkusen', 'shortName': 'Leverkusen', 'teamIconUrl': 'https://upload.wikimedia.org/wikipedia/de/thumb/f/f7/Bayer_Leverkusen_Logo.svg/1200px-Bayer_Leverkusen_Logo.svg.png', 'teamGroupName': None}, 'lastUpdateDateTime': '2022-08-06T20:27:25.107', 'matchIsFinished': True, 'matchResults': [{'resultID': 98447, 'resultName': 'Endergebnis', 'pointsTeam1': 1, 'pointsTeam2': 0, 'resultOrderID': 1, 'resultTypeID': 2, 'resultDescription': 'Ergebnis nach Ende der offiziellen Spielzeit'}, {'resultID': 98448, 'resultName': 'Halbzeit', 'pointsTeam1': 1, 'pointsTeam2': 0, 'resultOrderID': 2, 'resultTypeID': 1, 'resultDescription': 'Zwischenstand zur Halbzeit'}], 'goals': [{'goalID': 95086, 'scoreTeam1': 1, 'scoreTeam2': 0, 'matchMinute': 10, 'goalGetterID': 18703, 'goalGetterName': 'M. Reus', 'isPenalty': False, 'isOwnGoal': False, 'isOvertime': False, 'comment': None}], 'location': None, 'numberOfViewers': None}, {'matchID': 63870, 'matchDateTime': '2022-08-07T15:30:00', 'timeZoneID': 'W. Europe Standard Time', 'leagueId': 4562, 'leagueName': '1. Fußball-Bundesliga 2022/2023', 'leagueSeason': 2022, 'leagueShortcut': 'bl1', 'matchDateTimeUTC': '2022-08-07T13:30:00Z', 'group': {'groupName': '1. Spieltag', 'groupOrderID': 1, 'groupID': 39881}, 'team1': {'teamId': 16, 'teamName': 'VfB Stuttgart', 'shortName': 'Stuttgart', 'teamIconUrl': 'https://i.imgur.com/v0tkpNx.png', 'teamGroupName': None}, 'team2': {'teamId': 1635, 'teamName': 'RB Leipzig', 'shortName': 'Leipzig', 'teamIconUrl': 'https://i.imgur.com/Rpwsjz1.png', 'teamGroupName': None}, 'lastUpdateDateTime': '2022-08-07T17:34:41.223', 'matchIsFinished': True, 'matchResults': [{'resultID': 98457, 'resultName': 'Endergebnis', 'pointsTeam1': 1, 'pointsTeam2': 1, 'resultOrderID': 1, 'resultTypeID': 2, 'resultDescription': 'Ergebnis nach Ende der offiziellen Spielzeit'}, {'resultID': 98458, 'resultName': 'Halbzeit', 'pointsTeam1': 1, 'pointsTeam2': 1, 'resultOrderID': 2, 'resultTypeID': 1, 'resultDescription': 'Zwischenstand zur Halbzeit'}], 'goals': [{'goalID': 95098, 'scoreTeam1': 1, 'scoreTeam2': 1, 'matchMinute': 31, 'goalGetterID': 19454, 'goalGetterName': 'N. Ahamada', 'isPenalty': False, 'isOwnGoal': False, 'isOvertime': False, 'comment': None}, {'goalID': 95097, 'scoreTeam1': 0, 'scoreTeam2': 1, 'matchMinute': 8, 'goalGetterID': 18782, 'goalGetterName': 'C. Nkunku', 'isPenalty': False, 'isOwnGoal': False, 'isOvertime': False, 'comment': None}], 'location': None, 'numberOfViewers': None}, {'matchID': 63869, 'matchDateTime': '2022-08-07T17:30:00', 'timeZoneID': 'W. Europe Standard Time', 'leagueId': 4562, 'leagueName': '1. Fußball-Bundesliga 2022/2023', 'leagueSeason': 2022, 'leagueShortcut': 'bl1', 'matchDateTimeUTC': '2022-08-07T15:30:00Z', 'group': {'groupName': '1. Spieltag', 'groupOrderID': 1, 'groupID': 39881}, 'team1': {'teamId': 65, 'teamName': '1. FC Köln', 'shortName': 'Köln', 'teamIconUrl': 'https://upload.wikimedia.org/wikipedia/commons/thumb/0/01/1._FC_Koeln_Logo_2014–.svg/296px-1._FC_Koeln_Logo_2014–.svg.png', 'teamGroupName': None}, 'team2': {'teamId': 9, 'teamName': 'FC Schalke 04', 'shortName': 'Schalke', 'teamIconUrl': 'https://upload.wikimedia.org/wikipedia/commons/9/97/FC_Schalke_04_Logo.png', 'teamGroupName': None}, 'lastUpdateDateTime': '2022-08-07T20:34:59.85', 'matchIsFinished': True, 'matchResults': [{'resultID': 98459, 'resultName': 'Endergebnis', 'pointsTeam1': 3, 'pointsTeam2': 1, 'resultOrderID': 1, 'resultTypeID': 2, 'resultDescription': 'Ergebnis nach Ende der offiziellen Spielzeit'}, {'resultID': 98460, 'resultName': 'Halbzeit', 'pointsTeam1': 0, 'pointsTeam2': 0, 'resultOrderID': 2, 'resultTypeID': 1, 'resultDescription': 'Zwischenstand zur Halbzeit'}], 'goals': [{'goalID': 95102, 'scoreTeam1': 2, 'scoreTeam2': 1, 'matchMinute': 76, 'goalGetterID': 18968, 'goalGetterName': 'M. Bülter', 'isPenalty': False, 'isOwnGoal': False, 'isOvertime': False, 'comment': None}, {'goalID': 95100, 'scoreTeam1': 1, 'scoreTeam2': 0, 'matchMinute': 49, 'goalGetterID': 19305, 'goalGetterName': 'L.Kilian', 'isPenalty': False, 'isOwnGoal': False, 'isOvertime': False, 'comment': None}, {'goalID': 95101, 'scoreTeam1': 2, 'scoreTeam2': 0, 'matchMinute': 65, 'goalGetterID': 18731, 'goalGetterName': 'F. Kainz', 'isPenalty': False, 'isOwnGoal': False, 'isOvertime': False, 'comment': None}, {'goalID': 95099, 'scoreTeam1': 0, 'scoreTeam2': 0, 'matchMinute': None, 'goalGetterID': 18196, 'goalGetterName': 'Zalazar', 'isPenalty': False, 'isOwnGoal': False, 'isOvertime': False, 'comment': None}, {'goalID': 95103, 'scoreTeam1': 3, 'scoreTeam2': 1, 'matchMinute': 80, 'goalGetterID': 16424, 'goalGetterName': 'Schwolow', 'isPenalty': False, 'isOwnGoal': True, 'isOvertime': False, 'comment': None}], 'location': None, 'numberOfViewers': None}]\n"
     ]
    }
   ],
   "source": [
    "print(jsons[0])"
   ]
  },
  {
   "cell_type": "markdown",
   "metadata": {},
   "source": [
    "Jetzt bauen wir für jeden Spieltag einen Datensatz und speichern ihn in der Liste spieltage_dfs:"
   ]
  },
  {
   "cell_type": "code",
   "execution_count": 6,
   "metadata": {},
   "outputs": [
    {
     "data": {
      "text/html": [
       "<div>\n",
       "<style scoped>\n",
       "    .dataframe tbody tr th:only-of-type {\n",
       "        vertical-align: middle;\n",
       "    }\n",
       "\n",
       "    .dataframe tbody tr th {\n",
       "        vertical-align: top;\n",
       "    }\n",
       "\n",
       "    .dataframe thead th {\n",
       "        text-align: right;\n",
       "    }\n",
       "</style>\n",
       "<table border=\"1\" class=\"dataframe\">\n",
       "  <thead>\n",
       "    <tr style=\"text-align: right;\">\n",
       "      <th></th>\n",
       "      <th>matchID</th>\n",
       "      <th>matchDateTime</th>\n",
       "      <th>timeZoneID</th>\n",
       "      <th>leagueId</th>\n",
       "      <th>leagueName</th>\n",
       "      <th>leagueSeason</th>\n",
       "      <th>leagueShortcut</th>\n",
       "      <th>matchDateTimeUTC</th>\n",
       "      <th>group</th>\n",
       "      <th>team1</th>\n",
       "      <th>team2</th>\n",
       "      <th>lastUpdateDateTime</th>\n",
       "      <th>matchIsFinished</th>\n",
       "      <th>matchResults</th>\n",
       "      <th>goals</th>\n",
       "      <th>location</th>\n",
       "      <th>numberOfViewers</th>\n",
       "    </tr>\n",
       "  </thead>\n",
       "  <tbody>\n",
       "    <tr>\n",
       "      <th>0</th>\n",
       "      <td>63864</td>\n",
       "      <td>2022-08-05T20:30:00</td>\n",
       "      <td>W. Europe Standard Time</td>\n",
       "      <td>4562</td>\n",
       "      <td>1. Fußball-Bundesliga 2022/2023</td>\n",
       "      <td>2022</td>\n",
       "      <td>bl1</td>\n",
       "      <td>2022-08-05T18:30:00Z</td>\n",
       "      <td>{'groupName': '1. Spieltag', 'groupOrderID': 1...</td>\n",
       "      <td>{'teamId': 91, 'teamName': 'Eintracht Frankfur...</td>\n",
       "      <td>{'teamId': 40, 'teamName': 'FC Bayern München'...</td>\n",
       "      <td>2022-08-14T09:42:12.96</td>\n",
       "      <td>True</td>\n",
       "      <td>[{'resultID': 98425, 'resultName': 'Endergebni...</td>\n",
       "      <td>[{'goalID': 95049, 'scoreTeam1': 0, 'scoreTeam...</td>\n",
       "      <td>{'locationID': 30, 'locationCity': 'Frankfurt'...</td>\n",
       "      <td>None</td>\n",
       "    </tr>\n",
       "    <tr>\n",
       "      <th>1</th>\n",
       "      <td>63865</td>\n",
       "      <td>2022-08-06T15:30:00</td>\n",
       "      <td>W. Europe Standard Time</td>\n",
       "      <td>4562</td>\n",
       "      <td>1. Fußball-Bundesliga 2022/2023</td>\n",
       "      <td>2022</td>\n",
       "      <td>bl1</td>\n",
       "      <td>2022-08-06T13:30:00Z</td>\n",
       "      <td>{'groupName': '1. Spieltag', 'groupOrderID': 1...</td>\n",
       "      <td>{'teamId': 95, 'teamName': 'FC Augsburg', 'sho...</td>\n",
       "      <td>{'teamId': 112, 'teamName': 'SC Freiburg', 'sh...</td>\n",
       "      <td>2023-03-12T12:25:38.537</td>\n",
       "      <td>True</td>\n",
       "      <td>[{'resultID': 98437, 'resultName': 'Endergebni...</td>\n",
       "      <td>[{'goalID': 95079, 'scoreTeam1': 0, 'scoreTeam...</td>\n",
       "      <td>{'locationID': 1029, 'locationCity': 'Augsburg...</td>\n",
       "      <td>None</td>\n",
       "    </tr>\n",
       "    <tr>\n",
       "      <th>2</th>\n",
       "      <td>63866</td>\n",
       "      <td>2022-08-06T15:30:00</td>\n",
       "      <td>W. Europe Standard Time</td>\n",
       "      <td>4562</td>\n",
       "      <td>1. Fußball-Bundesliga 2022/2023</td>\n",
       "      <td>2022</td>\n",
       "      <td>bl1</td>\n",
       "      <td>2022-08-06T13:30:00Z</td>\n",
       "      <td>{'groupName': '1. Spieltag', 'groupOrderID': 1...</td>\n",
       "      <td>{'teamId': 129, 'teamName': 'VfL Bochum', 'sho...</td>\n",
       "      <td>{'teamId': 81, 'teamName': '1. FSV Mainz 05', ...</td>\n",
       "      <td>2022-08-06T17:30:14.553</td>\n",
       "      <td>True</td>\n",
       "      <td>[{'resultID': 98445, 'resultName': 'Endergebni...</td>\n",
       "      <td>[{'goalID': 95072, 'scoreTeam1': 1, 'scoreTeam...</td>\n",
       "      <td>None</td>\n",
       "      <td>None</td>\n",
       "    </tr>\n",
       "    <tr>\n",
       "      <th>3</th>\n",
       "      <td>63868</td>\n",
       "      <td>2022-08-06T15:30:00</td>\n",
       "      <td>W. Europe Standard Time</td>\n",
       "      <td>4562</td>\n",
       "      <td>1. Fußball-Bundesliga 2022/2023</td>\n",
       "      <td>2022</td>\n",
       "      <td>bl1</td>\n",
       "      <td>2022-08-06T13:30:00Z</td>\n",
       "      <td>{'groupName': '1. Spieltag', 'groupOrderID': 1...</td>\n",
       "      <td>{'teamId': 87, 'teamName': 'Borussia Mönchengl...</td>\n",
       "      <td>{'teamId': 175, 'teamName': 'TSG 1899 Hoffenhe...</td>\n",
       "      <td>2022-08-06T17:23:32.847</td>\n",
       "      <td>True</td>\n",
       "      <td>[{'resultID': 98439, 'resultName': 'Endergebni...</td>\n",
       "      <td>[{'goalID': 95073, 'scoreTeam1': 1, 'scoreTeam...</td>\n",
       "      <td>None</td>\n",
       "      <td>None</td>\n",
       "    </tr>\n",
       "    <tr>\n",
       "      <th>4</th>\n",
       "      <td>63871</td>\n",
       "      <td>2022-08-06T15:30:00</td>\n",
       "      <td>W. Europe Standard Time</td>\n",
       "      <td>4562</td>\n",
       "      <td>1. Fußball-Bundesliga 2022/2023</td>\n",
       "      <td>2022</td>\n",
       "      <td>bl1</td>\n",
       "      <td>2022-08-06T13:30:00Z</td>\n",
       "      <td>{'groupName': '1. Spieltag', 'groupOrderID': 1...</td>\n",
       "      <td>{'teamId': 80, 'teamName': '1. FC Union Berlin...</td>\n",
       "      <td>{'teamId': 54, 'teamName': 'Hertha BSC', 'shor...</td>\n",
       "      <td>2023-03-12T12:24:55.59</td>\n",
       "      <td>True</td>\n",
       "      <td>[{'resultID': 98441, 'resultName': 'Endergebni...</td>\n",
       "      <td>[{'goalID': 95084, 'scoreTeam1': 3, 'scoreTeam...</td>\n",
       "      <td>{'locationID': 82, 'locationCity': 'Berlin', '...</td>\n",
       "      <td>None</td>\n",
       "    </tr>\n",
       "    <tr>\n",
       "      <th>5</th>\n",
       "      <td>63872</td>\n",
       "      <td>2022-08-06T15:30:00</td>\n",
       "      <td>W. Europe Standard Time</td>\n",
       "      <td>4562</td>\n",
       "      <td>1. Fußball-Bundesliga 2022/2023</td>\n",
       "      <td>2022</td>\n",
       "      <td>bl1</td>\n",
       "      <td>2022-08-06T13:30:00Z</td>\n",
       "      <td>{'groupName': '1. Spieltag', 'groupOrderID': 1...</td>\n",
       "      <td>{'teamId': 131, 'teamName': 'VfL Wolfsburg', '...</td>\n",
       "      <td>{'teamId': 134, 'teamName': 'Werder Bremen', '...</td>\n",
       "      <td>2022-08-06T17:25:48.177</td>\n",
       "      <td>True</td>\n",
       "      <td>[{'resultID': 98443, 'resultName': 'Endergebni...</td>\n",
       "      <td>[{'goalID': 95066, 'scoreTeam1': 1, 'scoreTeam...</td>\n",
       "      <td>None</td>\n",
       "      <td>None</td>\n",
       "    </tr>\n",
       "    <tr>\n",
       "      <th>6</th>\n",
       "      <td>63867</td>\n",
       "      <td>2022-08-06T18:30:00</td>\n",
       "      <td>W. Europe Standard Time</td>\n",
       "      <td>4562</td>\n",
       "      <td>1. Fußball-Bundesliga 2022/2023</td>\n",
       "      <td>2022</td>\n",
       "      <td>bl1</td>\n",
       "      <td>2022-08-06T16:30:00Z</td>\n",
       "      <td>{'groupName': '1. Spieltag', 'groupOrderID': 1...</td>\n",
       "      <td>{'teamId': 7, 'teamName': 'Borussia Dortmund',...</td>\n",
       "      <td>{'teamId': 6, 'teamName': 'Bayer Leverkusen', ...</td>\n",
       "      <td>2022-08-06T20:27:25.107</td>\n",
       "      <td>True</td>\n",
       "      <td>[{'resultID': 98447, 'resultName': 'Endergebni...</td>\n",
       "      <td>[{'goalID': 95086, 'scoreTeam1': 1, 'scoreTeam...</td>\n",
       "      <td>None</td>\n",
       "      <td>None</td>\n",
       "    </tr>\n",
       "    <tr>\n",
       "      <th>7</th>\n",
       "      <td>63870</td>\n",
       "      <td>2022-08-07T15:30:00</td>\n",
       "      <td>W. Europe Standard Time</td>\n",
       "      <td>4562</td>\n",
       "      <td>1. Fußball-Bundesliga 2022/2023</td>\n",
       "      <td>2022</td>\n",
       "      <td>bl1</td>\n",
       "      <td>2022-08-07T13:30:00Z</td>\n",
       "      <td>{'groupName': '1. Spieltag', 'groupOrderID': 1...</td>\n",
       "      <td>{'teamId': 16, 'teamName': 'VfB Stuttgart', 's...</td>\n",
       "      <td>{'teamId': 1635, 'teamName': 'RB Leipzig', 'sh...</td>\n",
       "      <td>2022-08-07T17:34:41.223</td>\n",
       "      <td>True</td>\n",
       "      <td>[{'resultID': 98457, 'resultName': 'Endergebni...</td>\n",
       "      <td>[{'goalID': 95098, 'scoreTeam1': 1, 'scoreTeam...</td>\n",
       "      <td>None</td>\n",
       "      <td>None</td>\n",
       "    </tr>\n",
       "    <tr>\n",
       "      <th>8</th>\n",
       "      <td>63869</td>\n",
       "      <td>2022-08-07T17:30:00</td>\n",
       "      <td>W. Europe Standard Time</td>\n",
       "      <td>4562</td>\n",
       "      <td>1. Fußball-Bundesliga 2022/2023</td>\n",
       "      <td>2022</td>\n",
       "      <td>bl1</td>\n",
       "      <td>2022-08-07T15:30:00Z</td>\n",
       "      <td>{'groupName': '1. Spieltag', 'groupOrderID': 1...</td>\n",
       "      <td>{'teamId': 65, 'teamName': '1. FC Köln', 'shor...</td>\n",
       "      <td>{'teamId': 9, 'teamName': 'FC Schalke 04', 'sh...</td>\n",
       "      <td>2022-08-07T20:34:59.85</td>\n",
       "      <td>True</td>\n",
       "      <td>[{'resultID': 98459, 'resultName': 'Endergebni...</td>\n",
       "      <td>[{'goalID': 95102, 'scoreTeam1': 2, 'scoreTeam...</td>\n",
       "      <td>None</td>\n",
       "      <td>None</td>\n",
       "    </tr>\n",
       "  </tbody>\n",
       "</table>\n",
       "</div>"
      ],
      "text/plain": [
       "   matchID        matchDateTime               timeZoneID  leagueId  \\\n",
       "0    63864  2022-08-05T20:30:00  W. Europe Standard Time      4562   \n",
       "1    63865  2022-08-06T15:30:00  W. Europe Standard Time      4562   \n",
       "2    63866  2022-08-06T15:30:00  W. Europe Standard Time      4562   \n",
       "3    63868  2022-08-06T15:30:00  W. Europe Standard Time      4562   \n",
       "4    63871  2022-08-06T15:30:00  W. Europe Standard Time      4562   \n",
       "5    63872  2022-08-06T15:30:00  W. Europe Standard Time      4562   \n",
       "6    63867  2022-08-06T18:30:00  W. Europe Standard Time      4562   \n",
       "7    63870  2022-08-07T15:30:00  W. Europe Standard Time      4562   \n",
       "8    63869  2022-08-07T17:30:00  W. Europe Standard Time      4562   \n",
       "\n",
       "                        leagueName  leagueSeason leagueShortcut  \\\n",
       "0  1. Fußball-Bundesliga 2022/2023          2022            bl1   \n",
       "1  1. Fußball-Bundesliga 2022/2023          2022            bl1   \n",
       "2  1. Fußball-Bundesliga 2022/2023          2022            bl1   \n",
       "3  1. Fußball-Bundesliga 2022/2023          2022            bl1   \n",
       "4  1. Fußball-Bundesliga 2022/2023          2022            bl1   \n",
       "5  1. Fußball-Bundesliga 2022/2023          2022            bl1   \n",
       "6  1. Fußball-Bundesliga 2022/2023          2022            bl1   \n",
       "7  1. Fußball-Bundesliga 2022/2023          2022            bl1   \n",
       "8  1. Fußball-Bundesliga 2022/2023          2022            bl1   \n",
       "\n",
       "       matchDateTimeUTC                                              group  \\\n",
       "0  2022-08-05T18:30:00Z  {'groupName': '1. Spieltag', 'groupOrderID': 1...   \n",
       "1  2022-08-06T13:30:00Z  {'groupName': '1. Spieltag', 'groupOrderID': 1...   \n",
       "2  2022-08-06T13:30:00Z  {'groupName': '1. Spieltag', 'groupOrderID': 1...   \n",
       "3  2022-08-06T13:30:00Z  {'groupName': '1. Spieltag', 'groupOrderID': 1...   \n",
       "4  2022-08-06T13:30:00Z  {'groupName': '1. Spieltag', 'groupOrderID': 1...   \n",
       "5  2022-08-06T13:30:00Z  {'groupName': '1. Spieltag', 'groupOrderID': 1...   \n",
       "6  2022-08-06T16:30:00Z  {'groupName': '1. Spieltag', 'groupOrderID': 1...   \n",
       "7  2022-08-07T13:30:00Z  {'groupName': '1. Spieltag', 'groupOrderID': 1...   \n",
       "8  2022-08-07T15:30:00Z  {'groupName': '1. Spieltag', 'groupOrderID': 1...   \n",
       "\n",
       "                                               team1  \\\n",
       "0  {'teamId': 91, 'teamName': 'Eintracht Frankfur...   \n",
       "1  {'teamId': 95, 'teamName': 'FC Augsburg', 'sho...   \n",
       "2  {'teamId': 129, 'teamName': 'VfL Bochum', 'sho...   \n",
       "3  {'teamId': 87, 'teamName': 'Borussia Mönchengl...   \n",
       "4  {'teamId': 80, 'teamName': '1. FC Union Berlin...   \n",
       "5  {'teamId': 131, 'teamName': 'VfL Wolfsburg', '...   \n",
       "6  {'teamId': 7, 'teamName': 'Borussia Dortmund',...   \n",
       "7  {'teamId': 16, 'teamName': 'VfB Stuttgart', 's...   \n",
       "8  {'teamId': 65, 'teamName': '1. FC Köln', 'shor...   \n",
       "\n",
       "                                               team2       lastUpdateDateTime  \\\n",
       "0  {'teamId': 40, 'teamName': 'FC Bayern München'...   2022-08-14T09:42:12.96   \n",
       "1  {'teamId': 112, 'teamName': 'SC Freiburg', 'sh...  2023-03-12T12:25:38.537   \n",
       "2  {'teamId': 81, 'teamName': '1. FSV Mainz 05', ...  2022-08-06T17:30:14.553   \n",
       "3  {'teamId': 175, 'teamName': 'TSG 1899 Hoffenhe...  2022-08-06T17:23:32.847   \n",
       "4  {'teamId': 54, 'teamName': 'Hertha BSC', 'shor...   2023-03-12T12:24:55.59   \n",
       "5  {'teamId': 134, 'teamName': 'Werder Bremen', '...  2022-08-06T17:25:48.177   \n",
       "6  {'teamId': 6, 'teamName': 'Bayer Leverkusen', ...  2022-08-06T20:27:25.107   \n",
       "7  {'teamId': 1635, 'teamName': 'RB Leipzig', 'sh...  2022-08-07T17:34:41.223   \n",
       "8  {'teamId': 9, 'teamName': 'FC Schalke 04', 'sh...   2022-08-07T20:34:59.85   \n",
       "\n",
       "   matchIsFinished                                       matchResults  \\\n",
       "0             True  [{'resultID': 98425, 'resultName': 'Endergebni...   \n",
       "1             True  [{'resultID': 98437, 'resultName': 'Endergebni...   \n",
       "2             True  [{'resultID': 98445, 'resultName': 'Endergebni...   \n",
       "3             True  [{'resultID': 98439, 'resultName': 'Endergebni...   \n",
       "4             True  [{'resultID': 98441, 'resultName': 'Endergebni...   \n",
       "5             True  [{'resultID': 98443, 'resultName': 'Endergebni...   \n",
       "6             True  [{'resultID': 98447, 'resultName': 'Endergebni...   \n",
       "7             True  [{'resultID': 98457, 'resultName': 'Endergebni...   \n",
       "8             True  [{'resultID': 98459, 'resultName': 'Endergebni...   \n",
       "\n",
       "                                               goals  \\\n",
       "0  [{'goalID': 95049, 'scoreTeam1': 0, 'scoreTeam...   \n",
       "1  [{'goalID': 95079, 'scoreTeam1': 0, 'scoreTeam...   \n",
       "2  [{'goalID': 95072, 'scoreTeam1': 1, 'scoreTeam...   \n",
       "3  [{'goalID': 95073, 'scoreTeam1': 1, 'scoreTeam...   \n",
       "4  [{'goalID': 95084, 'scoreTeam1': 3, 'scoreTeam...   \n",
       "5  [{'goalID': 95066, 'scoreTeam1': 1, 'scoreTeam...   \n",
       "6  [{'goalID': 95086, 'scoreTeam1': 1, 'scoreTeam...   \n",
       "7  [{'goalID': 95098, 'scoreTeam1': 1, 'scoreTeam...   \n",
       "8  [{'goalID': 95102, 'scoreTeam1': 2, 'scoreTeam...   \n",
       "\n",
       "                                            location numberOfViewers  \n",
       "0  {'locationID': 30, 'locationCity': 'Frankfurt'...            None  \n",
       "1  {'locationID': 1029, 'locationCity': 'Augsburg...            None  \n",
       "2                                               None            None  \n",
       "3                                               None            None  \n",
       "4  {'locationID': 82, 'locationCity': 'Berlin', '...            None  \n",
       "5                                               None            None  \n",
       "6                                               None            None  \n",
       "7                                               None            None  \n",
       "8                                               None            None  "
      ]
     },
     "execution_count": 6,
     "metadata": {},
     "output_type": "execute_result"
    }
   ],
   "source": [
    "spieltage_dfs = list()\n",
    "\n",
    "for json in jsons:\n",
    "    spieltage_dfs.append(pd.DataFrame.from_dict(json))\n",
    "spieltage_dfs[0]"
   ]
  },
  {
   "cell_type": "markdown",
   "metadata": {},
   "source": [
    "Die Team-Spalten sind nested:"
   ]
  },
  {
   "cell_type": "code",
   "execution_count": 7,
   "metadata": {},
   "outputs": [
    {
     "name": "stdout",
     "output_type": "stream",
     "text": [
      "Eintracht Frankfurt\n"
     ]
    }
   ],
   "source": [
    "spieltage_dfs[0][\"team1\"].iloc[0]\n",
    "print(spieltage_dfs[0][\"team1\"].iloc[0][\"teamName\"])\n"
   ]
  },
  {
   "cell_type": "code",
   "execution_count": 8,
   "metadata": {},
   "outputs": [
    {
     "name": "stderr",
     "output_type": "stream",
     "text": [
      "C:\\Anaconda\\lib\\site-packages\\pandas\\core\\indexing.py:670: SettingWithCopyWarning: \n",
      "A value is trying to be set on a copy of a slice from a DataFrame\n",
      "\n",
      "See the caveats in the documentation: https://pandas.pydata.org/pandas-docs/stable/user_guide/indexing.html#returning-a-view-versus-a-copy\n",
      "  iloc._setitem_with_indexer(indexer, value)\n"
     ]
    },
    {
     "data": {
      "text/html": [
       "<div>\n",
       "<style scoped>\n",
       "    .dataframe tbody tr th:only-of-type {\n",
       "        vertical-align: middle;\n",
       "    }\n",
       "\n",
       "    .dataframe tbody tr th {\n",
       "        vertical-align: top;\n",
       "    }\n",
       "\n",
       "    .dataframe thead th {\n",
       "        text-align: right;\n",
       "    }\n",
       "</style>\n",
       "<table border=\"1\" class=\"dataframe\">\n",
       "  <thead>\n",
       "    <tr style=\"text-align: right;\">\n",
       "      <th></th>\n",
       "      <th>team1</th>\n",
       "      <th>heim</th>\n",
       "      <th>team2</th>\n",
       "      <th>gast</th>\n",
       "    </tr>\n",
       "  </thead>\n",
       "  <tbody>\n",
       "    <tr>\n",
       "      <th>0</th>\n",
       "      <td>{'teamId': 91, 'teamName': 'Eintracht Frankfur...</td>\n",
       "      <td>Eintracht Frankfurt</td>\n",
       "      <td>{'teamId': 40, 'teamName': 'FC Bayern München'...</td>\n",
       "      <td>FC Bayern München</td>\n",
       "    </tr>\n",
       "    <tr>\n",
       "      <th>1</th>\n",
       "      <td>{'teamId': 95, 'teamName': 'FC Augsburg', 'sho...</td>\n",
       "      <td>FC Augsburg</td>\n",
       "      <td>{'teamId': 112, 'teamName': 'SC Freiburg', 'sh...</td>\n",
       "      <td>SC Freiburg</td>\n",
       "    </tr>\n",
       "    <tr>\n",
       "      <th>2</th>\n",
       "      <td>{'teamId': 129, 'teamName': 'VfL Bochum', 'sho...</td>\n",
       "      <td>VfL Bochum</td>\n",
       "      <td>{'teamId': 81, 'teamName': '1. FSV Mainz 05', ...</td>\n",
       "      <td>1. FSV Mainz 05</td>\n",
       "    </tr>\n",
       "    <tr>\n",
       "      <th>3</th>\n",
       "      <td>{'teamId': 87, 'teamName': 'Borussia Mönchengl...</td>\n",
       "      <td>Borussia Mönchengladbach</td>\n",
       "      <td>{'teamId': 175, 'teamName': 'TSG 1899 Hoffenhe...</td>\n",
       "      <td>TSG 1899 Hoffenheim</td>\n",
       "    </tr>\n",
       "    <tr>\n",
       "      <th>4</th>\n",
       "      <td>{'teamId': 80, 'teamName': '1. FC Union Berlin...</td>\n",
       "      <td>1. FC Union Berlin</td>\n",
       "      <td>{'teamId': 54, 'teamName': 'Hertha BSC', 'shor...</td>\n",
       "      <td>Hertha BSC</td>\n",
       "    </tr>\n",
       "  </tbody>\n",
       "</table>\n",
       "</div>"
      ],
      "text/plain": [
       "                                               team1  \\\n",
       "0  {'teamId': 91, 'teamName': 'Eintracht Frankfur...   \n",
       "1  {'teamId': 95, 'teamName': 'FC Augsburg', 'sho...   \n",
       "2  {'teamId': 129, 'teamName': 'VfL Bochum', 'sho...   \n",
       "3  {'teamId': 87, 'teamName': 'Borussia Mönchengl...   \n",
       "4  {'teamId': 80, 'teamName': '1. FC Union Berlin...   \n",
       "\n",
       "                       heim  \\\n",
       "0       Eintracht Frankfurt   \n",
       "1               FC Augsburg   \n",
       "2                VfL Bochum   \n",
       "3  Borussia Mönchengladbach   \n",
       "4        1. FC Union Berlin   \n",
       "\n",
       "                                               team2                 gast  \n",
       "0  {'teamId': 40, 'teamName': 'FC Bayern München'...    FC Bayern München  \n",
       "1  {'teamId': 112, 'teamName': 'SC Freiburg', 'sh...          SC Freiburg  \n",
       "2  {'teamId': 81, 'teamName': '1. FSV Mainz 05', ...      1. FSV Mainz 05  \n",
       "3  {'teamId': 175, 'teamName': 'TSG 1899 Hoffenhe...  TSG 1899 Hoffenheim  \n",
       "4  {'teamId': 54, 'teamName': 'Hertha BSC', 'shor...           Hertha BSC  "
      ]
     },
     "execution_count": 8,
     "metadata": {},
     "output_type": "execute_result"
    }
   ],
   "source": [
    "# unnest team1 and team 2:\n",
    "heim_gast_dict = {\"team1\" : \"heim\", \"team2\" : \"gast\"}\n",
    "for spieltag in spieltage_dfs:\n",
    "    for k, v in heim_gast_dict.items():\n",
    "        spieltag[v] = np.nan\n",
    "        for index, row in spieltag.iterrows():\n",
    "            spieltag[v].iloc[index] = spieltag[k].iloc[index][\"teamName\"]\n",
    "spieltage_dfs[0][[\"team1\",\"heim\", \"team2\",\"gast\"]].head()\n",
    "\n"
   ]
  },
  {
   "cell_type": "code",
   "execution_count": 9,
   "metadata": {},
   "outputs": [
    {
     "name": "stdout",
     "output_type": "stream",
     "text": [
      "{'resultID': 98425, 'resultName': 'Endergebnis', 'pointsTeam1': 1, 'pointsTeam2': 6, 'resultOrderID': 1, 'resultTypeID': 2, 'resultDescription': 'Ergebnis nach Ende der offiziellen Spielzeit'}\n"
     ]
    }
   ],
   "source": [
    "# Das Selbe für matchResults\n",
    "spieltage_dfs[0][\"matchResults\"].head()\n",
    "print(spieltage_dfs[0][\"matchResults\"].iloc[0][0])"
   ]
  },
  {
   "cell_type": "markdown",
   "metadata": {},
   "source": [
    "Die Einträge in matchResults sind jeweils zwei dicts, wobei das erste das Endergebnis beinhaltet.\n",
    "Wir wollen die erspielten Punkt für Heim- und Auswärtsteam an die Dataframes anhängen:\n",
    "Zunächst fügen wir Spalten für die Tore der Heim- und Gastmannschaft hinzu:"
   ]
  },
  {
   "cell_type": "code",
   "execution_count": 10,
   "metadata": {},
   "outputs": [
    {
     "name": "stderr",
     "output_type": "stream",
     "text": [
      "C:\\Anaconda\\lib\\site-packages\\pandas\\core\\indexing.py:670: SettingWithCopyWarning: \n",
      "A value is trying to be set on a copy of a slice from a DataFrame\n",
      "\n",
      "See the caveats in the documentation: https://pandas.pydata.org/pandas-docs/stable/user_guide/indexing.html#returning-a-view-versus-a-copy\n",
      "  iloc._setitem_with_indexer(indexer, value)\n"
     ]
    },
    {
     "data": {
      "text/plain": [
       "<bound method NDFrame.head of    matchID        matchDateTime               timeZoneID  leagueId  \\\n",
       "0    63864  2022-08-05T20:30:00  W. Europe Standard Time      4562   \n",
       "1    63865  2022-08-06T15:30:00  W. Europe Standard Time      4562   \n",
       "2    63866  2022-08-06T15:30:00  W. Europe Standard Time      4562   \n",
       "3    63868  2022-08-06T15:30:00  W. Europe Standard Time      4562   \n",
       "4    63871  2022-08-06T15:30:00  W. Europe Standard Time      4562   \n",
       "5    63872  2022-08-06T15:30:00  W. Europe Standard Time      4562   \n",
       "6    63867  2022-08-06T18:30:00  W. Europe Standard Time      4562   \n",
       "7    63870  2022-08-07T15:30:00  W. Europe Standard Time      4562   \n",
       "8    63869  2022-08-07T17:30:00  W. Europe Standard Time      4562   \n",
       "\n",
       "                        leagueName  leagueSeason leagueShortcut  \\\n",
       "0  1. Fußball-Bundesliga 2022/2023          2022            bl1   \n",
       "1  1. Fußball-Bundesliga 2022/2023          2022            bl1   \n",
       "2  1. Fußball-Bundesliga 2022/2023          2022            bl1   \n",
       "3  1. Fußball-Bundesliga 2022/2023          2022            bl1   \n",
       "4  1. Fußball-Bundesliga 2022/2023          2022            bl1   \n",
       "5  1. Fußball-Bundesliga 2022/2023          2022            bl1   \n",
       "6  1. Fußball-Bundesliga 2022/2023          2022            bl1   \n",
       "7  1. Fußball-Bundesliga 2022/2023          2022            bl1   \n",
       "8  1. Fußball-Bundesliga 2022/2023          2022            bl1   \n",
       "\n",
       "       matchDateTimeUTC                                              group  \\\n",
       "0  2022-08-05T18:30:00Z  {'groupName': '1. Spieltag', 'groupOrderID': 1...   \n",
       "1  2022-08-06T13:30:00Z  {'groupName': '1. Spieltag', 'groupOrderID': 1...   \n",
       "2  2022-08-06T13:30:00Z  {'groupName': '1. Spieltag', 'groupOrderID': 1...   \n",
       "3  2022-08-06T13:30:00Z  {'groupName': '1. Spieltag', 'groupOrderID': 1...   \n",
       "4  2022-08-06T13:30:00Z  {'groupName': '1. Spieltag', 'groupOrderID': 1...   \n",
       "5  2022-08-06T13:30:00Z  {'groupName': '1. Spieltag', 'groupOrderID': 1...   \n",
       "6  2022-08-06T16:30:00Z  {'groupName': '1. Spieltag', 'groupOrderID': 1...   \n",
       "7  2022-08-07T13:30:00Z  {'groupName': '1. Spieltag', 'groupOrderID': 1...   \n",
       "8  2022-08-07T15:30:00Z  {'groupName': '1. Spieltag', 'groupOrderID': 1...   \n",
       "\n",
       "                                               team1  ...  \\\n",
       "0  {'teamId': 91, 'teamName': 'Eintracht Frankfur...  ...   \n",
       "1  {'teamId': 95, 'teamName': 'FC Augsburg', 'sho...  ...   \n",
       "2  {'teamId': 129, 'teamName': 'VfL Bochum', 'sho...  ...   \n",
       "3  {'teamId': 87, 'teamName': 'Borussia Mönchengl...  ...   \n",
       "4  {'teamId': 80, 'teamName': '1. FC Union Berlin...  ...   \n",
       "5  {'teamId': 131, 'teamName': 'VfL Wolfsburg', '...  ...   \n",
       "6  {'teamId': 7, 'teamName': 'Borussia Dortmund',...  ...   \n",
       "7  {'teamId': 16, 'teamName': 'VfB Stuttgart', 's...  ...   \n",
       "8  {'teamId': 65, 'teamName': '1. FC Köln', 'shor...  ...   \n",
       "\n",
       "        lastUpdateDateTime matchIsFinished  \\\n",
       "0   2022-08-14T09:42:12.96            True   \n",
       "1  2023-03-12T12:25:38.537            True   \n",
       "2  2022-08-06T17:30:14.553            True   \n",
       "3  2022-08-06T17:23:32.847            True   \n",
       "4   2023-03-12T12:24:55.59            True   \n",
       "5  2022-08-06T17:25:48.177            True   \n",
       "6  2022-08-06T20:27:25.107            True   \n",
       "7  2022-08-07T17:34:41.223            True   \n",
       "8   2022-08-07T20:34:59.85            True   \n",
       "\n",
       "                                        matchResults  \\\n",
       "0  [{'resultID': 98425, 'resultName': 'Endergebni...   \n",
       "1  [{'resultID': 98437, 'resultName': 'Endergebni...   \n",
       "2  [{'resultID': 98445, 'resultName': 'Endergebni...   \n",
       "3  [{'resultID': 98439, 'resultName': 'Endergebni...   \n",
       "4  [{'resultID': 98441, 'resultName': 'Endergebni...   \n",
       "5  [{'resultID': 98443, 'resultName': 'Endergebni...   \n",
       "6  [{'resultID': 98447, 'resultName': 'Endergebni...   \n",
       "7  [{'resultID': 98457, 'resultName': 'Endergebni...   \n",
       "8  [{'resultID': 98459, 'resultName': 'Endergebni...   \n",
       "\n",
       "                                               goals  \\\n",
       "0  [{'goalID': 95049, 'scoreTeam1': 0, 'scoreTeam...   \n",
       "1  [{'goalID': 95079, 'scoreTeam1': 0, 'scoreTeam...   \n",
       "2  [{'goalID': 95072, 'scoreTeam1': 1, 'scoreTeam...   \n",
       "3  [{'goalID': 95073, 'scoreTeam1': 1, 'scoreTeam...   \n",
       "4  [{'goalID': 95084, 'scoreTeam1': 3, 'scoreTeam...   \n",
       "5  [{'goalID': 95066, 'scoreTeam1': 1, 'scoreTeam...   \n",
       "6  [{'goalID': 95086, 'scoreTeam1': 1, 'scoreTeam...   \n",
       "7  [{'goalID': 95098, 'scoreTeam1': 1, 'scoreTeam...   \n",
       "8  [{'goalID': 95102, 'scoreTeam1': 2, 'scoreTeam...   \n",
       "\n",
       "                                            location numberOfViewers  \\\n",
       "0  {'locationID': 30, 'locationCity': 'Frankfurt'...            None   \n",
       "1  {'locationID': 1029, 'locationCity': 'Augsburg...            None   \n",
       "2                                               None            None   \n",
       "3                                               None            None   \n",
       "4  {'locationID': 82, 'locationCity': 'Berlin', '...            None   \n",
       "5                                               None            None   \n",
       "6                                               None            None   \n",
       "7                                               None            None   \n",
       "8                                               None            None   \n",
       "\n",
       "                       heim                 gast Tore Heim  Tore Gast  \n",
       "0       Eintracht Frankfurt    FC Bayern München         1          6  \n",
       "1               FC Augsburg          SC Freiburg         0          4  \n",
       "2                VfL Bochum      1. FSV Mainz 05         1          2  \n",
       "3  Borussia Mönchengladbach  TSG 1899 Hoffenheim         3          1  \n",
       "4        1. FC Union Berlin           Hertha BSC         3          1  \n",
       "5             VfL Wolfsburg        Werder Bremen         2          2  \n",
       "6         Borussia Dortmund     Bayer Leverkusen         1          0  \n",
       "7             VfB Stuttgart           RB Leipzig         1          1  \n",
       "8                1. FC Köln        FC Schalke 04         3          1  \n",
       "\n",
       "[9 rows x 21 columns]>"
      ]
     },
     "execution_count": 10,
     "metadata": {},
     "output_type": "execute_result"
    }
   ],
   "source": [
    "endstand_dict = {\"Tore Heim\" : 'pointsTeam1', \"Tore Gast\" : 'pointsTeam2'} \n",
    "for spieltag in spieltage_dfs:\n",
    "    for k, v in endstand_dict.items():\n",
    "        spieltag[k] = np.nan\n",
    "        for index, row in spieltag.iterrows():\n",
    "            spieltag[k].iloc[index] = spieltag[\"matchResults\"].iloc[index][0][v]\n",
    "        spieltag[k] = spieltag[k].astype(\"int32\")\n",
    "spieltage_dfs[0].head"
   ]
  },
  {
   "cell_type": "markdown",
   "metadata": {},
   "source": [
    "Auf Basis des Endstands können wir jetzt die Punkte der beiden Gegner eintragen"
   ]
  },
  {
   "cell_type": "code",
   "execution_count": 11,
   "metadata": {},
   "outputs": [
    {
     "data": {
      "text/html": [
       "<div>\n",
       "<style scoped>\n",
       "    .dataframe tbody tr th:only-of-type {\n",
       "        vertical-align: middle;\n",
       "    }\n",
       "\n",
       "    .dataframe tbody tr th {\n",
       "        vertical-align: top;\n",
       "    }\n",
       "\n",
       "    .dataframe thead th {\n",
       "        text-align: right;\n",
       "    }\n",
       "</style>\n",
       "<table border=\"1\" class=\"dataframe\">\n",
       "  <thead>\n",
       "    <tr style=\"text-align: right;\">\n",
       "      <th></th>\n",
       "      <th>heim</th>\n",
       "      <th>gast</th>\n",
       "      <th>Tore Heim</th>\n",
       "      <th>Tore Gast</th>\n",
       "      <th>Punkte Heim</th>\n",
       "      <th>Punkte Gast</th>\n",
       "    </tr>\n",
       "  </thead>\n",
       "  <tbody>\n",
       "    <tr>\n",
       "      <th>0</th>\n",
       "      <td>Eintracht Frankfurt</td>\n",
       "      <td>FC Bayern München</td>\n",
       "      <td>1</td>\n",
       "      <td>6</td>\n",
       "      <td>0</td>\n",
       "      <td>3</td>\n",
       "    </tr>\n",
       "    <tr>\n",
       "      <th>1</th>\n",
       "      <td>FC Augsburg</td>\n",
       "      <td>SC Freiburg</td>\n",
       "      <td>0</td>\n",
       "      <td>4</td>\n",
       "      <td>0</td>\n",
       "      <td>3</td>\n",
       "    </tr>\n",
       "    <tr>\n",
       "      <th>2</th>\n",
       "      <td>VfL Bochum</td>\n",
       "      <td>1. FSV Mainz 05</td>\n",
       "      <td>1</td>\n",
       "      <td>2</td>\n",
       "      <td>0</td>\n",
       "      <td>3</td>\n",
       "    </tr>\n",
       "    <tr>\n",
       "      <th>3</th>\n",
       "      <td>Borussia Mönchengladbach</td>\n",
       "      <td>TSG 1899 Hoffenheim</td>\n",
       "      <td>3</td>\n",
       "      <td>1</td>\n",
       "      <td>3</td>\n",
       "      <td>0</td>\n",
       "    </tr>\n",
       "    <tr>\n",
       "      <th>4</th>\n",
       "      <td>1. FC Union Berlin</td>\n",
       "      <td>Hertha BSC</td>\n",
       "      <td>3</td>\n",
       "      <td>1</td>\n",
       "      <td>3</td>\n",
       "      <td>0</td>\n",
       "    </tr>\n",
       "    <tr>\n",
       "      <th>5</th>\n",
       "      <td>VfL Wolfsburg</td>\n",
       "      <td>Werder Bremen</td>\n",
       "      <td>2</td>\n",
       "      <td>2</td>\n",
       "      <td>1</td>\n",
       "      <td>1</td>\n",
       "    </tr>\n",
       "    <tr>\n",
       "      <th>6</th>\n",
       "      <td>Borussia Dortmund</td>\n",
       "      <td>Bayer Leverkusen</td>\n",
       "      <td>1</td>\n",
       "      <td>0</td>\n",
       "      <td>3</td>\n",
       "      <td>0</td>\n",
       "    </tr>\n",
       "    <tr>\n",
       "      <th>7</th>\n",
       "      <td>VfB Stuttgart</td>\n",
       "      <td>RB Leipzig</td>\n",
       "      <td>1</td>\n",
       "      <td>1</td>\n",
       "      <td>1</td>\n",
       "      <td>1</td>\n",
       "    </tr>\n",
       "    <tr>\n",
       "      <th>8</th>\n",
       "      <td>1. FC Köln</td>\n",
       "      <td>FC Schalke 04</td>\n",
       "      <td>3</td>\n",
       "      <td>1</td>\n",
       "      <td>3</td>\n",
       "      <td>0</td>\n",
       "    </tr>\n",
       "  </tbody>\n",
       "</table>\n",
       "</div>"
      ],
      "text/plain": [
       "                       heim                 gast  Tore Heim  Tore Gast  \\\n",
       "0       Eintracht Frankfurt    FC Bayern München          1          6   \n",
       "1               FC Augsburg          SC Freiburg          0          4   \n",
       "2                VfL Bochum      1. FSV Mainz 05          1          2   \n",
       "3  Borussia Mönchengladbach  TSG 1899 Hoffenheim          3          1   \n",
       "4        1. FC Union Berlin           Hertha BSC          3          1   \n",
       "5             VfL Wolfsburg        Werder Bremen          2          2   \n",
       "6         Borussia Dortmund     Bayer Leverkusen          1          0   \n",
       "7             VfB Stuttgart           RB Leipzig          1          1   \n",
       "8                1. FC Köln        FC Schalke 04          3          1   \n",
       "\n",
       "   Punkte Heim  Punkte Gast  \n",
       "0            0            3  \n",
       "1            0            3  \n",
       "2            0            3  \n",
       "3            3            0  \n",
       "4            3            0  \n",
       "5            1            1  \n",
       "6            3            0  \n",
       "7            1            1  \n",
       "8            3            0  "
      ]
     },
     "execution_count": 11,
     "metadata": {},
     "output_type": "execute_result"
    }
   ],
   "source": [
    "for spieltag in spieltage_dfs:\n",
    "    spieltag[\"Punkte Heim\"] = np.where(spieltag[\"Tore Heim\"] > spieltag[\"Tore Gast\"], 3, np.where(spieltag[\"Tore Heim\"] < spieltag[\"Tore Gast\"],0,1))\n",
    "    spieltag[\"Punkte Gast\"] = np.where(spieltag[\"Tore Heim\"] > spieltag[\"Tore Gast\"], 0, np.where(spieltag[\"Tore Heim\"] < spieltag[\"Tore Gast\"],3,1))\n",
    "    \n",
    "spieltage_dfs[0].loc[:, \"heim\":]"
   ]
  },
  {
   "cell_type": "markdown",
   "metadata": {},
   "source": [
    "Als nächstes wollen wir die Zuschauerzahlen der Spiele hinzufügen. Diese kann man über die Seite des Kickers einlesen: Wie zu vor fügt man die Spieltagsnummer hinten in den Link hinzu:"
   ]
  },
  {
   "cell_type": "code",
   "execution_count": 12,
   "metadata": {},
   "outputs": [
    {
     "name": "stdout",
     "output_type": "stream",
     "text": [
      "['https://www.kicker.de/bundesliga/zuschauer-spieltag/2022-23/1', 'https://www.kicker.de/bundesliga/zuschauer-spieltag/2022-23/2', 'https://www.kicker.de/bundesliga/zuschauer-spieltag/2022-23/3', 'https://www.kicker.de/bundesliga/zuschauer-spieltag/2022-23/4', 'https://www.kicker.de/bundesliga/zuschauer-spieltag/2022-23/5', 'https://www.kicker.de/bundesliga/zuschauer-spieltag/2022-23/6', 'https://www.kicker.de/bundesliga/zuschauer-spieltag/2022-23/7', 'https://www.kicker.de/bundesliga/zuschauer-spieltag/2022-23/8', 'https://www.kicker.de/bundesliga/zuschauer-spieltag/2022-23/9', 'https://www.kicker.de/bundesliga/zuschauer-spieltag/2022-23/10', 'https://www.kicker.de/bundesliga/zuschauer-spieltag/2022-23/11', 'https://www.kicker.de/bundesliga/zuschauer-spieltag/2022-23/12', 'https://www.kicker.de/bundesliga/zuschauer-spieltag/2022-23/13', 'https://www.kicker.de/bundesliga/zuschauer-spieltag/2022-23/14', 'https://www.kicker.de/bundesliga/zuschauer-spieltag/2022-23/15', 'https://www.kicker.de/bundesliga/zuschauer-spieltag/2022-23/16', 'https://www.kicker.de/bundesliga/zuschauer-spieltag/2022-23/17', 'https://www.kicker.de/bundesliga/zuschauer-spieltag/2022-23/18', 'https://www.kicker.de/bundesliga/zuschauer-spieltag/2022-23/19', 'https://www.kicker.de/bundesliga/zuschauer-spieltag/2022-23/20', 'https://www.kicker.de/bundesliga/zuschauer-spieltag/2022-23/21', 'https://www.kicker.de/bundesliga/zuschauer-spieltag/2022-23/22', 'https://www.kicker.de/bundesliga/zuschauer-spieltag/2022-23/23', 'https://www.kicker.de/bundesliga/zuschauer-spieltag/2022-23/24', 'https://www.kicker.de/bundesliga/zuschauer-spieltag/2022-23/25', 'https://www.kicker.de/bundesliga/zuschauer-spieltag/2022-23/26', 'https://www.kicker.de/bundesliga/zuschauer-spieltag/2022-23/27', 'https://www.kicker.de/bundesliga/zuschauer-spieltag/2022-23/28', 'https://www.kicker.de/bundesliga/zuschauer-spieltag/2022-23/29', 'https://www.kicker.de/bundesliga/zuschauer-spieltag/2022-23/30', 'https://www.kicker.de/bundesliga/zuschauer-spieltag/2022-23/31', 'https://www.kicker.de/bundesliga/zuschauer-spieltag/2022-23/32', 'https://www.kicker.de/bundesliga/zuschauer-spieltag/2022-23/33', 'https://www.kicker.de/bundesliga/zuschauer-spieltag/2022-23/34']\n"
     ]
    }
   ],
   "source": [
    "from bs4 import BeautifulSoup\n",
    "kicker_urls = list()\n",
    "for tag in spieltage:\n",
    "    url = \"https://www.kicker.de/bundesliga/zuschauer-spieltag/2022-23/\" + str(tag)\n",
    "    kicker_urls.append(url)\n",
    "    \n",
    "print(kicker_urls)"
   ]
  },
  {
   "cell_type": "markdown",
   "metadata": {},
   "source": [
    "Wir legen eine Liste mit dem Inhalt der Webseiten an:"
   ]
  },
  {
   "cell_type": "code",
   "execution_count": 13,
   "metadata": {},
   "outputs": [],
   "source": [
    "zuschauer_soups = list()\n",
    "for url in kicker_urls:\n",
    "    zuschauer_soups.append(BeautifulSoup(requests.get(url).text))"
   ]
  },
  {
   "cell_type": "code",
   "execution_count": 14,
   "metadata": {},
   "outputs": [
    {
     "name": "stdout",
     "output_type": "stream",
     "text": [
      "<table class=\"kick__table kick__table--ranking kick__table--alternate kick__table--resptabelle\">\n",
      "<tbody>\n",
      "<tr>\n",
      "<th class=\"kick__t__a__l kick__respt-m-o-1 kick__respt-m-w-230\"><a class=\"kick__table-sort\" data-sort-column=\"paarung\" data-sort-order=\"asc\" data-sort-target=\"spectatorsContent\" href=\"#\">Paarung</a></th>\n",
      "<th class=\"kick__t__a__l kick__respt-m-o-3 kick__respt-m-w-180\"><a class=\"kick__table-sort\" data-sort-column=\"stadion\" data-sort-order=\"asc\" data-sort-target=\"spectatorsContent\" href=\"#\">Stadion</a></th>\n",
      "<th class=\"kick__table--ranking__master kick__respt-m-o-2 kick__respt-m-w-90 kick__respt-m-flexstart\"><a class=\"kick__table-sort\" data-sort-column=\"zuschauer\" data-sort-order=\"asc\" data-sort-target=\"spectatorsContent\" href=\"#\">Zuschauer<span class=\"kick__table-sort__pointer kick__icon-DropDown kick__table-sort__pointer--selected\"></span></a></th>\n",
      "</tr>\n",
      "<tr>\n",
      "<td class=\"kick__respt-m-o-1 kick__respt-m-w-230\">\n",
      "<div class=\"kick__v100-gameCell kick__v100-gameCell--standard\">\n",
      "<a class=\"kick__v100-gameCell__team\" href=\"/borussia-dortmund/info\">\n",
      "<div class=\"kick__v100-gameCell__team__name\">Dortmund <span class=\"kick__v100-gameCell__team__info\"></span></div>\n",
      "<div class=\"kick__v100-gameCell__team__shortname\">Dortmund <span class=\"kick__v100-gameCell__team__info\"></span></div>\n",
      "<div class=\"kick__v100-gameCell__team__logo\">\n",
      "<picture class=\"\"><source data-srcset=\"https://derivates.kicker.de/image/fetch/f_webp,w_30,h_30,c_fit,q_auto:best/https://mediadb.kicker.de/2009/fussball/vereine/xxl/17_20150212741.png 1x, https://derivates.kicker.de/image/fetch/f_webp,w_60,h_60,c_fit,q_auto:best/https://mediadb.kicker.de/2009/fussball/vereine/xxl/17_20150212741.png 2x\" type=\"image/webp\"><source data-srcset=\"https://derivates.kicker.de/image/fetch/w_30,h_30,c_fit,q_auto:best/https://mediadb.kicker.de/2009/fussball/vereine/xxl/17_20150212741.png 1x, https://derivates.kicker.de/image/fetch/w_60,h_60,c_fit,q_auto:best/https://mediadb.kicker.de/2009/fussball/vereine/xxl/17_20150212741.png 2x\"><img alt=\"Borussia Dortmund\" class=\"lazyload\" data-src=\"https://derivates.kicker.de/image/fetch/w_30,h_30,c_fit,q_auto:best/https://mediadb.kicker.de/2009/fussball/vereine/xxl/17_20150212741.png\" src=\"data:image/png;base64,iVBORw0KGgoAAAANSUhEUgAAAAIAAAABCAYAAAD0In+KAAAAC0lEQVQI12NggAIAAAkAAWMqFg0AAAAASUVORK5CYII=\"/></source></source></picture>\n",
      "</div>\n",
      "</a>\n",
      "<span class=\"kick__v100-scoreBoard kick__v100-scoreBoard--standard\">\n",
      "<div class=\"kick__v100-scoreBoard__scoreHolder\">\n",
      "<div class=\"kick__v100-scoreBoard__scoreHolder__score\">1</div>\n",
      "<div class=\"kick__v100-scoreBoard__scoreHolder__divider\">:</div>\n",
      "<div class=\"kick__v100-scoreBoard__scoreHolder__score\">0</div>\n",
      "</div>\n",
      "<div class=\"kick__v100-scoreBoard__scoreHolder kick__v100-scoreBoard__scoreHolder--subscore\">\n",
      "<div class=\"kick__v100-scoreBoard__scoreHolder__score\">1</div>\n",
      "<div class=\"kick__v100-scoreBoard__scoreHolder__divider\">:</div>\n",
      "<div class=\"kick__v100-scoreBoard__scoreHolder__score\">0</div>\n",
      "</div>\n",
      "</span>\n",
      "<a class=\"kick__v100-gameCell__team\" href=\"/bayer-04-leverkusen/info\">\n",
      "<div class=\"kick__v100-gameCell__team__logo\">\n",
      "<picture class=\"\"><source data-srcset=\"https://derivates.kicker.de/image/fetch/f_webp,w_30,h_30,c_fit,q_auto:best/https://mediadb.kicker.de/2019/fussball/vereine/xxl/9_20181114991.png 1x, https://derivates.kicker.de/image/fetch/f_webp,w_60,h_60,c_fit,q_auto:best/https://mediadb.kicker.de/2019/fussball/vereine/xxl/9_20181114991.png 2x\" type=\"image/webp\"><source data-srcset=\"https://derivates.kicker.de/image/fetch/w_30,h_30,c_fit,q_auto:best/https://mediadb.kicker.de/2019/fussball/vereine/xxl/9_20181114991.png 1x, https://derivates.kicker.de/image/fetch/w_60,h_60,c_fit,q_auto:best/https://mediadb.kicker.de/2019/fussball/vereine/xxl/9_20181114991.png 2x\"><img alt=\"Bayer 04 Leverkusen\" class=\"lazyload\" data-src=\"https://derivates.kicker.de/image/fetch/w_30,h_30,c_fit,q_auto:best/https://mediadb.kicker.de/2019/fussball/vereine/xxl/9_20181114991.png\" src=\"data:image/png;base64,iVBORw0KGgoAAAANSUhEUgAAAAIAAAABCAYAAAD0In+KAAAAC0lEQVQI12NggAIAAAkAAWMqFg0AAAAASUVORK5CYII=\"/></source></source></picture>\n",
      "</div>\n",
      "<div class=\"kick__v100-gameCell__team__name\">Leverkusen <span class=\"kick__v100-gameCell__team__info\"></span></div>\n",
      "<div class=\"kick__v100-gameCell__team__shortname\">Leverkusen <span class=\"kick__v100-gameCell__team__info\"></span></div>\n",
      "</a>\n",
      "</div>\n",
      "</td>\n",
      "<td class=\"kick__t__a__l kick__respt-m-o-3 kick__respt-m-w-180\">Signal-Iduna-Park</td>\n",
      "<td class=\"kick__table--ranking__master kick__respt-m-o-2 kick__respt-m-w-90 kick__respt-m-flexstart\">81.365</td>\n",
      "</tr>\n",
      "<tr>\n",
      "<td class=\"kick__respt-m-o-1 kick__respt-m-w-230\">\n",
      "<div class=\"kick__v100-gameCell kick__v100-gameCell--standard\">\n",
      "<a class=\"kick__v100-gameCell__team\" href=\"/eintracht-frankfurt/info\">\n",
      "<div class=\"kick__v100-gameCell__team__name\">Frankfurt <span class=\"kick__v100-gameCell__team__info\"></span></div>\n",
      "<div class=\"kick__v100-gameCell__team__shortname\">Frankfurt <span class=\"kick__v100-gameCell__team__info\"></span></div>\n",
      "<div class=\"kick__v100-gameCell__team__logo\">\n",
      "<picture class=\"\"><source data-srcset=\"https://derivates.kicker.de/image/fetch/f_webp,w_30,h_30,c_fit,q_auto:best/https://mediadb.kicker.de/2009/fussball/vereine/xxl/32_20150225827.png 1x, https://derivates.kicker.de/image/fetch/f_webp,w_60,h_60,c_fit,q_auto:best/https://mediadb.kicker.de/2009/fussball/vereine/xxl/32_20150225827.png 2x\" type=\"image/webp\"><source data-srcset=\"https://derivates.kicker.de/image/fetch/w_30,h_30,c_fit,q_auto:best/https://mediadb.kicker.de/2009/fussball/vereine/xxl/32_20150225827.png 1x, https://derivates.kicker.de/image/fetch/w_60,h_60,c_fit,q_auto:best/https://mediadb.kicker.de/2009/fussball/vereine/xxl/32_20150225827.png 2x\"><img alt=\"Eintracht Frankfurt\" class=\"lazyload\" data-src=\"https://derivates.kicker.de/image/fetch/w_30,h_30,c_fit,q_auto:best/https://mediadb.kicker.de/2009/fussball/vereine/xxl/32_20150225827.png\" src=\"data:image/png;base64,iVBORw0KGgoAAAANSUhEUgAAAAIAAAABCAYAAAD0In+KAAAAC0lEQVQI12NggAIAAAkAAWMqFg0AAAAASUVORK5CYII=\"/></source></source></picture>\n",
      "</div>\n",
      "</a>\n",
      "<span class=\"kick__v100-scoreBoard kick__v100-scoreBoard--standard\">\n",
      "<div class=\"kick__v100-scoreBoard__scoreHolder\">\n",
      "<div class=\"kick__v100-scoreBoard__scoreHolder__score\">1</div>\n",
      "<div class=\"kick__v100-scoreBoard__scoreHolder__divider\">:</div>\n",
      "<div class=\"kick__v100-scoreBoard__scoreHolder__score\">6</div>\n",
      "</div>\n",
      "<div class=\"kick__v100-scoreBoard__scoreHolder kick__v100-scoreBoard__scoreHolder--subscore\">\n",
      "<div class=\"kick__v100-scoreBoard__scoreHolder__score\">0</div>\n",
      "<div class=\"kick__v100-scoreBoard__scoreHolder__divider\">:</div>\n",
      "<div class=\"kick__v100-scoreBoard__scoreHolder__score\">5</div>\n",
      "</div>\n",
      "</span>\n",
      "<a class=\"kick__v100-gameCell__team\" href=\"/fc-bayern-muenchen/info\">\n",
      "<div class=\"kick__v100-gameCell__team__logo\">\n",
      "<picture class=\"\"><source data-srcset=\"https://derivates.kicker.de/image/fetch/f_webp,w_30,h_30,c_fit,q_auto:best/https://mediadb.kicker.de/2018/fussball/vereine/xxl/14_20170731800.png 1x, https://derivates.kicker.de/image/fetch/f_webp,w_60,h_60,c_fit,q_auto:best/https://mediadb.kicker.de/2018/fussball/vereine/xxl/14_20170731800.png 2x\" type=\"image/webp\"><source data-srcset=\"https://derivates.kicker.de/image/fetch/w_30,h_30,c_fit,q_auto:best/https://mediadb.kicker.de/2018/fussball/vereine/xxl/14_20170731800.png 1x, https://derivates.kicker.de/image/fetch/w_60,h_60,c_fit,q_auto:best/https://mediadb.kicker.de/2018/fussball/vereine/xxl/14_20170731800.png 2x\"><img alt=\"Bayern München\" class=\"lazyload\" data-src=\"https://derivates.kicker.de/image/fetch/w_30,h_30,c_fit,q_auto:best/https://mediadb.kicker.de/2018/fussball/vereine/xxl/14_20170731800.png\" src=\"data:image/png;base64,iVBORw0KGgoAAAANSUhEUgAAAAIAAAABCAYAAAD0In+KAAAAC0lEQVQI12NggAIAAAkAAWMqFg0AAAAASUVORK5CYII=\"/></source></source></picture>\n",
      "</div>\n",
      "<div class=\"kick__v100-gameCell__team__name\">Bayern <span class=\"kick__v100-gameCell__team__info\"></span></div>\n",
      "<div class=\"kick__v100-gameCell__team__shortname\">Bayern <span class=\"kick__v100-gameCell__team__info\"></span></div>\n",
      "</a>\n",
      "</div>\n",
      "</td>\n",
      "<td class=\"kick__t__a__l kick__respt-m-o-3 kick__respt-m-w-180\">Deutsche Bank Park</td>\n",
      "<td class=\"kick__table--ranking__master kick__respt-m-o-2 kick__respt-m-w-90 kick__respt-m-flexstart\">51.500</td>\n",
      "</tr>\n",
      "<tr>\n",
      "<td class=\"kick__respt-m-o-1 kick__respt-m-w-230\">\n",
      "<div class=\"kick__v100-gameCell kick__v100-gameCell--standard\">\n",
      "<a class=\"kick__v100-gameCell__team\" href=\"/1-fc-koeln/info\">\n",
      "<div class=\"kick__v100-gameCell__team__name\">Köln <span class=\"kick__v100-gameCell__team__info\"></span></div>\n",
      "<div class=\"kick__v100-gameCell__team__shortname\">Köln <span class=\"kick__v100-gameCell__team__info\"></span></div>\n",
      "<div class=\"kick__v100-gameCell__team__logo\">\n",
      "<picture class=\"\"><source data-srcset=\"https://derivates.kicker.de/image/fetch/f_webp,w_30,h_30,c_fit,q_auto:best/https://mediadb.kicker.de/2009/fussball/vereine/xxl/16_20211110549.png 1x, https://derivates.kicker.de/image/fetch/f_webp,w_60,h_60,c_fit,q_auto:best/https://mediadb.kicker.de/2009/fussball/vereine/xxl/16_20211110549.png 2x\" type=\"image/webp\"><source data-srcset=\"https://derivates.kicker.de/image/fetch/w_30,h_30,c_fit,q_auto:best/https://mediadb.kicker.de/2009/fussball/vereine/xxl/16_20211110549.png 1x, https://derivates.kicker.de/image/fetch/w_60,h_60,c_fit,q_auto:best/https://mediadb.kicker.de/2009/fussball/vereine/xxl/16_20211110549.png 2x\"><img alt=\"1. FC Köln\" class=\"lazyload\" data-src=\"https://derivates.kicker.de/image/fetch/w_30,h_30,c_fit,q_auto:best/https://mediadb.kicker.de/2009/fussball/vereine/xxl/16_20211110549.png\" src=\"data:image/png;base64,iVBORw0KGgoAAAANSUhEUgAAAAIAAAABCAYAAAD0In+KAAAAC0lEQVQI12NggAIAAAkAAWMqFg0AAAAASUVORK5CYII=\"/></source></source></picture>\n",
      "</div>\n",
      "</a>\n",
      "<span class=\"kick__v100-scoreBoard kick__v100-scoreBoard--standard\">\n",
      "<div class=\"kick__v100-scoreBoard__scoreHolder\">\n",
      "<div class=\"kick__v100-scoreBoard__scoreHolder__score\">3</div>\n",
      "<div class=\"kick__v100-scoreBoard__scoreHolder__divider\">:</div>\n",
      "<div class=\"kick__v100-scoreBoard__scoreHolder__score\">1</div>\n",
      "</div>\n",
      "<div class=\"kick__v100-scoreBoard__scoreHolder kick__v100-scoreBoard__scoreHolder--subscore\">\n",
      "<div class=\"kick__v100-scoreBoard__scoreHolder__score\">0</div>\n",
      "<div class=\"kick__v100-scoreBoard__scoreHolder__divider\">:</div>\n",
      "<div class=\"kick__v100-scoreBoard__scoreHolder__score\">0</div>\n",
      "</div>\n",
      "</span>\n",
      "<a class=\"kick__v100-gameCell__team\" href=\"/fc-schalke-04/info\">\n",
      "<div class=\"kick__v100-gameCell__team__logo\">\n",
      "<picture class=\"\"><source data-srcset=\"https://derivates.kicker.de/image/fetch/f_webp,w_30,h_30,c_fit,q_auto:best/https://mediadb.kicker.de/2009/fussball/vereine/xxl/2.png 1x, https://derivates.kicker.de/image/fetch/f_webp,w_60,h_60,c_fit,q_auto:best/https://mediadb.kicker.de/2009/fussball/vereine/xxl/2.png 2x\" type=\"image/webp\"><source data-srcset=\"https://derivates.kicker.de/image/fetch/w_30,h_30,c_fit,q_auto:best/https://mediadb.kicker.de/2009/fussball/vereine/xxl/2.png 1x, https://derivates.kicker.de/image/fetch/w_60,h_60,c_fit,q_auto:best/https://mediadb.kicker.de/2009/fussball/vereine/xxl/2.png 2x\"><img alt=\"FC Schalke 04\" class=\"lazyload\" data-src=\"https://derivates.kicker.de/image/fetch/w_30,h_30,c_fit,q_auto:best/https://mediadb.kicker.de/2009/fussball/vereine/xxl/2.png\" src=\"data:image/png;base64,iVBORw0KGgoAAAANSUhEUgAAAAIAAAABCAYAAAD0In+KAAAAC0lEQVQI12NggAIAAAkAAWMqFg0AAAAASUVORK5CYII=\"/></source></source></picture>\n",
      "</div>\n",
      "<div class=\"kick__v100-gameCell__team__name\">Schalke <span class=\"kick__v100-gameCell__team__info\"></span></div>\n",
      "<div class=\"kick__v100-gameCell__team__shortname\">Schalke <span class=\"kick__v100-gameCell__team__info\"></span></div>\n",
      "</a>\n",
      "</div>\n",
      "</td>\n",
      "<td class=\"kick__t__a__l kick__respt-m-o-3 kick__respt-m-w-180\">Rhein-Energie-Stadion</td>\n",
      "<td class=\"kick__table--ranking__master kick__respt-m-o-2 kick__respt-m-w-90 kick__respt-m-flexstart\">50.000</td>\n",
      "</tr>\n",
      "<tr>\n",
      "<td class=\"kick__respt-m-o-1 kick__respt-m-w-230\">\n",
      "<div class=\"kick__v100-gameCell kick__v100-gameCell--standard\">\n",
      "<a class=\"kick__v100-gameCell__team\" href=\"/bor-moenchengladbach/info\">\n",
      "<div class=\"kick__v100-gameCell__team__name\">Gladbach <span class=\"kick__v100-gameCell__team__info\"></span></div>\n",
      "<div class=\"kick__v100-gameCell__team__shortname\">Gladbach <span class=\"kick__v100-gameCell__team__info\"></span></div>\n",
      "<div class=\"kick__v100-gameCell__team__logo\">\n",
      "<picture class=\"\"><source data-srcset=\"https://derivates.kicker.de/image/fetch/f_webp,w_30,h_30,c_fit,q_auto:best/https://mediadb.kicker.de/2016/fussball/vereine/xxl/15_20160215335.png 1x, https://derivates.kicker.de/image/fetch/f_webp,w_60,h_60,c_fit,q_auto:best/https://mediadb.kicker.de/2016/fussball/vereine/xxl/15_20160215335.png 2x\" type=\"image/webp\"><source data-srcset=\"https://derivates.kicker.de/image/fetch/w_30,h_30,c_fit,q_auto:best/https://mediadb.kicker.de/2016/fussball/vereine/xxl/15_20160215335.png 1x, https://derivates.kicker.de/image/fetch/w_60,h_60,c_fit,q_auto:best/https://mediadb.kicker.de/2016/fussball/vereine/xxl/15_20160215335.png 2x\"><img alt=\"Bor. Mönchengladbach\" class=\"lazyload\" data-src=\"https://derivates.kicker.de/image/fetch/w_30,h_30,c_fit,q_auto:best/https://mediadb.kicker.de/2016/fussball/vereine/xxl/15_20160215335.png\" src=\"data:image/png;base64,iVBORw0KGgoAAAANSUhEUgAAAAIAAAABCAYAAAD0In+KAAAAC0lEQVQI12NggAIAAAkAAWMqFg0AAAAASUVORK5CYII=\"/></source></source></picture>\n",
      "</div>\n",
      "</a>\n",
      "<span class=\"kick__v100-scoreBoard kick__v100-scoreBoard--standard\">\n",
      "<div class=\"kick__v100-scoreBoard__scoreHolder\">\n",
      "<div class=\"kick__v100-scoreBoard__scoreHolder__score\">3</div>\n",
      "<div class=\"kick__v100-scoreBoard__scoreHolder__divider\">:</div>\n",
      "<div class=\"kick__v100-scoreBoard__scoreHolder__score\">1</div>\n",
      "</div>\n",
      "<div class=\"kick__v100-scoreBoard__scoreHolder kick__v100-scoreBoard__scoreHolder--subscore\">\n",
      "<div class=\"kick__v100-scoreBoard__scoreHolder__score\">1</div>\n",
      "<div class=\"kick__v100-scoreBoard__scoreHolder__divider\">:</div>\n",
      "<div class=\"kick__v100-scoreBoard__scoreHolder__score\">1</div>\n",
      "</div>\n",
      "</span>\n",
      "<a class=\"kick__v100-gameCell__team\" href=\"/tsg-hoffenheim/info\">\n",
      "<div class=\"kick__v100-gameCell__team__logo\">\n",
      "<picture class=\"\"><source data-srcset=\"https://derivates.kicker.de/image/fetch/f_webp,w_30,h_30,c_fit,q_auto:best/https://mediadb.kicker.de/2017/fussball/vereine/xxl/3209_20160810540.png 1x, https://derivates.kicker.de/image/fetch/f_webp,w_60,h_60,c_fit,q_auto:best/https://mediadb.kicker.de/2017/fussball/vereine/xxl/3209_20160810540.png 2x\" type=\"image/webp\"><source data-srcset=\"https://derivates.kicker.de/image/fetch/w_30,h_30,c_fit,q_auto:best/https://mediadb.kicker.de/2017/fussball/vereine/xxl/3209_20160810540.png 1x, https://derivates.kicker.de/image/fetch/w_60,h_60,c_fit,q_auto:best/https://mediadb.kicker.de/2017/fussball/vereine/xxl/3209_20160810540.png 2x\"><img alt=\"TSG Hoffenheim\" class=\"lazyload\" data-src=\"https://derivates.kicker.de/image/fetch/w_30,h_30,c_fit,q_auto:best/https://mediadb.kicker.de/2017/fussball/vereine/xxl/3209_20160810540.png\" src=\"data:image/png;base64,iVBORw0KGgoAAAANSUhEUgAAAAIAAAABCAYAAAD0In+KAAAAC0lEQVQI12NggAIAAAkAAWMqFg0AAAAASUVORK5CYII=\"/></source></source></picture>\n",
      "</div>\n",
      "<div class=\"kick__v100-gameCell__team__name\">Hoffenheim <span class=\"kick__v100-gameCell__team__info\"></span></div>\n",
      "<div class=\"kick__v100-gameCell__team__shortname\">Hoffenheim <span class=\"kick__v100-gameCell__team__info\"></span></div>\n",
      "</a>\n",
      "</div>\n",
      "</td>\n",
      "<td class=\"kick__t__a__l kick__respt-m-o-3 kick__respt-m-w-180\">Borussia-Park</td>\n",
      "<td class=\"kick__table--ranking__master kick__respt-m-o-2 kick__respt-m-w-90 kick__respt-m-flexstart\">49.659</td>\n",
      "</tr>\n",
      "<tr>\n",
      "<td class=\"kick__respt-m-o-1 kick__respt-m-w-230\">\n",
      "<div class=\"kick__v100-gameCell kick__v100-gameCell--standard\">\n",
      "<a class=\"kick__v100-gameCell__team\" href=\"/vfb-stuttgart/info\">\n",
      "<div class=\"kick__v100-gameCell__team__name\">Stuttgart <span class=\"kick__v100-gameCell__team__info\"></span></div>\n",
      "<div class=\"kick__v100-gameCell__team__shortname\">Stuttgart <span class=\"kick__v100-gameCell__team__info\"></span></div>\n",
      "<div class=\"kick__v100-gameCell__team__logo\">\n",
      "<picture class=\"\"><source data-srcset=\"https://derivates.kicker.de/image/fetch/f_webp,w_30,h_30,c_fit,q_auto:best/https://mediadb.kicker.de/2015/fussball/vereine/xxl/11_20150226154.png 1x, https://derivates.kicker.de/image/fetch/f_webp,w_60,h_60,c_fit,q_auto:best/https://mediadb.kicker.de/2015/fussball/vereine/xxl/11_20150226154.png 2x\" type=\"image/webp\"><source data-srcset=\"https://derivates.kicker.de/image/fetch/w_30,h_30,c_fit,q_auto:best/https://mediadb.kicker.de/2015/fussball/vereine/xxl/11_20150226154.png 1x, https://derivates.kicker.de/image/fetch/w_60,h_60,c_fit,q_auto:best/https://mediadb.kicker.de/2015/fussball/vereine/xxl/11_20150226154.png 2x\"><img alt=\"VfB Stuttgart\" class=\"lazyload\" data-src=\"https://derivates.kicker.de/image/fetch/w_30,h_30,c_fit,q_auto:best/https://mediadb.kicker.de/2015/fussball/vereine/xxl/11_20150226154.png\" src=\"data:image/png;base64,iVBORw0KGgoAAAANSUhEUgAAAAIAAAABCAYAAAD0In+KAAAAC0lEQVQI12NggAIAAAkAAWMqFg0AAAAASUVORK5CYII=\"/></source></source></picture>\n",
      "</div>\n",
      "</a>\n",
      "<span class=\"kick__v100-scoreBoard kick__v100-scoreBoard--standard\">\n",
      "<div class=\"kick__v100-scoreBoard__scoreHolder\">\n",
      "<div class=\"kick__v100-scoreBoard__scoreHolder__score\">1</div>\n",
      "<div class=\"kick__v100-scoreBoard__scoreHolder__divider\">:</div>\n",
      "<div class=\"kick__v100-scoreBoard__scoreHolder__score\">1</div>\n",
      "</div>\n",
      "<div class=\"kick__v100-scoreBoard__scoreHolder kick__v100-scoreBoard__scoreHolder--subscore\">\n",
      "<div class=\"kick__v100-scoreBoard__scoreHolder__score\">1</div>\n",
      "<div class=\"kick__v100-scoreBoard__scoreHolder__divider\">:</div>\n",
      "<div class=\"kick__v100-scoreBoard__scoreHolder__score\">1</div>\n",
      "</div>\n",
      "</span>\n",
      "<a class=\"kick__v100-gameCell__team\" href=\"/rb-leipzig/info\">\n",
      "<div class=\"kick__v100-gameCell__team__logo\">\n",
      "<picture class=\"\"><source data-srcset=\"https://derivates.kicker.de/image/fetch/f_webp,w_30,h_30,c_fit,q_auto:best/https://mediadb.kicker.de/2021/fussball/vereine/xxl/15778_20200716872.png 1x, https://derivates.kicker.de/image/fetch/f_webp,w_60,h_60,c_fit,q_auto:best/https://mediadb.kicker.de/2021/fussball/vereine/xxl/15778_20200716872.png 2x\" type=\"image/webp\"><source data-srcset=\"https://derivates.kicker.de/image/fetch/w_30,h_30,c_fit,q_auto:best/https://mediadb.kicker.de/2021/fussball/vereine/xxl/15778_20200716872.png 1x, https://derivates.kicker.de/image/fetch/w_60,h_60,c_fit,q_auto:best/https://mediadb.kicker.de/2021/fussball/vereine/xxl/15778_20200716872.png 2x\"><img alt=\"RB Leipzig\" class=\"lazyload\" data-src=\"https://derivates.kicker.de/image/fetch/w_30,h_30,c_fit,q_auto:best/https://mediadb.kicker.de/2021/fussball/vereine/xxl/15778_20200716872.png\" src=\"data:image/png;base64,iVBORw0KGgoAAAANSUhEUgAAAAIAAAABCAYAAAD0In+KAAAAC0lEQVQI12NggAIAAAkAAWMqFg0AAAAASUVORK5CYII=\"/></source></source></picture>\n",
      "</div>\n",
      "<div class=\"kick__v100-gameCell__team__name\">Leipzig <span class=\"kick__v100-gameCell__team__info\"></span></div>\n",
      "<div class=\"kick__v100-gameCell__team__shortname\">Leipzig <span class=\"kick__v100-gameCell__team__info\"></span></div>\n",
      "</a>\n",
      "</div>\n",
      "</td>\n",
      "<td class=\"kick__t__a__l kick__respt-m-o-3 kick__respt-m-w-180\">Mercedes-Benz-Arena</td>\n",
      "<td class=\"kick__table--ranking__master kick__respt-m-o-2 kick__respt-m-w-90 kick__respt-m-flexstart\">46.000</td>\n",
      "</tr>\n",
      "<tr>\n",
      "<td class=\"kick__respt-m-o-1 kick__respt-m-w-230\">\n",
      "<div class=\"kick__v100-gameCell kick__v100-gameCell--standard\">\n",
      "<a class=\"kick__v100-gameCell__team\" href=\"/vfl-wolfsburg/info\">\n",
      "<div class=\"kick__v100-gameCell__team__name\">Wolfsburg <span class=\"kick__v100-gameCell__team__info\"></span></div>\n",
      "<div class=\"kick__v100-gameCell__team__shortname\">Wolfsburg <span class=\"kick__v100-gameCell__team__info\"></span></div>\n",
      "<div class=\"kick__v100-gameCell__team__logo\">\n",
      "<picture class=\"\"><source data-srcset=\"https://derivates.kicker.de/image/fetch/f_webp,w_30,h_30,c_fit,q_auto:best/https://mediadb.kicker.de/2018/fussball/vereine/xxl/24_20180318873.png 1x, https://derivates.kicker.de/image/fetch/f_webp,w_60,h_60,c_fit,q_auto:best/https://mediadb.kicker.de/2018/fussball/vereine/xxl/24_20180318873.png 2x\" type=\"image/webp\"><source data-srcset=\"https://derivates.kicker.de/image/fetch/w_30,h_30,c_fit,q_auto:best/https://mediadb.kicker.de/2018/fussball/vereine/xxl/24_20180318873.png 1x, https://derivates.kicker.de/image/fetch/w_60,h_60,c_fit,q_auto:best/https://mediadb.kicker.de/2018/fussball/vereine/xxl/24_20180318873.png 2x\"><img alt=\"VfL Wolfsburg\" class=\"lazyload\" data-src=\"https://derivates.kicker.de/image/fetch/w_30,h_30,c_fit,q_auto:best/https://mediadb.kicker.de/2018/fussball/vereine/xxl/24_20180318873.png\" src=\"data:image/png;base64,iVBORw0KGgoAAAANSUhEUgAAAAIAAAABCAYAAAD0In+KAAAAC0lEQVQI12NggAIAAAkAAWMqFg0AAAAASUVORK5CYII=\"/></source></source></picture>\n",
      "</div>\n",
      "</a>\n",
      "<span class=\"kick__v100-scoreBoard kick__v100-scoreBoard--standard\">\n",
      "<div class=\"kick__v100-scoreBoard__scoreHolder\">\n",
      "<div class=\"kick__v100-scoreBoard__scoreHolder__score\">2</div>\n",
      "<div class=\"kick__v100-scoreBoard__scoreHolder__divider\">:</div>\n",
      "<div class=\"kick__v100-scoreBoard__scoreHolder__score\">2</div>\n",
      "</div>\n",
      "<div class=\"kick__v100-scoreBoard__scoreHolder kick__v100-scoreBoard__scoreHolder--subscore\">\n",
      "<div class=\"kick__v100-scoreBoard__scoreHolder__score\">1</div>\n",
      "<div class=\"kick__v100-scoreBoard__scoreHolder__divider\">:</div>\n",
      "<div class=\"kick__v100-scoreBoard__scoreHolder__score\">2</div>\n",
      "</div>\n",
      "</span>\n",
      "<a class=\"kick__v100-gameCell__team\" href=\"/werder-bremen/info\">\n",
      "<div class=\"kick__v100-gameCell__team__logo\">\n",
      "<picture class=\"\"><source data-srcset=\"https://derivates.kicker.de/image/fetch/f_webp,w_30,h_30,c_fit,q_auto:best/https://mediadb.kicker.de/2009/fussball/vereine/xxl/4_20150225702.png 1x, https://derivates.kicker.de/image/fetch/f_webp,w_60,h_60,c_fit,q_auto:best/https://mediadb.kicker.de/2009/fussball/vereine/xxl/4_20150225702.png 2x\" type=\"image/webp\"><source data-srcset=\"https://derivates.kicker.de/image/fetch/w_30,h_30,c_fit,q_auto:best/https://mediadb.kicker.de/2009/fussball/vereine/xxl/4_20150225702.png 1x, https://derivates.kicker.de/image/fetch/w_60,h_60,c_fit,q_auto:best/https://mediadb.kicker.de/2009/fussball/vereine/xxl/4_20150225702.png 2x\"><img alt=\"Werder Bremen\" class=\"lazyload\" data-src=\"https://derivates.kicker.de/image/fetch/w_30,h_30,c_fit,q_auto:best/https://mediadb.kicker.de/2009/fussball/vereine/xxl/4_20150225702.png\" src=\"data:image/png;base64,iVBORw0KGgoAAAANSUhEUgAAAAIAAAABCAYAAAD0In+KAAAAC0lEQVQI12NggAIAAAkAAWMqFg0AAAAASUVORK5CYII=\"/></source></source></picture>\n",
      "</div>\n",
      "<div class=\"kick__v100-gameCell__team__name\">Bremen <span class=\"kick__v100-gameCell__team__info\"></span></div>\n",
      "<div class=\"kick__v100-gameCell__team__shortname\">Bremen <span class=\"kick__v100-gameCell__team__info\"></span></div>\n",
      "</a>\n",
      "</div>\n",
      "</td>\n",
      "<td class=\"kick__t__a__l kick__respt-m-o-3 kick__respt-m-w-180\">Volkswagen-Arena</td>\n",
      "<td class=\"kick__table--ranking__master kick__respt-m-o-2 kick__respt-m-w-90 kick__respt-m-flexstart\">28.015</td>\n",
      "</tr>\n",
      "<tr>\n",
      "<td class=\"kick__respt-m-o-1 kick__respt-m-w-230\">\n",
      "<div class=\"kick__v100-gameCell kick__v100-gameCell--standard\">\n",
      "<a class=\"kick__v100-gameCell__team\" href=\"/fc-augsburg/info\">\n",
      "<div class=\"kick__v100-gameCell__team__name\">Augsburg <span class=\"kick__v100-gameCell__team__info\"></span></div>\n",
      "<div class=\"kick__v100-gameCell__team__shortname\">Augsburg <span class=\"kick__v100-gameCell__team__info\"></span></div>\n",
      "<div class=\"kick__v100-gameCell__team__logo\">\n",
      "<picture class=\"\"><source data-srcset=\"https://derivates.kicker.de/image/fetch/f_webp,w_30,h_30,c_fit,q_auto:best/https://mediadb.kicker.de/2016/fussball/vereine/xxl/91_20160502546.png 1x, https://derivates.kicker.de/image/fetch/f_webp,w_60,h_60,c_fit,q_auto:best/https://mediadb.kicker.de/2016/fussball/vereine/xxl/91_20160502546.png 2x\" type=\"image/webp\"><source data-srcset=\"https://derivates.kicker.de/image/fetch/w_30,h_30,c_fit,q_auto:best/https://mediadb.kicker.de/2016/fussball/vereine/xxl/91_20160502546.png 1x, https://derivates.kicker.de/image/fetch/w_60,h_60,c_fit,q_auto:best/https://mediadb.kicker.de/2016/fussball/vereine/xxl/91_20160502546.png 2x\"><img alt=\"FC Augsburg\" class=\"lazyload\" data-src=\"https://derivates.kicker.de/image/fetch/w_30,h_30,c_fit,q_auto:best/https://mediadb.kicker.de/2016/fussball/vereine/xxl/91_20160502546.png\" src=\"data:image/png;base64,iVBORw0KGgoAAAANSUhEUgAAAAIAAAABCAYAAAD0In+KAAAAC0lEQVQI12NggAIAAAkAAWMqFg0AAAAASUVORK5CYII=\"/></source></source></picture>\n",
      "</div>\n",
      "</a>\n",
      "<span class=\"kick__v100-scoreBoard kick__v100-scoreBoard--standard\">\n",
      "<div class=\"kick__v100-scoreBoard__scoreHolder\">\n",
      "<div class=\"kick__v100-scoreBoard__scoreHolder__score\">0</div>\n",
      "<div class=\"kick__v100-scoreBoard__scoreHolder__divider\">:</div>\n",
      "<div class=\"kick__v100-scoreBoard__scoreHolder__score\">4</div>\n",
      "</div>\n",
      "<div class=\"kick__v100-scoreBoard__scoreHolder kick__v100-scoreBoard__scoreHolder--subscore\">\n",
      "<div class=\"kick__v100-scoreBoard__scoreHolder__score\">0</div>\n",
      "<div class=\"kick__v100-scoreBoard__scoreHolder__divider\">:</div>\n",
      "<div class=\"kick__v100-scoreBoard__scoreHolder__score\">0</div>\n",
      "</div>\n",
      "</span>\n",
      "<a class=\"kick__v100-gameCell__team\" href=\"/sc-freiburg/info\">\n",
      "<div class=\"kick__v100-gameCell__team__logo\">\n",
      "<picture class=\"\"><source data-srcset=\"https://derivates.kicker.de/image/fetch/f_webp,w_30,h_30,c_fit,q_auto:best/https://mediadb.kicker.de/2013/fussball/vereine/xxl/7_20150226260.png 1x, https://derivates.kicker.de/image/fetch/f_webp,w_60,h_60,c_fit,q_auto:best/https://mediadb.kicker.de/2013/fussball/vereine/xxl/7_20150226260.png 2x\" type=\"image/webp\"><source data-srcset=\"https://derivates.kicker.de/image/fetch/w_30,h_30,c_fit,q_auto:best/https://mediadb.kicker.de/2013/fussball/vereine/xxl/7_20150226260.png 1x, https://derivates.kicker.de/image/fetch/w_60,h_60,c_fit,q_auto:best/https://mediadb.kicker.de/2013/fussball/vereine/xxl/7_20150226260.png 2x\"><img alt=\"SC Freiburg\" class=\"lazyload\" data-src=\"https://derivates.kicker.de/image/fetch/w_30,h_30,c_fit,q_auto:best/https://mediadb.kicker.de/2013/fussball/vereine/xxl/7_20150226260.png\" src=\"data:image/png;base64,iVBORw0KGgoAAAANSUhEUgAAAAIAAAABCAYAAAD0In+KAAAAC0lEQVQI12NggAIAAAkAAWMqFg0AAAAASUVORK5CYII=\"/></source></source></picture>\n",
      "</div>\n",
      "<div class=\"kick__v100-gameCell__team__name\">Freiburg <span class=\"kick__v100-gameCell__team__info\"></span></div>\n",
      "<div class=\"kick__v100-gameCell__team__shortname\">Freiburg <span class=\"kick__v100-gameCell__team__info\"></span></div>\n",
      "</a>\n",
      "</div>\n",
      "</td>\n",
      "<td class=\"kick__t__a__l kick__respt-m-o-3 kick__respt-m-w-180\">WWK-Arena</td>\n",
      "<td class=\"kick__table--ranking__master kick__respt-m-o-2 kick__respt-m-w-90 kick__respt-m-flexstart\">26.310</td>\n",
      "</tr>\n",
      "<tr>\n",
      "<td class=\"kick__respt-m-o-1 kick__respt-m-w-230\">\n",
      "<div class=\"kick__v100-gameCell kick__v100-gameCell--standard\">\n",
      "<a class=\"kick__v100-gameCell__team\" href=\"/vfl-bochum/info\">\n",
      "<div class=\"kick__v100-gameCell__team__name\">Bochum <span class=\"kick__v100-gameCell__team__info\"></span></div>\n",
      "<div class=\"kick__v100-gameCell__team__shortname\">Bochum <span class=\"kick__v100-gameCell__team__info\"></span></div>\n",
      "<div class=\"kick__v100-gameCell__team__logo\">\n",
      "<picture class=\"\"><source data-srcset=\"https://derivates.kicker.de/image/fetch/f_webp,w_30,h_30,c_fit,q_auto:best/https://mediadb.kicker.de/2021/fussball/vereine/xxl/8_20200804901.png 1x, https://derivates.kicker.de/image/fetch/f_webp,w_60,h_60,c_fit,q_auto:best/https://mediadb.kicker.de/2021/fussball/vereine/xxl/8_20200804901.png 2x\" type=\"image/webp\"><source data-srcset=\"https://derivates.kicker.de/image/fetch/w_30,h_30,c_fit,q_auto:best/https://mediadb.kicker.de/2021/fussball/vereine/xxl/8_20200804901.png 1x, https://derivates.kicker.de/image/fetch/w_60,h_60,c_fit,q_auto:best/https://mediadb.kicker.de/2021/fussball/vereine/xxl/8_20200804901.png 2x\"><img alt=\"VfL Bochum\" class=\"lazyload\" data-src=\"https://derivates.kicker.de/image/fetch/w_30,h_30,c_fit,q_auto:best/https://mediadb.kicker.de/2021/fussball/vereine/xxl/8_20200804901.png\" src=\"data:image/png;base64,iVBORw0KGgoAAAANSUhEUgAAAAIAAAABCAYAAAD0In+KAAAAC0lEQVQI12NggAIAAAkAAWMqFg0AAAAASUVORK5CYII=\"/></source></source></picture>\n",
      "</div>\n",
      "</a>\n",
      "<span class=\"kick__v100-scoreBoard kick__v100-scoreBoard--standard\">\n",
      "<div class=\"kick__v100-scoreBoard__scoreHolder\">\n",
      "<div class=\"kick__v100-scoreBoard__scoreHolder__score\">1</div>\n",
      "<div class=\"kick__v100-scoreBoard__scoreHolder__divider\">:</div>\n",
      "<div class=\"kick__v100-scoreBoard__scoreHolder__score\">2</div>\n",
      "</div>\n",
      "<div class=\"kick__v100-scoreBoard__scoreHolder kick__v100-scoreBoard__scoreHolder--subscore\">\n",
      "<div class=\"kick__v100-scoreBoard__scoreHolder__score\">1</div>\n",
      "<div class=\"kick__v100-scoreBoard__scoreHolder__divider\">:</div>\n",
      "<div class=\"kick__v100-scoreBoard__scoreHolder__score\">1</div>\n",
      "</div>\n",
      "</span>\n",
      "<a class=\"kick__v100-gameCell__team\" href=\"/1-fsv-mainz-05/info\">\n",
      "<div class=\"kick__v100-gameCell__team__logo\">\n",
      "<picture class=\"\"><source data-srcset=\"https://derivates.kicker.de/image/fetch/f_webp,w_30,h_30,c_fit,q_auto:best/https://mediadb.kicker.de/2021/fussball/vereine/xxl/30_20221004267.png 1x, https://derivates.kicker.de/image/fetch/f_webp,w_60,h_60,c_fit,q_auto:best/https://mediadb.kicker.de/2021/fussball/vereine/xxl/30_20221004267.png 2x\" type=\"image/webp\"><source data-srcset=\"https://derivates.kicker.de/image/fetch/w_30,h_30,c_fit,q_auto:best/https://mediadb.kicker.de/2021/fussball/vereine/xxl/30_20221004267.png 1x, https://derivates.kicker.de/image/fetch/w_60,h_60,c_fit,q_auto:best/https://mediadb.kicker.de/2021/fussball/vereine/xxl/30_20221004267.png 2x\"><img alt=\"1. FSV Mainz 05\" class=\"lazyload\" data-src=\"https://derivates.kicker.de/image/fetch/w_30,h_30,c_fit,q_auto:best/https://mediadb.kicker.de/2021/fussball/vereine/xxl/30_20221004267.png\" src=\"data:image/png;base64,iVBORw0KGgoAAAANSUhEUgAAAAIAAAABCAYAAAD0In+KAAAAC0lEQVQI12NggAIAAAkAAWMqFg0AAAAASUVORK5CYII=\"/></source></source></picture>\n",
      "</div>\n",
      "<div class=\"kick__v100-gameCell__team__name\">Mainz <span class=\"kick__v100-gameCell__team__info\"></span></div>\n",
      "<div class=\"kick__v100-gameCell__team__shortname\">Mainz <span class=\"kick__v100-gameCell__team__info\"></span></div>\n",
      "</a>\n",
      "</div>\n",
      "</td>\n",
      "<td class=\"kick__t__a__l kick__respt-m-o-3 kick__respt-m-w-180\">Vonovia-Ruhrstadion</td>\n",
      "<td class=\"kick__table--ranking__master kick__respt-m-o-2 kick__respt-m-w-90 kick__respt-m-flexstart\">24.110</td>\n",
      "</tr>\n",
      "<tr>\n",
      "<td class=\"kick__respt-m-o-1 kick__respt-m-w-230\">\n",
      "<div class=\"kick__v100-gameCell kick__v100-gameCell--standard\">\n",
      "<a class=\"kick__v100-gameCell__team\" href=\"/1-fc-union-berlin/info\">\n",
      "<div class=\"kick__v100-gameCell__team__name\">Union <span class=\"kick__v100-gameCell__team__info\"></span></div>\n",
      "<div class=\"kick__v100-gameCell__team__shortname\">Union <span class=\"kick__v100-gameCell__team__info\"></span></div>\n",
      "<div class=\"kick__v100-gameCell__team__logo\">\n",
      "<picture class=\"\"><source data-srcset=\"https://derivates.kicker.de/image/fetch/f_webp,w_30,h_30,c_fit,q_auto:best/https://mediadb.kicker.de/2021/fussball/vereine/xxl/62_20210316732.png 1x, https://derivates.kicker.de/image/fetch/f_webp,w_60,h_60,c_fit,q_auto:best/https://mediadb.kicker.de/2021/fussball/vereine/xxl/62_20210316732.png 2x\" type=\"image/webp\"><source data-srcset=\"https://derivates.kicker.de/image/fetch/w_30,h_30,c_fit,q_auto:best/https://mediadb.kicker.de/2021/fussball/vereine/xxl/62_20210316732.png 1x, https://derivates.kicker.de/image/fetch/w_60,h_60,c_fit,q_auto:best/https://mediadb.kicker.de/2021/fussball/vereine/xxl/62_20210316732.png 2x\"><img alt=\"1. FC Union Berlin\" class=\"lazyload\" data-src=\"https://derivates.kicker.de/image/fetch/w_30,h_30,c_fit,q_auto:best/https://mediadb.kicker.de/2021/fussball/vereine/xxl/62_20210316732.png\" src=\"data:image/png;base64,iVBORw0KGgoAAAANSUhEUgAAAAIAAAABCAYAAAD0In+KAAAAC0lEQVQI12NggAIAAAkAAWMqFg0AAAAASUVORK5CYII=\"/></source></source></picture>\n",
      "</div>\n",
      "</a>\n",
      "<span class=\"kick__v100-scoreBoard kick__v100-scoreBoard--standard\">\n",
      "<div class=\"kick__v100-scoreBoard__scoreHolder\">\n",
      "<div class=\"kick__v100-scoreBoard__scoreHolder__score\">3</div>\n",
      "<div class=\"kick__v100-scoreBoard__scoreHolder__divider\">:</div>\n",
      "<div class=\"kick__v100-scoreBoard__scoreHolder__score\">1</div>\n",
      "</div>\n",
      "<div class=\"kick__v100-scoreBoard__scoreHolder kick__v100-scoreBoard__scoreHolder--subscore\">\n",
      "<div class=\"kick__v100-scoreBoard__scoreHolder__score\">1</div>\n",
      "<div class=\"kick__v100-scoreBoard__scoreHolder__divider\">:</div>\n",
      "<div class=\"kick__v100-scoreBoard__scoreHolder__score\">0</div>\n",
      "</div>\n",
      "</span>\n",
      "<a class=\"kick__v100-gameCell__team\" href=\"/hertha-bsc/info\">\n",
      "<div class=\"kick__v100-gameCell__team__logo\">\n",
      "<picture class=\"\"><source data-srcset=\"https://derivates.kicker.de/image/fetch/f_webp,w_30,h_30,c_fit,q_auto:best/https://mediadb.kicker.de/2013/fussball/vereine/xxl/29_20150226842.png 1x, https://derivates.kicker.de/image/fetch/f_webp,w_60,h_60,c_fit,q_auto:best/https://mediadb.kicker.de/2013/fussball/vereine/xxl/29_20150226842.png 2x\" type=\"image/webp\"><source data-srcset=\"https://derivates.kicker.de/image/fetch/w_30,h_30,c_fit,q_auto:best/https://mediadb.kicker.de/2013/fussball/vereine/xxl/29_20150226842.png 1x, https://derivates.kicker.de/image/fetch/w_60,h_60,c_fit,q_auto:best/https://mediadb.kicker.de/2013/fussball/vereine/xxl/29_20150226842.png 2x\"><img alt=\"Hertha BSC\" class=\"lazyload\" data-src=\"https://derivates.kicker.de/image/fetch/w_30,h_30,c_fit,q_auto:best/https://mediadb.kicker.de/2013/fussball/vereine/xxl/29_20150226842.png\" src=\"data:image/png;base64,iVBORw0KGgoAAAANSUhEUgAAAAIAAAABCAYAAAD0In+KAAAAC0lEQVQI12NggAIAAAkAAWMqFg0AAAAASUVORK5CYII=\"/></source></source></picture>\n",
      "</div>\n",
      "<div class=\"kick__v100-gameCell__team__name\">Hertha <span class=\"kick__v100-gameCell__team__info\"></span></div>\n",
      "<div class=\"kick__v100-gameCell__team__shortname\">Hertha <span class=\"kick__v100-gameCell__team__info\"></span></div>\n",
      "</a>\n",
      "</div>\n",
      "</td>\n",
      "<td class=\"kick__t__a__l kick__respt-m-o-3 kick__respt-m-w-180\">Stadion An der Alten Försterei</td>\n",
      "<td class=\"kick__table--ranking__master kick__respt-m-o-2 kick__respt-m-w-90 kick__respt-m-flexstart\">22.012</td>\n",
      "</tr>\n",
      "</tbody>\n",
      "</table>\n"
     ]
    }
   ],
   "source": [
    "print(zuschauer_soups[0].find(\"table\"))\n"
   ]
  },
  {
   "cell_type": "markdown",
   "metadata": {},
   "source": [
    "Es scheint jeweils mehrere Tabellen auf einer Seite zu geben. Wir machen für jede Seite fest welche der Tabellen auf der Siete, die mit den Spieltagszuschauern sind."
   ]
  },
  {
   "cell_type": "code",
   "execution_count": 15,
   "metadata": {},
   "outputs": [
    {
     "name": "stdout",
     "output_type": "stream",
     "text": [
      "[0]\n"
     ]
    }
   ],
   "source": [
    "tabellen_nr = list()\n",
    "for soup in zuschauer_soups:\n",
    "    for k, table in enumerate(zuschauer_soups[0].find_all(\"table\")):\n",
    "        for i in table.find_all(\"th\"):\n",
    "            if \"Paarung\" in i.text:\n",
    "                tabellen_nr.append(k)\n",
    "                break\n",
    "            else:\n",
    "                continue\n",
    "            break\n",
    "print(np.unique(np.array((tabellen_nr))))"
   ]
  },
  {
   "cell_type": "markdown",
   "metadata": {},
   "source": [
    "Jetzt wollen wir eine Liste von DataFrames mit den Zuschauern für jeden Spieltag erstellen:"
   ]
  },
  {
   "cell_type": "code",
   "execution_count": 16,
   "metadata": {},
   "outputs": [
    {
     "name": "stdout",
     "output_type": "stream",
     "text": [
      "['Dortmund', 'Frankfurt', 'Köln', 'Gladbach', 'Stuttgart', 'Wolfsburg', 'Augsburg', 'Bochum', 'Union'] ['81.365', '51.500', '50.000', '49.659', '46.000', '28.015', '26.310', '24.110', '22.012']\n"
     ]
    }
   ],
   "source": [
    "def zuschauer_extrahieren(soup):\n",
    "    liste = list()\n",
    "    zuschauer_liste = list()\n",
    "    orte = list()\n",
    "    zuschauerzahlen = list()\n",
    "    for row in soup.find_all(\"table\")[0].find_all(\"tr\"):\n",
    "        for col in row.find_all(\"td\"):\n",
    "            liste.append(col.text.replace(\"\\n\", \"\"))\n",
    "    for num  in range(0,len(liste),3):\n",
    "        zuschauer_liste.append(liste[num: num + 3])\n",
    "    for spiel_nr in range(0,9):\n",
    "        orte.append(zuschauer_liste[spiel_nr][0].split(\" \",1)[0])\n",
    "        zuschauerzahlen.append(zuschauer_liste[spiel_nr][2].split(\" \",1)[0])\n",
    "    return orte, zuschauerzahlen \n",
    "\n",
    "orte, zahlen = zuschauer_extrahieren(zuschauer_soups[0])\n",
    "print(orte, zahlen)"
   ]
  },
  {
   "cell_type": "markdown",
   "metadata": {},
   "source": [
    "Mit dieser Funktion können wir nun für jeden Spieltag die Zuschauerzahlen extrahieren und für jeden Spieltag in DataFrames speichern (es bietet sich an Gladbach in Mönchengladdbach umzubenennen):"
   ]
  },
  {
   "cell_type": "code",
   "execution_count": 17,
   "metadata": {},
   "outputs": [
    {
     "name": "stdout",
     "output_type": "stream",
     "text": [
      "               Ort Zuschauerzahl\n",
      "0         Dortmund        81.365\n",
      "1        Frankfurt        51.500\n",
      "2             Köln        50.000\n",
      "3  Mönchengladbach        49.659\n",
      "4        Stuttgart        46.000\n",
      "5        Wolfsburg        28.015\n",
      "6         Augsburg        26.310\n",
      "7           Bochum        24.110\n",
      "8            Union        22.012\n"
     ]
    }
   ],
   "source": [
    "zuschauer_spieltage_dfs = list()\n",
    "for soup in zuschauer_soups:\n",
    "    orte, zuschauerzahlen = zuschauer_extrahieren(soup)\n",
    "    zuschauer_spieltage_dfs.append(pd.DataFrame(zip(orte, zuschauerzahlen), columns = [\"Ort\", \"Zuschauerzahl\"]))\n",
    "\n",
    "for df in zuschauer_spieltage_dfs:\n",
    "    df[\"Ort\"][df[\"Ort\"] == \"Gladbach\"] = \"Mönchengladbach\"\n",
    "print(zuschauer_spieltage_dfs[0])\n"
   ]
  },
  {
   "cell_type": "markdown",
   "metadata": {},
   "source": [
    "Jetzt können wir die Zuschauerzahlen an die jeweiligen Spieltagsdatensätze anfügen:"
   ]
  },
  {
   "cell_type": "code",
   "execution_count": 18,
   "metadata": {},
   "outputs": [
    {
     "name": "stdout",
     "output_type": "stream",
     "text": [
      "18\n"
     ]
    },
    {
     "data": {
      "text/html": [
       "<div>\n",
       "<style scoped>\n",
       "    .dataframe tbody tr th:only-of-type {\n",
       "        vertical-align: middle;\n",
       "    }\n",
       "\n",
       "    .dataframe tbody tr th {\n",
       "        vertical-align: top;\n",
       "    }\n",
       "\n",
       "    .dataframe thead th {\n",
       "        text-align: right;\n",
       "    }\n",
       "</style>\n",
       "<table border=\"1\" class=\"dataframe\">\n",
       "  <thead>\n",
       "    <tr style=\"text-align: right;\">\n",
       "      <th></th>\n",
       "      <th>Ort</th>\n",
       "      <th>Zuschauerzahl</th>\n",
       "      <th>heim</th>\n",
       "    </tr>\n",
       "  </thead>\n",
       "  <tbody>\n",
       "    <tr>\n",
       "      <th>0</th>\n",
       "      <td>Dortmund</td>\n",
       "      <td>81.365</td>\n",
       "      <td>Borussia Dortmund</td>\n",
       "    </tr>\n",
       "    <tr>\n",
       "      <th>1</th>\n",
       "      <td>Frankfurt</td>\n",
       "      <td>51.500</td>\n",
       "      <td>Eintracht Frankfurt</td>\n",
       "    </tr>\n",
       "    <tr>\n",
       "      <th>2</th>\n",
       "      <td>Köln</td>\n",
       "      <td>50.000</td>\n",
       "      <td>1. FC Köln</td>\n",
       "    </tr>\n",
       "    <tr>\n",
       "      <th>3</th>\n",
       "      <td>Mönchengladbach</td>\n",
       "      <td>49.659</td>\n",
       "      <td>Borussia Mönchengladbach</td>\n",
       "    </tr>\n",
       "    <tr>\n",
       "      <th>4</th>\n",
       "      <td>Stuttgart</td>\n",
       "      <td>46.000</td>\n",
       "      <td>VfB Stuttgart</td>\n",
       "    </tr>\n",
       "  </tbody>\n",
       "</table>\n",
       "</div>"
      ],
      "text/plain": [
       "               Ort Zuschauerzahl                      heim\n",
       "0         Dortmund        81.365         Borussia Dortmund\n",
       "1        Frankfurt        51.500       Eintracht Frankfurt\n",
       "2             Köln        50.000                1. FC Köln\n",
       "3  Mönchengladbach        49.659  Borussia Mönchengladbach\n",
       "4        Stuttgart        46.000             VfB Stuttgart"
      ]
     },
     "execution_count": 18,
     "metadata": {},
     "output_type": "execute_result"
    }
   ],
   "source": [
    "spieltag1 = spieltage_dfs[0]\n",
    "orte_liste = list()\n",
    "\n",
    "for index in range(0,4):\n",
    "    #print(index)\n",
    "    for val in zuschauer_spieltage_dfs[index][\"Ort\"].values:\n",
    "        orte_liste.append(val)\n",
    "orte_set = set(orte_liste)\n",
    "\n",
    "print(len(orte_set)) # um sicherzugehe, dass man alle erwischt hat, muss 18 sein\n",
    "\n",
    "clubs_set = set(spieltag1[\"heim\"].values).union(set(spieltag1[\"gast\"]))\n",
    "name_ort_dict = {}\n",
    "for club in clubs_set:\n",
    "    for ort in orte_set:\n",
    "        if ort in club:\n",
    "            name_ort_dict[ort] = club\n",
    "\n",
    "# füge die Clubnamen in den Zuschauerdatensätzen als key hinzu, um später joinen zu können\n",
    "df[\"heim\"] = np.nan\n",
    "for df in zuschauer_spieltage_dfs:\n",
    "    for ort in df[\"Ort\"].values:\n",
    "        df.loc[df[\"Ort\"] == ort, \"heim\"] = name_ort_dict[ort]\n",
    "\n",
    "zuschauer_spieltage_dfs[0].head()"
   ]
  },
  {
   "cell_type": "markdown",
   "metadata": {},
   "source": [
    "Jetzt können wir die jeweiligen Zuschauer-Datensätze und Spieltag-Datensätze joinen:"
   ]
  },
  {
   "cell_type": "code",
   "execution_count": 23,
   "metadata": {},
   "outputs": [],
   "source": [
    "for tag in range(0,34):\n",
    "    spieltage_dfs[tag] = spieltage_dfs[tag].join(zuschauer_spieltage_dfs[tag].set_index('heim'), on='heim')"
   ]
  },
  {
   "cell_type": "code",
   "execution_count": 24,
   "metadata": {
    "scrolled": true
   },
   "outputs": [
    {
     "data": {
      "text/html": [
       "<div>\n",
       "<style scoped>\n",
       "    .dataframe tbody tr th:only-of-type {\n",
       "        vertical-align: middle;\n",
       "    }\n",
       "\n",
       "    .dataframe tbody tr th {\n",
       "        vertical-align: top;\n",
       "    }\n",
       "\n",
       "    .dataframe thead th {\n",
       "        text-align: right;\n",
       "    }\n",
       "</style>\n",
       "<table border=\"1\" class=\"dataframe\">\n",
       "  <thead>\n",
       "    <tr style=\"text-align: right;\">\n",
       "      <th></th>\n",
       "      <th>heim</th>\n",
       "      <th>gast</th>\n",
       "      <th>Tore Heim</th>\n",
       "      <th>Tore Gast</th>\n",
       "      <th>Punkte Heim</th>\n",
       "      <th>Punkte Gast</th>\n",
       "      <th>Ort</th>\n",
       "      <th>Zuschauerzahl</th>\n",
       "    </tr>\n",
       "  </thead>\n",
       "  <tbody>\n",
       "    <tr>\n",
       "      <th>0</th>\n",
       "      <td>Eintracht Frankfurt</td>\n",
       "      <td>FC Bayern München</td>\n",
       "      <td>1</td>\n",
       "      <td>6</td>\n",
       "      <td>0</td>\n",
       "      <td>3</td>\n",
       "      <td>Frankfurt</td>\n",
       "      <td>51.500</td>\n",
       "    </tr>\n",
       "    <tr>\n",
       "      <th>1</th>\n",
       "      <td>FC Augsburg</td>\n",
       "      <td>SC Freiburg</td>\n",
       "      <td>0</td>\n",
       "      <td>4</td>\n",
       "      <td>0</td>\n",
       "      <td>3</td>\n",
       "      <td>Augsburg</td>\n",
       "      <td>26.310</td>\n",
       "    </tr>\n",
       "    <tr>\n",
       "      <th>2</th>\n",
       "      <td>VfL Bochum</td>\n",
       "      <td>1. FSV Mainz 05</td>\n",
       "      <td>1</td>\n",
       "      <td>2</td>\n",
       "      <td>0</td>\n",
       "      <td>3</td>\n",
       "      <td>Bochum</td>\n",
       "      <td>24.110</td>\n",
       "    </tr>\n",
       "    <tr>\n",
       "      <th>3</th>\n",
       "      <td>Borussia Mönchengladbach</td>\n",
       "      <td>TSG 1899 Hoffenheim</td>\n",
       "      <td>3</td>\n",
       "      <td>1</td>\n",
       "      <td>3</td>\n",
       "      <td>0</td>\n",
       "      <td>Mönchengladbach</td>\n",
       "      <td>49.659</td>\n",
       "    </tr>\n",
       "    <tr>\n",
       "      <th>4</th>\n",
       "      <td>1. FC Union Berlin</td>\n",
       "      <td>Hertha BSC</td>\n",
       "      <td>3</td>\n",
       "      <td>1</td>\n",
       "      <td>3</td>\n",
       "      <td>0</td>\n",
       "      <td>Union</td>\n",
       "      <td>22.012</td>\n",
       "    </tr>\n",
       "    <tr>\n",
       "      <th>5</th>\n",
       "      <td>VfL Wolfsburg</td>\n",
       "      <td>Werder Bremen</td>\n",
       "      <td>2</td>\n",
       "      <td>2</td>\n",
       "      <td>1</td>\n",
       "      <td>1</td>\n",
       "      <td>Wolfsburg</td>\n",
       "      <td>28.015</td>\n",
       "    </tr>\n",
       "    <tr>\n",
       "      <th>6</th>\n",
       "      <td>Borussia Dortmund</td>\n",
       "      <td>Bayer Leverkusen</td>\n",
       "      <td>1</td>\n",
       "      <td>0</td>\n",
       "      <td>3</td>\n",
       "      <td>0</td>\n",
       "      <td>Dortmund</td>\n",
       "      <td>81.365</td>\n",
       "    </tr>\n",
       "    <tr>\n",
       "      <th>7</th>\n",
       "      <td>VfB Stuttgart</td>\n",
       "      <td>RB Leipzig</td>\n",
       "      <td>1</td>\n",
       "      <td>1</td>\n",
       "      <td>1</td>\n",
       "      <td>1</td>\n",
       "      <td>Stuttgart</td>\n",
       "      <td>46.000</td>\n",
       "    </tr>\n",
       "    <tr>\n",
       "      <th>8</th>\n",
       "      <td>1. FC Köln</td>\n",
       "      <td>FC Schalke 04</td>\n",
       "      <td>3</td>\n",
       "      <td>1</td>\n",
       "      <td>3</td>\n",
       "      <td>0</td>\n",
       "      <td>Köln</td>\n",
       "      <td>50.000</td>\n",
       "    </tr>\n",
       "  </tbody>\n",
       "</table>\n",
       "</div>"
      ],
      "text/plain": [
       "                       heim                 gast  Tore Heim  Tore Gast  \\\n",
       "0       Eintracht Frankfurt    FC Bayern München          1          6   \n",
       "1               FC Augsburg          SC Freiburg          0          4   \n",
       "2                VfL Bochum      1. FSV Mainz 05          1          2   \n",
       "3  Borussia Mönchengladbach  TSG 1899 Hoffenheim          3          1   \n",
       "4        1. FC Union Berlin           Hertha BSC          3          1   \n",
       "5             VfL Wolfsburg        Werder Bremen          2          2   \n",
       "6         Borussia Dortmund     Bayer Leverkusen          1          0   \n",
       "7             VfB Stuttgart           RB Leipzig          1          1   \n",
       "8                1. FC Köln        FC Schalke 04          3          1   \n",
       "\n",
       "   Punkte Heim  Punkte Gast              Ort Zuschauerzahl  \n",
       "0            0            3        Frankfurt        51.500  \n",
       "1            0            3         Augsburg        26.310  \n",
       "2            0            3           Bochum        24.110  \n",
       "3            3            0  Mönchengladbach        49.659  \n",
       "4            3            0            Union        22.012  \n",
       "5            1            1        Wolfsburg        28.015  \n",
       "6            3            0         Dortmund        81.365  \n",
       "7            1            1        Stuttgart        46.000  \n",
       "8            3            0             Köln        50.000  "
      ]
     },
     "execution_count": 24,
     "metadata": {},
     "output_type": "execute_result"
    }
   ],
   "source": [
    "spieltage_dfs[0].loc[:, \"heim\":]"
   ]
  },
  {
   "cell_type": "markdown",
   "metadata": {},
   "source": [
    "Wir bauen einen Datensatz mit allen Begegnungen:\n"
   ]
  },
  {
   "cell_type": "code",
   "execution_count": 315,
   "metadata": {},
   "outputs": [
    {
     "data": {
      "text/html": [
       "<div>\n",
       "<style scoped>\n",
       "    .dataframe tbody tr th:only-of-type {\n",
       "        vertical-align: middle;\n",
       "    }\n",
       "\n",
       "    .dataframe tbody tr th {\n",
       "        vertical-align: top;\n",
       "    }\n",
       "\n",
       "    .dataframe thead th {\n",
       "        text-align: right;\n",
       "    }\n",
       "</style>\n",
       "<table border=\"1\" class=\"dataframe\">\n",
       "  <thead>\n",
       "    <tr style=\"text-align: right;\">\n",
       "      <th></th>\n",
       "      <th>matchID</th>\n",
       "      <th>matchDateTime</th>\n",
       "      <th>timeZoneID</th>\n",
       "      <th>leagueId</th>\n",
       "      <th>leagueName</th>\n",
       "      <th>leagueSeason</th>\n",
       "      <th>leagueShortcut</th>\n",
       "      <th>matchDateTimeUTC</th>\n",
       "      <th>group</th>\n",
       "      <th>team1</th>\n",
       "      <th>...</th>\n",
       "      <th>location</th>\n",
       "      <th>numberOfViewers</th>\n",
       "      <th>heim</th>\n",
       "      <th>gast</th>\n",
       "      <th>Tore Heim</th>\n",
       "      <th>Tore Gast</th>\n",
       "      <th>Punkte Heim</th>\n",
       "      <th>Punkte Gast</th>\n",
       "      <th>Ort</th>\n",
       "      <th>Zuschauerzahl</th>\n",
       "    </tr>\n",
       "  </thead>\n",
       "  <tbody>\n",
       "    <tr>\n",
       "      <th>301</th>\n",
       "      <td>64166</td>\n",
       "      <td>2023-05-27T15:30:00</td>\n",
       "      <td>W. Europe Standard Time</td>\n",
       "      <td>4562</td>\n",
       "      <td>1. Fußball-Bundesliga 2022/2023</td>\n",
       "      <td>2022</td>\n",
       "      <td>bl1</td>\n",
       "      <td>2023-05-27T13:30:00Z</td>\n",
       "      <td>{'groupName': '34. Spieltag', 'groupOrderID': ...</td>\n",
       "      <td>{'teamId': 65, 'teamName': '1. FC Köln', 'shor...</td>\n",
       "      <td>...</td>\n",
       "      <td>None</td>\n",
       "      <td>None</td>\n",
       "      <td>1. FC Köln</td>\n",
       "      <td>FC Bayern München</td>\n",
       "      <td>1</td>\n",
       "      <td>2</td>\n",
       "      <td>0</td>\n",
       "      <td>3</td>\n",
       "      <td>Köln</td>\n",
       "      <td>50.000</td>\n",
       "    </tr>\n",
       "    <tr>\n",
       "      <th>302</th>\n",
       "      <td>64167</td>\n",
       "      <td>2023-05-27T15:30:00</td>\n",
       "      <td>W. Europe Standard Time</td>\n",
       "      <td>4562</td>\n",
       "      <td>1. Fußball-Bundesliga 2022/2023</td>\n",
       "      <td>2022</td>\n",
       "      <td>bl1</td>\n",
       "      <td>2023-05-27T13:30:00Z</td>\n",
       "      <td>{'groupName': '34. Spieltag', 'groupOrderID': ...</td>\n",
       "      <td>{'teamId': 1635, 'teamName': 'RB Leipzig', 'sh...</td>\n",
       "      <td>...</td>\n",
       "      <td>None</td>\n",
       "      <td>None</td>\n",
       "      <td>RB Leipzig</td>\n",
       "      <td>FC Schalke 04</td>\n",
       "      <td>4</td>\n",
       "      <td>2</td>\n",
       "      <td>3</td>\n",
       "      <td>0</td>\n",
       "      <td>Leipzig</td>\n",
       "      <td>47.069</td>\n",
       "    </tr>\n",
       "    <tr>\n",
       "      <th>303</th>\n",
       "      <td>64168</td>\n",
       "      <td>2023-05-27T15:30:00</td>\n",
       "      <td>W. Europe Standard Time</td>\n",
       "      <td>4562</td>\n",
       "      <td>1. Fußball-Bundesliga 2022/2023</td>\n",
       "      <td>2022</td>\n",
       "      <td>bl1</td>\n",
       "      <td>2023-05-27T13:30:00Z</td>\n",
       "      <td>{'groupName': '34. Spieltag', 'groupOrderID': ...</td>\n",
       "      <td>{'teamId': 16, 'teamName': 'VfB Stuttgart', 's...</td>\n",
       "      <td>...</td>\n",
       "      <td>None</td>\n",
       "      <td>None</td>\n",
       "      <td>VfB Stuttgart</td>\n",
       "      <td>TSG 1899 Hoffenheim</td>\n",
       "      <td>1</td>\n",
       "      <td>1</td>\n",
       "      <td>1</td>\n",
       "      <td>1</td>\n",
       "      <td>Stuttgart</td>\n",
       "      <td>47.500</td>\n",
       "    </tr>\n",
       "    <tr>\n",
       "      <th>304</th>\n",
       "      <td>64169</td>\n",
       "      <td>2023-05-27T15:30:00</td>\n",
       "      <td>W. Europe Standard Time</td>\n",
       "      <td>4562</td>\n",
       "      <td>1. Fußball-Bundesliga 2022/2023</td>\n",
       "      <td>2022</td>\n",
       "      <td>bl1</td>\n",
       "      <td>2023-05-27T13:30:00Z</td>\n",
       "      <td>{'groupName': '34. Spieltag', 'groupOrderID': ...</td>\n",
       "      <td>{'teamId': 80, 'teamName': '1. FC Union Berlin...</td>\n",
       "      <td>...</td>\n",
       "      <td>None</td>\n",
       "      <td>None</td>\n",
       "      <td>1. FC Union Berlin</td>\n",
       "      <td>Werder Bremen</td>\n",
       "      <td>1</td>\n",
       "      <td>0</td>\n",
       "      <td>3</td>\n",
       "      <td>0</td>\n",
       "      <td>Union</td>\n",
       "      <td>22.012</td>\n",
       "    </tr>\n",
       "    <tr>\n",
       "      <th>305</th>\n",
       "      <td>64170</td>\n",
       "      <td>2023-05-27T15:30:00</td>\n",
       "      <td>W. Europe Standard Time</td>\n",
       "      <td>4562</td>\n",
       "      <td>1. Fußball-Bundesliga 2022/2023</td>\n",
       "      <td>2022</td>\n",
       "      <td>bl1</td>\n",
       "      <td>2023-05-27T13:30:00Z</td>\n",
       "      <td>{'groupName': '34. Spieltag', 'groupOrderID': ...</td>\n",
       "      <td>{'teamId': 131, 'teamName': 'VfL Wolfsburg', '...</td>\n",
       "      <td>...</td>\n",
       "      <td>None</td>\n",
       "      <td>None</td>\n",
       "      <td>VfL Wolfsburg</td>\n",
       "      <td>Hertha BSC</td>\n",
       "      <td>1</td>\n",
       "      <td>2</td>\n",
       "      <td>0</td>\n",
       "      <td>3</td>\n",
       "      <td>Wolfsburg</td>\n",
       "      <td>26.775</td>\n",
       "    </tr>\n",
       "  </tbody>\n",
       "</table>\n",
       "<p>5 rows × 25 columns</p>\n",
       "</div>"
      ],
      "text/plain": [
       "     matchID        matchDateTime               timeZoneID  leagueId  \\\n",
       "301    64166  2023-05-27T15:30:00  W. Europe Standard Time      4562   \n",
       "302    64167  2023-05-27T15:30:00  W. Europe Standard Time      4562   \n",
       "303    64168  2023-05-27T15:30:00  W. Europe Standard Time      4562   \n",
       "304    64169  2023-05-27T15:30:00  W. Europe Standard Time      4562   \n",
       "305    64170  2023-05-27T15:30:00  W. Europe Standard Time      4562   \n",
       "\n",
       "                          leagueName  leagueSeason leagueShortcut  \\\n",
       "301  1. Fußball-Bundesliga 2022/2023          2022            bl1   \n",
       "302  1. Fußball-Bundesliga 2022/2023          2022            bl1   \n",
       "303  1. Fußball-Bundesliga 2022/2023          2022            bl1   \n",
       "304  1. Fußball-Bundesliga 2022/2023          2022            bl1   \n",
       "305  1. Fußball-Bundesliga 2022/2023          2022            bl1   \n",
       "\n",
       "         matchDateTimeUTC                                              group  \\\n",
       "301  2023-05-27T13:30:00Z  {'groupName': '34. Spieltag', 'groupOrderID': ...   \n",
       "302  2023-05-27T13:30:00Z  {'groupName': '34. Spieltag', 'groupOrderID': ...   \n",
       "303  2023-05-27T13:30:00Z  {'groupName': '34. Spieltag', 'groupOrderID': ...   \n",
       "304  2023-05-27T13:30:00Z  {'groupName': '34. Spieltag', 'groupOrderID': ...   \n",
       "305  2023-05-27T13:30:00Z  {'groupName': '34. Spieltag', 'groupOrderID': ...   \n",
       "\n",
       "                                                 team1  ... location  \\\n",
       "301  {'teamId': 65, 'teamName': '1. FC Köln', 'shor...  ...     None   \n",
       "302  {'teamId': 1635, 'teamName': 'RB Leipzig', 'sh...  ...     None   \n",
       "303  {'teamId': 16, 'teamName': 'VfB Stuttgart', 's...  ...     None   \n",
       "304  {'teamId': 80, 'teamName': '1. FC Union Berlin...  ...     None   \n",
       "305  {'teamId': 131, 'teamName': 'VfL Wolfsburg', '...  ...     None   \n",
       "\n",
       "    numberOfViewers                heim                 gast Tore Heim  \\\n",
       "301            None          1. FC Köln    FC Bayern München         1   \n",
       "302            None          RB Leipzig        FC Schalke 04         4   \n",
       "303            None       VfB Stuttgart  TSG 1899 Hoffenheim         1   \n",
       "304            None  1. FC Union Berlin        Werder Bremen         1   \n",
       "305            None       VfL Wolfsburg           Hertha BSC         1   \n",
       "\n",
       "    Tore Gast Punkte Heim Punkte Gast        Ort  Zuschauerzahl  \n",
       "301         2           0           3       Köln         50.000  \n",
       "302         2           3           0    Leipzig         47.069  \n",
       "303         1           1           1  Stuttgart         47.500  \n",
       "304         0           3           0      Union         22.012  \n",
       "305         2           0           3  Wolfsburg         26.775  \n",
       "\n",
       "[5 rows x 25 columns]"
      ]
     },
     "execution_count": 315,
     "metadata": {},
     "output_type": "execute_result"
    }
   ],
   "source": [
    "begegnungen_2022_23 = pd.concat(spieltage_dfs, ignore_index = True)\n",
    "#begegnungen_2022_23.head()\n",
    "begegnungen_2022_23.tail()"
   ]
  },
  {
   "cell_type": "markdown",
   "metadata": {},
   "source": [
    "Die Funktion func_punte schreibt für jeden Club seine Punkte des Spieltags in ein dict:"
   ]
  },
  {
   "cell_type": "code",
   "execution_count": 45,
   "metadata": {},
   "outputs": [],
   "source": [
    "punktzahlen = pd.DataFrame(columns = clubs_set)\n",
    "\n",
    "\n",
    "\n",
    "\n",
    "def func_punkte(spieltag):\n",
    "    punkte = dict()\n",
    "    for club in clubs_set: \n",
    "        if club in spieltag[\"heim\"].values:\n",
    "            punkte[club] = spieltag[spieltag[\"heim\"] == club][\"Punkte Heim\"].values[0]\n",
    "        elif club in spieltag[\"gast\"].values:\n",
    "            punkte[club] = spieltag[spieltag[\"gast\"] == club][\"Punkte Gast\"].values[0]\n",
    "    return punkte\n"
   ]
  },
  {
   "cell_type": "markdown",
   "metadata": {},
   "source": [
    "Diese Funktion schreibt Punkte, Tore und Gegentore zu einem bestimmten Spieltag in ein dict, wobei die einzelnen Club die Keys sind:"
   ]
  },
  {
   "cell_type": "code",
   "execution_count": 59,
   "metadata": {},
   "outputs": [],
   "source": [
    "def func_stats(spieltag):\n",
    "    stats = dict()\n",
    "    for club in clubs_set: \n",
    "        if club in spieltag[\"heim\"].values:\n",
    "            stats[club] = { \"Punkte\": spieltag[spieltag[\"heim\"] == club][\"Punkte Heim\"].values[0],\n",
    "                           \"Tore\": spieltag[spieltag[\"heim\"] == club][\"Tore Heim\"].values[0],\n",
    "                           \"Gegentore\" : spieltag[spieltag[\"heim\"] == club][\"Tore Gast\"].values[0]}\n",
    "        elif club in spieltag[\"gast\"].values:\n",
    "            stats[club] = { \"Punkte\": spieltag[spieltag[\"gast\"] == club][\"Punkte Gast\"].values[0],\n",
    "                           \"Tore\": spieltag[spieltag[\"gast\"] == club][\"Tore Gast\"].values[0],\n",
    "                           \"Gegentore\" : spieltag[spieltag[\"gast\"] == club][\"Tore Heim\"].values[0]}\n",
    "    return stats\n"
   ]
  },
  {
   "cell_type": "code",
   "execution_count": 60,
   "metadata": {},
   "outputs": [],
   "source": [
    "punktzahlen = list()\n",
    "stats = list()\n",
    "for df in spieltage_dfs:\n",
    "    punktzahlen.append(func_punkte(df))\n",
    "    stats.append(func_stats(df))"
   ]
  },
  {
   "cell_type": "code",
   "execution_count": 62,
   "metadata": {},
   "outputs": [
    {
     "name": "stdout",
     "output_type": "stream",
     "text": [
      "{'FC Bayern München': {'Punkte': 3, 'Tore': 6, 'Gegentore': 1}, 'RB Leipzig': {'Punkte': 1, 'Tore': 1, 'Gegentore': 1}, 'TSG 1899 Hoffenheim': {'Punkte': 0, 'Tore': 1, 'Gegentore': 3}, 'SC Freiburg': {'Punkte': 3, 'Tore': 4, 'Gegentore': 0}, 'FC Augsburg': {'Punkte': 0, 'Tore': 0, 'Gegentore': 4}, 'Werder Bremen': {'Punkte': 1, 'Tore': 2, 'Gegentore': 2}, 'Eintracht Frankfurt': {'Punkte': 0, 'Tore': 1, 'Gegentore': 6}, 'VfB Stuttgart': {'Punkte': 1, 'Tore': 1, 'Gegentore': 1}, '1. FSV Mainz 05': {'Punkte': 3, 'Tore': 2, 'Gegentore': 1}, 'Bayer Leverkusen': {'Punkte': 0, 'Tore': 0, 'Gegentore': 1}, 'Borussia Mönchengladbach': {'Punkte': 3, 'Tore': 3, 'Gegentore': 1}, 'VfL Wolfsburg': {'Punkte': 1, 'Tore': 2, 'Gegentore': 2}, '1. FC Köln': {'Punkte': 3, 'Tore': 3, 'Gegentore': 1}, 'Borussia Dortmund': {'Punkte': 3, 'Tore': 1, 'Gegentore': 0}, '1. FC Union Berlin': {'Punkte': 3, 'Tore': 3, 'Gegentore': 1}, 'FC Schalke 04': {'Punkte': 0, 'Tore': 1, 'Gegentore': 3}, 'Hertha BSC': {'Punkte': 0, 'Tore': 1, 'Gegentore': 3}, 'VfL Bochum': {'Punkte': 0, 'Tore': 1, 'Gegentore': 2}}\n"
     ]
    }
   ],
   "source": [
    "print(stats[0])"
   ]
  },
  {
   "cell_type": "markdown",
   "metadata": {},
   "source": [
    "Wir bauen jetzt für jeden Club ein DataFrame mit Punkten und Punkten gesamt, Toren und Gegentoren (jeweils auch gesamt). Diese Dataframes sammeln wir wieder in einem dict"
   ]
  },
  {
   "cell_type": "code",
   "execution_count": 267,
   "metadata": {},
   "outputs": [],
   "source": [
    "club_stats_dfs = {}\n",
    "for club in clubs_set:\n",
    "    df = pd.DataFrame(columns = [\"Spieltag\", \"Punkte Spieltag\", \"Tore Spieltag\", \"Gegentore Spieltag\", \"Punkte gesamt\", \n",
    "                                 \"Tore gesamt\", \"Gegentore gesamt\"])\n",
    "    gesamtpunkte = 0\n",
    "    gesamttore = 0\n",
    "    gesamtgegentore = 0\n",
    "    for i in range(0,34):\n",
    "        spiel = i+1\n",
    "        punkte_spieltag = stats[i][club][\"Punkte\"]\n",
    "        tore_spieltag = stats[i][club][\"Tore\"]\n",
    "        gegentore_spieltag = stats[i][club][\"Gegentore\"]\n",
    "        gesamtpunkte = gesamtpunkte + punkte_spieltag\n",
    "        gesamttore = gesamttore + tore_spieltag\n",
    "        gesamtgegentore = gesamtgegentore + gegentore_spieltag\n",
    "        \n",
    "        df = df.append(pd.Series([spiel, punkte_spieltag, tore_spieltag, gegentore_spieltag, \n",
    "                                     gesamtpunkte, gesamttore, gesamtgegentore], index = df.columns), ignore_index = True)\n",
    "    club_stats_dfs[club] = df"
   ]
  },
  {
   "cell_type": "code",
   "execution_count": 268,
   "metadata": {},
   "outputs": [
    {
     "data": {
      "text/html": [
       "<div>\n",
       "<style scoped>\n",
       "    .dataframe tbody tr th:only-of-type {\n",
       "        vertical-align: middle;\n",
       "    }\n",
       "\n",
       "    .dataframe tbody tr th {\n",
       "        vertical-align: top;\n",
       "    }\n",
       "\n",
       "    .dataframe thead th {\n",
       "        text-align: right;\n",
       "    }\n",
       "</style>\n",
       "<table border=\"1\" class=\"dataframe\">\n",
       "  <thead>\n",
       "    <tr style=\"text-align: right;\">\n",
       "      <th></th>\n",
       "      <th>Spieltag</th>\n",
       "      <th>Punkte Spieltag</th>\n",
       "      <th>Tore Spieltag</th>\n",
       "      <th>Gegentore Spieltag</th>\n",
       "      <th>Punkte gesamt</th>\n",
       "      <th>Tore gesamt</th>\n",
       "      <th>Gegentore gesamt</th>\n",
       "    </tr>\n",
       "  </thead>\n",
       "  <tbody>\n",
       "    <tr>\n",
       "      <th>0</th>\n",
       "      <td>1</td>\n",
       "      <td>3</td>\n",
       "      <td>6</td>\n",
       "      <td>1</td>\n",
       "      <td>3</td>\n",
       "      <td>6</td>\n",
       "      <td>1</td>\n",
       "    </tr>\n",
       "    <tr>\n",
       "      <th>1</th>\n",
       "      <td>2</td>\n",
       "      <td>3</td>\n",
       "      <td>2</td>\n",
       "      <td>0</td>\n",
       "      <td>6</td>\n",
       "      <td>8</td>\n",
       "      <td>1</td>\n",
       "    </tr>\n",
       "    <tr>\n",
       "      <th>2</th>\n",
       "      <td>3</td>\n",
       "      <td>3</td>\n",
       "      <td>7</td>\n",
       "      <td>0</td>\n",
       "      <td>9</td>\n",
       "      <td>15</td>\n",
       "      <td>1</td>\n",
       "    </tr>\n",
       "    <tr>\n",
       "      <th>3</th>\n",
       "      <td>4</td>\n",
       "      <td>1</td>\n",
       "      <td>1</td>\n",
       "      <td>1</td>\n",
       "      <td>10</td>\n",
       "      <td>16</td>\n",
       "      <td>2</td>\n",
       "    </tr>\n",
       "    <tr>\n",
       "      <th>4</th>\n",
       "      <td>5</td>\n",
       "      <td>1</td>\n",
       "      <td>1</td>\n",
       "      <td>1</td>\n",
       "      <td>11</td>\n",
       "      <td>17</td>\n",
       "      <td>3</td>\n",
       "    </tr>\n",
       "    <tr>\n",
       "      <th>5</th>\n",
       "      <td>6</td>\n",
       "      <td>1</td>\n",
       "      <td>2</td>\n",
       "      <td>2</td>\n",
       "      <td>12</td>\n",
       "      <td>19</td>\n",
       "      <td>5</td>\n",
       "    </tr>\n",
       "    <tr>\n",
       "      <th>6</th>\n",
       "      <td>7</td>\n",
       "      <td>0</td>\n",
       "      <td>0</td>\n",
       "      <td>1</td>\n",
       "      <td>12</td>\n",
       "      <td>19</td>\n",
       "      <td>6</td>\n",
       "    </tr>\n",
       "    <tr>\n",
       "      <th>7</th>\n",
       "      <td>8</td>\n",
       "      <td>3</td>\n",
       "      <td>4</td>\n",
       "      <td>0</td>\n",
       "      <td>15</td>\n",
       "      <td>23</td>\n",
       "      <td>6</td>\n",
       "    </tr>\n",
       "    <tr>\n",
       "      <th>8</th>\n",
       "      <td>9</td>\n",
       "      <td>1</td>\n",
       "      <td>2</td>\n",
       "      <td>2</td>\n",
       "      <td>16</td>\n",
       "      <td>25</td>\n",
       "      <td>8</td>\n",
       "    </tr>\n",
       "    <tr>\n",
       "      <th>9</th>\n",
       "      <td>10</td>\n",
       "      <td>3</td>\n",
       "      <td>5</td>\n",
       "      <td>0</td>\n",
       "      <td>19</td>\n",
       "      <td>30</td>\n",
       "      <td>8</td>\n",
       "    </tr>\n",
       "    <tr>\n",
       "      <th>10</th>\n",
       "      <td>11</td>\n",
       "      <td>3</td>\n",
       "      <td>2</td>\n",
       "      <td>0</td>\n",
       "      <td>22</td>\n",
       "      <td>32</td>\n",
       "      <td>8</td>\n",
       "    </tr>\n",
       "    <tr>\n",
       "      <th>11</th>\n",
       "      <td>12</td>\n",
       "      <td>3</td>\n",
       "      <td>6</td>\n",
       "      <td>2</td>\n",
       "      <td>25</td>\n",
       "      <td>38</td>\n",
       "      <td>10</td>\n",
       "    </tr>\n",
       "    <tr>\n",
       "      <th>12</th>\n",
       "      <td>13</td>\n",
       "      <td>3</td>\n",
       "      <td>3</td>\n",
       "      <td>2</td>\n",
       "      <td>28</td>\n",
       "      <td>41</td>\n",
       "      <td>12</td>\n",
       "    </tr>\n",
       "    <tr>\n",
       "      <th>13</th>\n",
       "      <td>14</td>\n",
       "      <td>3</td>\n",
       "      <td>6</td>\n",
       "      <td>1</td>\n",
       "      <td>31</td>\n",
       "      <td>47</td>\n",
       "      <td>13</td>\n",
       "    </tr>\n",
       "    <tr>\n",
       "      <th>14</th>\n",
       "      <td>15</td>\n",
       "      <td>3</td>\n",
       "      <td>2</td>\n",
       "      <td>0</td>\n",
       "      <td>34</td>\n",
       "      <td>49</td>\n",
       "      <td>13</td>\n",
       "    </tr>\n",
       "    <tr>\n",
       "      <th>15</th>\n",
       "      <td>16</td>\n",
       "      <td>1</td>\n",
       "      <td>1</td>\n",
       "      <td>1</td>\n",
       "      <td>35</td>\n",
       "      <td>50</td>\n",
       "      <td>14</td>\n",
       "    </tr>\n",
       "    <tr>\n",
       "      <th>16</th>\n",
       "      <td>17</td>\n",
       "      <td>1</td>\n",
       "      <td>1</td>\n",
       "      <td>1</td>\n",
       "      <td>36</td>\n",
       "      <td>51</td>\n",
       "      <td>15</td>\n",
       "    </tr>\n",
       "    <tr>\n",
       "      <th>17</th>\n",
       "      <td>18</td>\n",
       "      <td>1</td>\n",
       "      <td>1</td>\n",
       "      <td>1</td>\n",
       "      <td>37</td>\n",
       "      <td>52</td>\n",
       "      <td>16</td>\n",
       "    </tr>\n",
       "    <tr>\n",
       "      <th>18</th>\n",
       "      <td>19</td>\n",
       "      <td>3</td>\n",
       "      <td>4</td>\n",
       "      <td>2</td>\n",
       "      <td>40</td>\n",
       "      <td>56</td>\n",
       "      <td>18</td>\n",
       "    </tr>\n",
       "    <tr>\n",
       "      <th>19</th>\n",
       "      <td>20</td>\n",
       "      <td>3</td>\n",
       "      <td>3</td>\n",
       "      <td>0</td>\n",
       "      <td>43</td>\n",
       "      <td>59</td>\n",
       "      <td>18</td>\n",
       "    </tr>\n",
       "    <tr>\n",
       "      <th>20</th>\n",
       "      <td>21</td>\n",
       "      <td>0</td>\n",
       "      <td>2</td>\n",
       "      <td>3</td>\n",
       "      <td>43</td>\n",
       "      <td>61</td>\n",
       "      <td>21</td>\n",
       "    </tr>\n",
       "    <tr>\n",
       "      <th>21</th>\n",
       "      <td>22</td>\n",
       "      <td>3</td>\n",
       "      <td>3</td>\n",
       "      <td>0</td>\n",
       "      <td>46</td>\n",
       "      <td>64</td>\n",
       "      <td>21</td>\n",
       "    </tr>\n",
       "    <tr>\n",
       "      <th>22</th>\n",
       "      <td>23</td>\n",
       "      <td>3</td>\n",
       "      <td>2</td>\n",
       "      <td>1</td>\n",
       "      <td>49</td>\n",
       "      <td>66</td>\n",
       "      <td>22</td>\n",
       "    </tr>\n",
       "    <tr>\n",
       "      <th>23</th>\n",
       "      <td>24</td>\n",
       "      <td>3</td>\n",
       "      <td>5</td>\n",
       "      <td>3</td>\n",
       "      <td>52</td>\n",
       "      <td>71</td>\n",
       "      <td>25</td>\n",
       "    </tr>\n",
       "    <tr>\n",
       "      <th>24</th>\n",
       "      <td>25</td>\n",
       "      <td>0</td>\n",
       "      <td>1</td>\n",
       "      <td>2</td>\n",
       "      <td>52</td>\n",
       "      <td>72</td>\n",
       "      <td>27</td>\n",
       "    </tr>\n",
       "    <tr>\n",
       "      <th>25</th>\n",
       "      <td>26</td>\n",
       "      <td>3</td>\n",
       "      <td>4</td>\n",
       "      <td>2</td>\n",
       "      <td>55</td>\n",
       "      <td>76</td>\n",
       "      <td>29</td>\n",
       "    </tr>\n",
       "    <tr>\n",
       "      <th>26</th>\n",
       "      <td>27</td>\n",
       "      <td>3</td>\n",
       "      <td>1</td>\n",
       "      <td>0</td>\n",
       "      <td>58</td>\n",
       "      <td>77</td>\n",
       "      <td>29</td>\n",
       "    </tr>\n",
       "    <tr>\n",
       "      <th>27</th>\n",
       "      <td>28</td>\n",
       "      <td>1</td>\n",
       "      <td>1</td>\n",
       "      <td>1</td>\n",
       "      <td>59</td>\n",
       "      <td>78</td>\n",
       "      <td>30</td>\n",
       "    </tr>\n",
       "    <tr>\n",
       "      <th>28</th>\n",
       "      <td>29</td>\n",
       "      <td>0</td>\n",
       "      <td>1</td>\n",
       "      <td>3</td>\n",
       "      <td>59</td>\n",
       "      <td>79</td>\n",
       "      <td>33</td>\n",
       "    </tr>\n",
       "    <tr>\n",
       "      <th>29</th>\n",
       "      <td>30</td>\n",
       "      <td>3</td>\n",
       "      <td>2</td>\n",
       "      <td>0</td>\n",
       "      <td>62</td>\n",
       "      <td>81</td>\n",
       "      <td>33</td>\n",
       "    </tr>\n",
       "    <tr>\n",
       "      <th>30</th>\n",
       "      <td>31</td>\n",
       "      <td>3</td>\n",
       "      <td>2</td>\n",
       "      <td>1</td>\n",
       "      <td>65</td>\n",
       "      <td>83</td>\n",
       "      <td>34</td>\n",
       "    </tr>\n",
       "    <tr>\n",
       "      <th>31</th>\n",
       "      <td>32</td>\n",
       "      <td>3</td>\n",
       "      <td>6</td>\n",
       "      <td>0</td>\n",
       "      <td>68</td>\n",
       "      <td>89</td>\n",
       "      <td>34</td>\n",
       "    </tr>\n",
       "    <tr>\n",
       "      <th>32</th>\n",
       "      <td>33</td>\n",
       "      <td>0</td>\n",
       "      <td>1</td>\n",
       "      <td>3</td>\n",
       "      <td>68</td>\n",
       "      <td>90</td>\n",
       "      <td>37</td>\n",
       "    </tr>\n",
       "    <tr>\n",
       "      <th>33</th>\n",
       "      <td>34</td>\n",
       "      <td>3</td>\n",
       "      <td>2</td>\n",
       "      <td>1</td>\n",
       "      <td>71</td>\n",
       "      <td>92</td>\n",
       "      <td>38</td>\n",
       "    </tr>\n",
       "  </tbody>\n",
       "</table>\n",
       "</div>"
      ],
      "text/plain": [
       "   Spieltag Punkte Spieltag Tore Spieltag Gegentore Spieltag Punkte gesamt  \\\n",
       "0         1               3             6                  1             3   \n",
       "1         2               3             2                  0             6   \n",
       "2         3               3             7                  0             9   \n",
       "3         4               1             1                  1            10   \n",
       "4         5               1             1                  1            11   \n",
       "5         6               1             2                  2            12   \n",
       "6         7               0             0                  1            12   \n",
       "7         8               3             4                  0            15   \n",
       "8         9               1             2                  2            16   \n",
       "9        10               3             5                  0            19   \n",
       "10       11               3             2                  0            22   \n",
       "11       12               3             6                  2            25   \n",
       "12       13               3             3                  2            28   \n",
       "13       14               3             6                  1            31   \n",
       "14       15               3             2                  0            34   \n",
       "15       16               1             1                  1            35   \n",
       "16       17               1             1                  1            36   \n",
       "17       18               1             1                  1            37   \n",
       "18       19               3             4                  2            40   \n",
       "19       20               3             3                  0            43   \n",
       "20       21               0             2                  3            43   \n",
       "21       22               3             3                  0            46   \n",
       "22       23               3             2                  1            49   \n",
       "23       24               3             5                  3            52   \n",
       "24       25               0             1                  2            52   \n",
       "25       26               3             4                  2            55   \n",
       "26       27               3             1                  0            58   \n",
       "27       28               1             1                  1            59   \n",
       "28       29               0             1                  3            59   \n",
       "29       30               3             2                  0            62   \n",
       "30       31               3             2                  1            65   \n",
       "31       32               3             6                  0            68   \n",
       "32       33               0             1                  3            68   \n",
       "33       34               3             2                  1            71   \n",
       "\n",
       "   Tore gesamt Gegentore gesamt  \n",
       "0            6                1  \n",
       "1            8                1  \n",
       "2           15                1  \n",
       "3           16                2  \n",
       "4           17                3  \n",
       "5           19                5  \n",
       "6           19                6  \n",
       "7           23                6  \n",
       "8           25                8  \n",
       "9           30                8  \n",
       "10          32                8  \n",
       "11          38               10  \n",
       "12          41               12  \n",
       "13          47               13  \n",
       "14          49               13  \n",
       "15          50               14  \n",
       "16          51               15  \n",
       "17          52               16  \n",
       "18          56               18  \n",
       "19          59               18  \n",
       "20          61               21  \n",
       "21          64               21  \n",
       "22          66               22  \n",
       "23          71               25  \n",
       "24          72               27  \n",
       "25          76               29  \n",
       "26          77               29  \n",
       "27          78               30  \n",
       "28          79               33  \n",
       "29          81               33  \n",
       "30          83               34  \n",
       "31          89               34  \n",
       "32          90               37  \n",
       "33          92               38  "
      ]
     },
     "execution_count": 268,
     "metadata": {},
     "output_type": "execute_result"
    }
   ],
   "source": [
    "club_stats_dfs[\"FC Bayern München\"]"
   ]
  },
  {
   "cell_type": "markdown",
   "metadata": {},
   "source": [
    "Es lohnt sich noch die Tordfifferenz zu ergänzen:"
   ]
  },
  {
   "cell_type": "code",
   "execution_count": 299,
   "metadata": {},
   "outputs": [],
   "source": [
    "for club in clubs_set:\n",
    "    club_stats_dfs[club][\"Tordifferenz\"] =  club_stats_dfs[club][\"Tore gesamt\"]-club_stats_dfs[club][\"Gegentore gesamt\"]\n",
    "    "
   ]
  },
  {
   "cell_type": "code",
   "execution_count": 300,
   "metadata": {},
   "outputs": [
    {
     "data": {
      "text/html": [
       "<div>\n",
       "<style scoped>\n",
       "    .dataframe tbody tr th:only-of-type {\n",
       "        vertical-align: middle;\n",
       "    }\n",
       "\n",
       "    .dataframe tbody tr th {\n",
       "        vertical-align: top;\n",
       "    }\n",
       "\n",
       "    .dataframe thead th {\n",
       "        text-align: right;\n",
       "    }\n",
       "</style>\n",
       "<table border=\"1\" class=\"dataframe\">\n",
       "  <thead>\n",
       "    <tr style=\"text-align: right;\">\n",
       "      <th></th>\n",
       "      <th>Spieltag</th>\n",
       "      <th>Punkte Spieltag</th>\n",
       "      <th>Tore Spieltag</th>\n",
       "      <th>Gegentore Spieltag</th>\n",
       "      <th>Punkte gesamt</th>\n",
       "      <th>Tore gesamt</th>\n",
       "      <th>Gegentore gesamt</th>\n",
       "      <th>Tordifferenz</th>\n",
       "    </tr>\n",
       "  </thead>\n",
       "  <tbody>\n",
       "    <tr>\n",
       "      <th>0</th>\n",
       "      <td>1</td>\n",
       "      <td>3</td>\n",
       "      <td>6</td>\n",
       "      <td>1</td>\n",
       "      <td>3</td>\n",
       "      <td>6</td>\n",
       "      <td>1</td>\n",
       "      <td>5</td>\n",
       "    </tr>\n",
       "    <tr>\n",
       "      <th>1</th>\n",
       "      <td>2</td>\n",
       "      <td>3</td>\n",
       "      <td>2</td>\n",
       "      <td>0</td>\n",
       "      <td>6</td>\n",
       "      <td>8</td>\n",
       "      <td>1</td>\n",
       "      <td>7</td>\n",
       "    </tr>\n",
       "    <tr>\n",
       "      <th>2</th>\n",
       "      <td>3</td>\n",
       "      <td>3</td>\n",
       "      <td>7</td>\n",
       "      <td>0</td>\n",
       "      <td>9</td>\n",
       "      <td>15</td>\n",
       "      <td>1</td>\n",
       "      <td>14</td>\n",
       "    </tr>\n",
       "    <tr>\n",
       "      <th>3</th>\n",
       "      <td>4</td>\n",
       "      <td>1</td>\n",
       "      <td>1</td>\n",
       "      <td>1</td>\n",
       "      <td>10</td>\n",
       "      <td>16</td>\n",
       "      <td>2</td>\n",
       "      <td>14</td>\n",
       "    </tr>\n",
       "    <tr>\n",
       "      <th>4</th>\n",
       "      <td>5</td>\n",
       "      <td>1</td>\n",
       "      <td>1</td>\n",
       "      <td>1</td>\n",
       "      <td>11</td>\n",
       "      <td>17</td>\n",
       "      <td>3</td>\n",
       "      <td>14</td>\n",
       "    </tr>\n",
       "  </tbody>\n",
       "</table>\n",
       "</div>"
      ],
      "text/plain": [
       "  Spieltag Punkte Spieltag Tore Spieltag Gegentore Spieltag Punkte gesamt  \\\n",
       "0        1               3             6                  1             3   \n",
       "1        2               3             2                  0             6   \n",
       "2        3               3             7                  0             9   \n",
       "3        4               1             1                  1            10   \n",
       "4        5               1             1                  1            11   \n",
       "\n",
       "  Tore gesamt Gegentore gesamt Tordifferenz  \n",
       "0           6                1            5  \n",
       "1           8                1            7  \n",
       "2          15                1           14  \n",
       "3          16                2           14  \n",
       "4          17                3           14  "
      ]
     },
     "execution_count": 300,
     "metadata": {},
     "output_type": "execute_result"
    }
   ],
   "source": [
    "club_stats_dfs[\"FC Bayern München\"].head()"
   ]
  },
  {
   "cell_type": "markdown",
   "metadata": {},
   "source": [
    "Wir bauen eine Funktion mit der man die Tabelle zu einem vorgegebenem Spieltag ausgeben kann"
   ]
  },
  {
   "cell_type": "code",
   "execution_count": 301,
   "metadata": {},
   "outputs": [],
   "source": [
    "def print_tabelle(spieltag):\n",
    "    cols = [\"Club\", \"Punkte gesamt\", \"Tore gesamt\", \"Gegentore gesamt\", \"Tordifferenz\"]\n",
    "    tabelle = pd.DataFrame(columns= cols)\n",
    "    # extrahiere für jeden Club die stats zum Stand des Spieltags  \n",
    "    for pos, club in enumerate(clubs_set):\n",
    "        #tabelle.iloc[pos] = club_stats_dfs[club].loc[club_stats_dfs[club][\"Spieltag\"]==spieltag]\n",
    "        stats = club_stats_dfs[club].loc[club_stats_dfs[club][\"Spieltag\"]==spieltag]\n",
    "        stats.insert(loc=0, column= \"Club\", value = club)\n",
    "        #stats.insert(loc=0, column= \"Tordifferenz\", value = stats[\"Tore gesamt\"]-stats[\"Gegentore gesamt\"])\n",
    "        tabelle = pd.concat([tabelle, stats], ignore_index = True)\n",
    "    tabelle.sort_values(by = [\"Punkte gesamt\", \"Tordifferenz\"], ascending= False, inplace = True)\n",
    "   \n",
    "    tabelle.reset_index(inplace = True, drop = True)\n",
    "    tabelle[\"Position\"] = tabelle.index + 1\n",
    "    tabelle.set_index(\"Position\", inplace = True)\n",
    "    cols  = [\"Club\", \"Spieltag\", \"Punkte gesamt\", \"Tore gesamt\", \"Gegentore gesamt\", \"Tordifferenz\"]\n",
    "    tabelle = tabelle.reindex(columns = cols)\n",
    "    \n",
    "\n",
    "    display(tabelle)"
   ]
  },
  {
   "cell_type": "markdown",
   "metadata": {},
   "source": [
    "\n",
    "Ein Test:  "
   ]
  },
  {
   "cell_type": "markdown",
   "metadata": {},
   "source": [
    "Es bietet sich an die Tabellen-Datensätze zu speichern:"
   ]
  },
  {
   "cell_type": "code",
   "execution_count": 302,
   "metadata": {},
   "outputs": [
    {
     "data": {
      "text/html": [
       "<div>\n",
       "<style scoped>\n",
       "    .dataframe tbody tr th:only-of-type {\n",
       "        vertical-align: middle;\n",
       "    }\n",
       "\n",
       "    .dataframe tbody tr th {\n",
       "        vertical-align: top;\n",
       "    }\n",
       "\n",
       "    .dataframe thead th {\n",
       "        text-align: right;\n",
       "    }\n",
       "</style>\n",
       "<table border=\"1\" class=\"dataframe\">\n",
       "  <thead>\n",
       "    <tr style=\"text-align: right;\">\n",
       "      <th></th>\n",
       "      <th>Club</th>\n",
       "      <th>Spieltag</th>\n",
       "      <th>Punkte gesamt</th>\n",
       "      <th>Tore gesamt</th>\n",
       "      <th>Gegentore gesamt</th>\n",
       "      <th>Tordifferenz</th>\n",
       "    </tr>\n",
       "    <tr>\n",
       "      <th>Position</th>\n",
       "      <th></th>\n",
       "      <th></th>\n",
       "      <th></th>\n",
       "      <th></th>\n",
       "      <th></th>\n",
       "      <th></th>\n",
       "    </tr>\n",
       "  </thead>\n",
       "  <tbody>\n",
       "    <tr>\n",
       "      <th>1</th>\n",
       "      <td>FC Bayern München</td>\n",
       "      <td>34</td>\n",
       "      <td>71</td>\n",
       "      <td>92</td>\n",
       "      <td>38</td>\n",
       "      <td>54</td>\n",
       "    </tr>\n",
       "    <tr>\n",
       "      <th>2</th>\n",
       "      <td>Borussia Dortmund</td>\n",
       "      <td>34</td>\n",
       "      <td>71</td>\n",
       "      <td>83</td>\n",
       "      <td>44</td>\n",
       "      <td>39</td>\n",
       "    </tr>\n",
       "    <tr>\n",
       "      <th>3</th>\n",
       "      <td>RB Leipzig</td>\n",
       "      <td>34</td>\n",
       "      <td>66</td>\n",
       "      <td>64</td>\n",
       "      <td>41</td>\n",
       "      <td>23</td>\n",
       "    </tr>\n",
       "    <tr>\n",
       "      <th>4</th>\n",
       "      <td>1. FC Union Berlin</td>\n",
       "      <td>34</td>\n",
       "      <td>62</td>\n",
       "      <td>51</td>\n",
       "      <td>38</td>\n",
       "      <td>13</td>\n",
       "    </tr>\n",
       "    <tr>\n",
       "      <th>5</th>\n",
       "      <td>SC Freiburg</td>\n",
       "      <td>34</td>\n",
       "      <td>59</td>\n",
       "      <td>51</td>\n",
       "      <td>44</td>\n",
       "      <td>7</td>\n",
       "    </tr>\n",
       "    <tr>\n",
       "      <th>6</th>\n",
       "      <td>Bayer Leverkusen</td>\n",
       "      <td>34</td>\n",
       "      <td>50</td>\n",
       "      <td>57</td>\n",
       "      <td>49</td>\n",
       "      <td>8</td>\n",
       "    </tr>\n",
       "    <tr>\n",
       "      <th>7</th>\n",
       "      <td>Eintracht Frankfurt</td>\n",
       "      <td>34</td>\n",
       "      <td>50</td>\n",
       "      <td>58</td>\n",
       "      <td>52</td>\n",
       "      <td>6</td>\n",
       "    </tr>\n",
       "    <tr>\n",
       "      <th>8</th>\n",
       "      <td>VfL Wolfsburg</td>\n",
       "      <td>34</td>\n",
       "      <td>49</td>\n",
       "      <td>57</td>\n",
       "      <td>48</td>\n",
       "      <td>9</td>\n",
       "    </tr>\n",
       "    <tr>\n",
       "      <th>9</th>\n",
       "      <td>1. FSV Mainz 05</td>\n",
       "      <td>34</td>\n",
       "      <td>46</td>\n",
       "      <td>54</td>\n",
       "      <td>55</td>\n",
       "      <td>-1</td>\n",
       "    </tr>\n",
       "    <tr>\n",
       "      <th>10</th>\n",
       "      <td>Borussia Mönchengladbach</td>\n",
       "      <td>34</td>\n",
       "      <td>43</td>\n",
       "      <td>52</td>\n",
       "      <td>55</td>\n",
       "      <td>-3</td>\n",
       "    </tr>\n",
       "    <tr>\n",
       "      <th>11</th>\n",
       "      <td>1. FC Köln</td>\n",
       "      <td>34</td>\n",
       "      <td>42</td>\n",
       "      <td>49</td>\n",
       "      <td>54</td>\n",
       "      <td>-5</td>\n",
       "    </tr>\n",
       "    <tr>\n",
       "      <th>12</th>\n",
       "      <td>TSG 1899 Hoffenheim</td>\n",
       "      <td>34</td>\n",
       "      <td>36</td>\n",
       "      <td>48</td>\n",
       "      <td>57</td>\n",
       "      <td>-9</td>\n",
       "    </tr>\n",
       "    <tr>\n",
       "      <th>13</th>\n",
       "      <td>Werder Bremen</td>\n",
       "      <td>34</td>\n",
       "      <td>36</td>\n",
       "      <td>51</td>\n",
       "      <td>64</td>\n",
       "      <td>-13</td>\n",
       "    </tr>\n",
       "    <tr>\n",
       "      <th>14</th>\n",
       "      <td>VfL Bochum</td>\n",
       "      <td>34</td>\n",
       "      <td>35</td>\n",
       "      <td>40</td>\n",
       "      <td>72</td>\n",
       "      <td>-32</td>\n",
       "    </tr>\n",
       "    <tr>\n",
       "      <th>15</th>\n",
       "      <td>FC Augsburg</td>\n",
       "      <td>34</td>\n",
       "      <td>34</td>\n",
       "      <td>42</td>\n",
       "      <td>63</td>\n",
       "      <td>-21</td>\n",
       "    </tr>\n",
       "    <tr>\n",
       "      <th>16</th>\n",
       "      <td>VfB Stuttgart</td>\n",
       "      <td>34</td>\n",
       "      <td>33</td>\n",
       "      <td>45</td>\n",
       "      <td>57</td>\n",
       "      <td>-12</td>\n",
       "    </tr>\n",
       "    <tr>\n",
       "      <th>17</th>\n",
       "      <td>FC Schalke 04</td>\n",
       "      <td>34</td>\n",
       "      <td>31</td>\n",
       "      <td>35</td>\n",
       "      <td>71</td>\n",
       "      <td>-36</td>\n",
       "    </tr>\n",
       "    <tr>\n",
       "      <th>18</th>\n",
       "      <td>Hertha BSC</td>\n",
       "      <td>34</td>\n",
       "      <td>29</td>\n",
       "      <td>42</td>\n",
       "      <td>69</td>\n",
       "      <td>-27</td>\n",
       "    </tr>\n",
       "  </tbody>\n",
       "</table>\n",
       "</div>"
      ],
      "text/plain": [
       "                              Club Spieltag Punkte gesamt Tore gesamt  \\\n",
       "Position                                                                \n",
       "1                FC Bayern München       34            71          92   \n",
       "2                Borussia Dortmund       34            71          83   \n",
       "3                       RB Leipzig       34            66          64   \n",
       "4               1. FC Union Berlin       34            62          51   \n",
       "5                      SC Freiburg       34            59          51   \n",
       "6                 Bayer Leverkusen       34            50          57   \n",
       "7              Eintracht Frankfurt       34            50          58   \n",
       "8                    VfL Wolfsburg       34            49          57   \n",
       "9                  1. FSV Mainz 05       34            46          54   \n",
       "10        Borussia Mönchengladbach       34            43          52   \n",
       "11                      1. FC Köln       34            42          49   \n",
       "12             TSG 1899 Hoffenheim       34            36          48   \n",
       "13                   Werder Bremen       34            36          51   \n",
       "14                      VfL Bochum       34            35          40   \n",
       "15                     FC Augsburg       34            34          42   \n",
       "16                   VfB Stuttgart       34            33          45   \n",
       "17                   FC Schalke 04       34            31          35   \n",
       "18                      Hertha BSC       34            29          42   \n",
       "\n",
       "         Gegentore gesamt Tordifferenz  \n",
       "Position                                \n",
       "1                      38           54  \n",
       "2                      44           39  \n",
       "3                      41           23  \n",
       "4                      38           13  \n",
       "5                      44            7  \n",
       "6                      49            8  \n",
       "7                      52            6  \n",
       "8                      48            9  \n",
       "9                      55           -1  \n",
       "10                     55           -3  \n",
       "11                     54           -5  \n",
       "12                     57           -9  \n",
       "13                     64          -13  \n",
       "14                     72          -32  \n",
       "15                     63          -21  \n",
       "16                     57          -12  \n",
       "17                     71          -36  \n",
       "18                     69          -27  "
      ]
     },
     "metadata": {},
     "output_type": "display_data"
    }
   ],
   "source": [
    "print_tabelle(34)"
   ]
  },
  {
   "cell_type": "code",
   "execution_count": 305,
   "metadata": {},
   "outputs": [],
   "source": [
    "def return_tabelle_df(spieltag):\n",
    "    cols = [\"Club\", \"Punkte gesamt\", \"Tore gesamt\", \"Gegentore gesamt\", \"Tordifferenz\"]\n",
    "    tabelle = pd.DataFrame(columns= cols)\n",
    "    # extrahiere für jeden Club die stats zum Stand des Spieltags  \n",
    "    for pos, club in enumerate(clubs_set):\n",
    "        #tabelle.iloc[pos] = club_stats_dfs[club].loc[club_stats_dfs[club][\"Spieltag\"]==spieltag]\n",
    "        stats = club_stats_dfs[club].loc[club_stats_dfs[club][\"Spieltag\"]==spieltag]\n",
    "        stats.insert(loc=0, column= \"Club\", value = club)\n",
    "        #stats.insert(loc=0, column= \"Tordifferenz\", value = stats[\"Tore gesamt\"]-stats[\"Gegentore gesamt\"])\n",
    "        tabelle = pd.concat([tabelle, stats], ignore_index = True)\n",
    "    tabelle.sort_values(by = [\"Punkte gesamt\", \"Tordifferenz\"])\n",
    "    tabelle.reset_index(inplace = True, drop = True)\n",
    "    tabelle[\"Position\"] = tabelle.index + 1\n",
    "    tabelle.set_index(\"Position\", inplace = True)\n",
    "    cols  = [\"Club\", \"Spieltag\", \"Punkte gesamt\", \"Tore gesamt\", \"Gegentore gesamt\", \"Tordifferenz\"]\n",
    "    tabelle = tabelle.reindex(columns = cols)\n",
    "    return tabelle"
   ]
  },
  {
   "cell_type": "markdown",
   "metadata": {},
   "source": [
    "Wir speichern die Tabellen in einem dict:"
   ]
  },
  {
   "cell_type": "code",
   "execution_count": 306,
   "metadata": {},
   "outputs": [],
   "source": [
    "tabellen_dict = {}\n",
    "for spieltag in range(1,35):\n",
    "    tabellen_dict[spieltag] = return_tabelle_df(spieltag)"
   ]
  },
  {
   "cell_type": "code",
   "execution_count": 307,
   "metadata": {},
   "outputs": [
    {
     "data": {
      "text/html": [
       "<div>\n",
       "<style scoped>\n",
       "    .dataframe tbody tr th:only-of-type {\n",
       "        vertical-align: middle;\n",
       "    }\n",
       "\n",
       "    .dataframe tbody tr th {\n",
       "        vertical-align: top;\n",
       "    }\n",
       "\n",
       "    .dataframe thead th {\n",
       "        text-align: right;\n",
       "    }\n",
       "</style>\n",
       "<table border=\"1\" class=\"dataframe\">\n",
       "  <thead>\n",
       "    <tr style=\"text-align: right;\">\n",
       "      <th></th>\n",
       "      <th>Club</th>\n",
       "      <th>Spieltag</th>\n",
       "      <th>Punkte gesamt</th>\n",
       "      <th>Tore gesamt</th>\n",
       "      <th>Gegentore gesamt</th>\n",
       "      <th>Tordifferenz</th>\n",
       "    </tr>\n",
       "    <tr>\n",
       "      <th>Position</th>\n",
       "      <th></th>\n",
       "      <th></th>\n",
       "      <th></th>\n",
       "      <th></th>\n",
       "      <th></th>\n",
       "      <th></th>\n",
       "    </tr>\n",
       "  </thead>\n",
       "  <tbody>\n",
       "    <tr>\n",
       "      <th>1</th>\n",
       "      <td>FC Bayern München</td>\n",
       "      <td>34</td>\n",
       "      <td>71</td>\n",
       "      <td>92</td>\n",
       "      <td>38</td>\n",
       "      <td>54</td>\n",
       "    </tr>\n",
       "    <tr>\n",
       "      <th>2</th>\n",
       "      <td>RB Leipzig</td>\n",
       "      <td>34</td>\n",
       "      <td>66</td>\n",
       "      <td>64</td>\n",
       "      <td>41</td>\n",
       "      <td>23</td>\n",
       "    </tr>\n",
       "    <tr>\n",
       "      <th>3</th>\n",
       "      <td>TSG 1899 Hoffenheim</td>\n",
       "      <td>34</td>\n",
       "      <td>36</td>\n",
       "      <td>48</td>\n",
       "      <td>57</td>\n",
       "      <td>-9</td>\n",
       "    </tr>\n",
       "    <tr>\n",
       "      <th>4</th>\n",
       "      <td>SC Freiburg</td>\n",
       "      <td>34</td>\n",
       "      <td>59</td>\n",
       "      <td>51</td>\n",
       "      <td>44</td>\n",
       "      <td>7</td>\n",
       "    </tr>\n",
       "    <tr>\n",
       "      <th>5</th>\n",
       "      <td>FC Augsburg</td>\n",
       "      <td>34</td>\n",
       "      <td>34</td>\n",
       "      <td>42</td>\n",
       "      <td>63</td>\n",
       "      <td>-21</td>\n",
       "    </tr>\n",
       "    <tr>\n",
       "      <th>6</th>\n",
       "      <td>Werder Bremen</td>\n",
       "      <td>34</td>\n",
       "      <td>36</td>\n",
       "      <td>51</td>\n",
       "      <td>64</td>\n",
       "      <td>-13</td>\n",
       "    </tr>\n",
       "    <tr>\n",
       "      <th>7</th>\n",
       "      <td>Eintracht Frankfurt</td>\n",
       "      <td>34</td>\n",
       "      <td>50</td>\n",
       "      <td>58</td>\n",
       "      <td>52</td>\n",
       "      <td>6</td>\n",
       "    </tr>\n",
       "    <tr>\n",
       "      <th>8</th>\n",
       "      <td>VfB Stuttgart</td>\n",
       "      <td>34</td>\n",
       "      <td>33</td>\n",
       "      <td>45</td>\n",
       "      <td>57</td>\n",
       "      <td>-12</td>\n",
       "    </tr>\n",
       "    <tr>\n",
       "      <th>9</th>\n",
       "      <td>1. FSV Mainz 05</td>\n",
       "      <td>34</td>\n",
       "      <td>46</td>\n",
       "      <td>54</td>\n",
       "      <td>55</td>\n",
       "      <td>-1</td>\n",
       "    </tr>\n",
       "    <tr>\n",
       "      <th>10</th>\n",
       "      <td>Bayer Leverkusen</td>\n",
       "      <td>34</td>\n",
       "      <td>50</td>\n",
       "      <td>57</td>\n",
       "      <td>49</td>\n",
       "      <td>8</td>\n",
       "    </tr>\n",
       "    <tr>\n",
       "      <th>11</th>\n",
       "      <td>Borussia Mönchengladbach</td>\n",
       "      <td>34</td>\n",
       "      <td>43</td>\n",
       "      <td>52</td>\n",
       "      <td>55</td>\n",
       "      <td>-3</td>\n",
       "    </tr>\n",
       "    <tr>\n",
       "      <th>12</th>\n",
       "      <td>VfL Wolfsburg</td>\n",
       "      <td>34</td>\n",
       "      <td>49</td>\n",
       "      <td>57</td>\n",
       "      <td>48</td>\n",
       "      <td>9</td>\n",
       "    </tr>\n",
       "    <tr>\n",
       "      <th>13</th>\n",
       "      <td>1. FC Köln</td>\n",
       "      <td>34</td>\n",
       "      <td>42</td>\n",
       "      <td>49</td>\n",
       "      <td>54</td>\n",
       "      <td>-5</td>\n",
       "    </tr>\n",
       "    <tr>\n",
       "      <th>14</th>\n",
       "      <td>Borussia Dortmund</td>\n",
       "      <td>34</td>\n",
       "      <td>71</td>\n",
       "      <td>83</td>\n",
       "      <td>44</td>\n",
       "      <td>39</td>\n",
       "    </tr>\n",
       "    <tr>\n",
       "      <th>15</th>\n",
       "      <td>1. FC Union Berlin</td>\n",
       "      <td>34</td>\n",
       "      <td>62</td>\n",
       "      <td>51</td>\n",
       "      <td>38</td>\n",
       "      <td>13</td>\n",
       "    </tr>\n",
       "    <tr>\n",
       "      <th>16</th>\n",
       "      <td>FC Schalke 04</td>\n",
       "      <td>34</td>\n",
       "      <td>31</td>\n",
       "      <td>35</td>\n",
       "      <td>71</td>\n",
       "      <td>-36</td>\n",
       "    </tr>\n",
       "    <tr>\n",
       "      <th>17</th>\n",
       "      <td>Hertha BSC</td>\n",
       "      <td>34</td>\n",
       "      <td>29</td>\n",
       "      <td>42</td>\n",
       "      <td>69</td>\n",
       "      <td>-27</td>\n",
       "    </tr>\n",
       "    <tr>\n",
       "      <th>18</th>\n",
       "      <td>VfL Bochum</td>\n",
       "      <td>34</td>\n",
       "      <td>35</td>\n",
       "      <td>40</td>\n",
       "      <td>72</td>\n",
       "      <td>-32</td>\n",
       "    </tr>\n",
       "  </tbody>\n",
       "</table>\n",
       "</div>"
      ],
      "text/plain": [
       "                              Club Spieltag Punkte gesamt Tore gesamt  \\\n",
       "Position                                                                \n",
       "1                FC Bayern München       34            71          92   \n",
       "2                       RB Leipzig       34            66          64   \n",
       "3              TSG 1899 Hoffenheim       34            36          48   \n",
       "4                      SC Freiburg       34            59          51   \n",
       "5                      FC Augsburg       34            34          42   \n",
       "6                    Werder Bremen       34            36          51   \n",
       "7              Eintracht Frankfurt       34            50          58   \n",
       "8                    VfB Stuttgart       34            33          45   \n",
       "9                  1. FSV Mainz 05       34            46          54   \n",
       "10                Bayer Leverkusen       34            50          57   \n",
       "11        Borussia Mönchengladbach       34            43          52   \n",
       "12                   VfL Wolfsburg       34            49          57   \n",
       "13                      1. FC Köln       34            42          49   \n",
       "14               Borussia Dortmund       34            71          83   \n",
       "15              1. FC Union Berlin       34            62          51   \n",
       "16                   FC Schalke 04       34            31          35   \n",
       "17                      Hertha BSC       34            29          42   \n",
       "18                      VfL Bochum       34            35          40   \n",
       "\n",
       "         Gegentore gesamt Tordifferenz  \n",
       "Position                                \n",
       "1                      38           54  \n",
       "2                      41           23  \n",
       "3                      57           -9  \n",
       "4                      44            7  \n",
       "5                      63          -21  \n",
       "6                      64          -13  \n",
       "7                      52            6  \n",
       "8                      57          -12  \n",
       "9                      55           -1  \n",
       "10                     49            8  \n",
       "11                     55           -3  \n",
       "12                     48            9  \n",
       "13                     54           -5  \n",
       "14                     44           39  \n",
       "15                     38           13  \n",
       "16                     71          -36  \n",
       "17                     69          -27  \n",
       "18                     72          -32  "
      ]
     },
     "execution_count": 307,
     "metadata": {},
     "output_type": "execute_result"
    }
   ],
   "source": [
    "tabellen_dict[34]"
   ]
  },
  {
   "cell_type": "markdown",
   "metadata": {},
   "source": [
    "Um interaktive Plots zu erstellen, nutzen wir plotly.express"
   ]
  },
  {
   "cell_type": "code",
   "execution_count": 308,
   "metadata": {
    "scrolled": true
   },
   "outputs": [
    {
     "data": {
      "text/html": [
       "<div>\n",
       "<style scoped>\n",
       "    .dataframe tbody tr th:only-of-type {\n",
       "        vertical-align: middle;\n",
       "    }\n",
       "\n",
       "    .dataframe tbody tr th {\n",
       "        vertical-align: top;\n",
       "    }\n",
       "\n",
       "    .dataframe thead th {\n",
       "        text-align: right;\n",
       "    }\n",
       "</style>\n",
       "<table border=\"1\" class=\"dataframe\">\n",
       "  <thead>\n",
       "    <tr style=\"text-align: right;\">\n",
       "      <th></th>\n",
       "      <th>Spieltag</th>\n",
       "      <th>Punkte Spieltag</th>\n",
       "      <th>Tore Spieltag</th>\n",
       "      <th>Gegentore Spieltag</th>\n",
       "      <th>Punkte gesamt</th>\n",
       "      <th>Tore gesamt</th>\n",
       "      <th>Gegentore gesamt</th>\n",
       "      <th>Tordifferenz</th>\n",
       "    </tr>\n",
       "  </thead>\n",
       "  <tbody>\n",
       "    <tr>\n",
       "      <th>0</th>\n",
       "      <td>1</td>\n",
       "      <td>3</td>\n",
       "      <td>6</td>\n",
       "      <td>1</td>\n",
       "      <td>3</td>\n",
       "      <td>6</td>\n",
       "      <td>1</td>\n",
       "      <td>5</td>\n",
       "    </tr>\n",
       "    <tr>\n",
       "      <th>1</th>\n",
       "      <td>2</td>\n",
       "      <td>3</td>\n",
       "      <td>2</td>\n",
       "      <td>0</td>\n",
       "      <td>6</td>\n",
       "      <td>8</td>\n",
       "      <td>1</td>\n",
       "      <td>7</td>\n",
       "    </tr>\n",
       "    <tr>\n",
       "      <th>2</th>\n",
       "      <td>3</td>\n",
       "      <td>3</td>\n",
       "      <td>7</td>\n",
       "      <td>0</td>\n",
       "      <td>9</td>\n",
       "      <td>15</td>\n",
       "      <td>1</td>\n",
       "      <td>14</td>\n",
       "    </tr>\n",
       "    <tr>\n",
       "      <th>3</th>\n",
       "      <td>4</td>\n",
       "      <td>1</td>\n",
       "      <td>1</td>\n",
       "      <td>1</td>\n",
       "      <td>10</td>\n",
       "      <td>16</td>\n",
       "      <td>2</td>\n",
       "      <td>14</td>\n",
       "    </tr>\n",
       "    <tr>\n",
       "      <th>4</th>\n",
       "      <td>5</td>\n",
       "      <td>1</td>\n",
       "      <td>1</td>\n",
       "      <td>1</td>\n",
       "      <td>11</td>\n",
       "      <td>17</td>\n",
       "      <td>3</td>\n",
       "      <td>14</td>\n",
       "    </tr>\n",
       "  </tbody>\n",
       "</table>\n",
       "</div>"
      ],
      "text/plain": [
       "  Spieltag Punkte Spieltag Tore Spieltag Gegentore Spieltag Punkte gesamt  \\\n",
       "0        1               3             6                  1             3   \n",
       "1        2               3             2                  0             6   \n",
       "2        3               3             7                  0             9   \n",
       "3        4               1             1                  1            10   \n",
       "4        5               1             1                  1            11   \n",
       "\n",
       "  Tore gesamt Gegentore gesamt Tordifferenz  \n",
       "0           6                1            5  \n",
       "1           8                1            7  \n",
       "2          15                1           14  \n",
       "3          16                2           14  \n",
       "4          17                3           14  "
      ]
     },
     "execution_count": 308,
     "metadata": {},
     "output_type": "execute_result"
    }
   ],
   "source": [
    "import plotly.express as px\n",
    "\n",
    "# zu Erinnerung\n",
    "club_stats_dfs[\"FC Bayern München\"].head()"
   ]
  },
  {
   "cell_type": "markdown",
   "metadata": {},
   "source": [
    "Die Funktion Punkte_plotten kann für eine Liste von Clubs deren Punkte im Laufe der Saison plotten"
   ]
  },
  {
   "cell_type": "code",
   "execution_count": 309,
   "metadata": {},
   "outputs": [],
   "source": [
    "def Punkte_plotten(clubs):\n",
    "    clubs_dfs = list()\n",
    "    for i,club in enumerate(clubs):\n",
    "        clubs_dfs.append(club_stats_dfs[clubs[i]])\n",
    "        clubs_dfs[i][\"Club\"] = club\n",
    "    df = pd.concat(clubs_dfs)\n",
    "    title_dict = {\"Punkte gesamt\": \"Gesamtpunktzahl\", \n",
    "                 \"Gegentore gesamt\" : \"Gegentore\",\n",
    "                 \"Tore gesamt\": \"Tore\",\n",
    "                 \"Tore Spieltag\": \"Erzielte Tore an diesem Spieltag\",\n",
    "                 \"Gegentore Spieltag\": \"Gegentore an diesem Spieltag\"}   \n",
    "\n",
    "    fig = px.line(df, x = \"Spieltag\", y = \"Punkte gesamt\", title = title_dict[\"Punkte gesamt\"], color = \"Club\")\n",
    "    fig.show()"
   ]
  },
  {
   "cell_type": "code",
   "execution_count": 234,
   "metadata": {},
   "outputs": [
    {
     "data": {
      "application/vnd.plotly.v1+json": {
       "config": {
        "plotlyServerURL": "https://plot.ly"
       },
       "data": [
        {
         "hovertemplate": "Club=FC Bayern München<br>Spieltag=%{x}<br>Punkte gesamt=%{y}<extra></extra>",
         "legendgroup": "FC Bayern München",
         "line": {
          "color": "#636efa",
          "dash": "solid"
         },
         "mode": "lines",
         "name": "FC Bayern München",
         "orientation": "v",
         "showlegend": true,
         "type": "scatter",
         "x": [
          1,
          2,
          3,
          4,
          5,
          6,
          7,
          8,
          9,
          10,
          11,
          12,
          13,
          14,
          15,
          16,
          17,
          18,
          19,
          20,
          21,
          22,
          23,
          24,
          25,
          26,
          27,
          28,
          29,
          30,
          31,
          32,
          33,
          34
         ],
         "xaxis": "x",
         "y": [
          3,
          6,
          9,
          10,
          11,
          12,
          12,
          15,
          16,
          19,
          22,
          25,
          28,
          31,
          34,
          35,
          36,
          37,
          40,
          43,
          43,
          46,
          49,
          52,
          52,
          55,
          58,
          59,
          59,
          62,
          65,
          68,
          68,
          71
         ],
         "yaxis": "y"
        },
        {
         "hovertemplate": "Club=Borussia Dortmund<br>Spieltag=%{x}<br>Punkte gesamt=%{y}<extra></extra>",
         "legendgroup": "Borussia Dortmund",
         "line": {
          "color": "#EF553B",
          "dash": "solid"
         },
         "mode": "lines",
         "name": "Borussia Dortmund",
         "orientation": "v",
         "showlegend": true,
         "type": "scatter",
         "x": [
          1,
          2,
          3,
          4,
          5,
          6,
          7,
          8,
          9,
          10,
          11,
          12,
          13,
          14,
          15,
          16,
          17,
          18,
          19,
          20,
          21,
          22,
          23,
          24,
          25,
          26,
          27,
          28,
          29,
          30,
          31,
          32,
          33,
          34
         ],
         "xaxis": "x",
         "y": [
          3,
          6,
          6,
          9,
          12,
          12,
          15,
          15,
          16,
          16,
          19,
          22,
          25,
          25,
          25,
          28,
          31,
          34,
          37,
          40,
          43,
          46,
          49,
          50,
          53,
          53,
          56,
          57,
          60,
          61,
          64,
          67,
          70,
          71
         ],
         "yaxis": "y"
        }
       ],
       "layout": {
        "legend": {
         "title": {
          "text": "Club"
         },
         "tracegroupgap": 0
        },
        "template": {
         "data": {
          "bar": [
           {
            "error_x": {
             "color": "#2a3f5f"
            },
            "error_y": {
             "color": "#2a3f5f"
            },
            "marker": {
             "line": {
              "color": "#E5ECF6",
              "width": 0.5
             }
            },
            "type": "bar"
           }
          ],
          "barpolar": [
           {
            "marker": {
             "line": {
              "color": "#E5ECF6",
              "width": 0.5
             }
            },
            "type": "barpolar"
           }
          ],
          "carpet": [
           {
            "aaxis": {
             "endlinecolor": "#2a3f5f",
             "gridcolor": "white",
             "linecolor": "white",
             "minorgridcolor": "white",
             "startlinecolor": "#2a3f5f"
            },
            "baxis": {
             "endlinecolor": "#2a3f5f",
             "gridcolor": "white",
             "linecolor": "white",
             "minorgridcolor": "white",
             "startlinecolor": "#2a3f5f"
            },
            "type": "carpet"
           }
          ],
          "choropleth": [
           {
            "colorbar": {
             "outlinewidth": 0,
             "ticks": ""
            },
            "type": "choropleth"
           }
          ],
          "contour": [
           {
            "colorbar": {
             "outlinewidth": 0,
             "ticks": ""
            },
            "colorscale": [
             [
              0,
              "#0d0887"
             ],
             [
              0.1111111111111111,
              "#46039f"
             ],
             [
              0.2222222222222222,
              "#7201a8"
             ],
             [
              0.3333333333333333,
              "#9c179e"
             ],
             [
              0.4444444444444444,
              "#bd3786"
             ],
             [
              0.5555555555555556,
              "#d8576b"
             ],
             [
              0.6666666666666666,
              "#ed7953"
             ],
             [
              0.7777777777777778,
              "#fb9f3a"
             ],
             [
              0.8888888888888888,
              "#fdca26"
             ],
             [
              1,
              "#f0f921"
             ]
            ],
            "type": "contour"
           }
          ],
          "contourcarpet": [
           {
            "colorbar": {
             "outlinewidth": 0,
             "ticks": ""
            },
            "type": "contourcarpet"
           }
          ],
          "heatmap": [
           {
            "colorbar": {
             "outlinewidth": 0,
             "ticks": ""
            },
            "colorscale": [
             [
              0,
              "#0d0887"
             ],
             [
              0.1111111111111111,
              "#46039f"
             ],
             [
              0.2222222222222222,
              "#7201a8"
             ],
             [
              0.3333333333333333,
              "#9c179e"
             ],
             [
              0.4444444444444444,
              "#bd3786"
             ],
             [
              0.5555555555555556,
              "#d8576b"
             ],
             [
              0.6666666666666666,
              "#ed7953"
             ],
             [
              0.7777777777777778,
              "#fb9f3a"
             ],
             [
              0.8888888888888888,
              "#fdca26"
             ],
             [
              1,
              "#f0f921"
             ]
            ],
            "type": "heatmap"
           }
          ],
          "heatmapgl": [
           {
            "colorbar": {
             "outlinewidth": 0,
             "ticks": ""
            },
            "colorscale": [
             [
              0,
              "#0d0887"
             ],
             [
              0.1111111111111111,
              "#46039f"
             ],
             [
              0.2222222222222222,
              "#7201a8"
             ],
             [
              0.3333333333333333,
              "#9c179e"
             ],
             [
              0.4444444444444444,
              "#bd3786"
             ],
             [
              0.5555555555555556,
              "#d8576b"
             ],
             [
              0.6666666666666666,
              "#ed7953"
             ],
             [
              0.7777777777777778,
              "#fb9f3a"
             ],
             [
              0.8888888888888888,
              "#fdca26"
             ],
             [
              1,
              "#f0f921"
             ]
            ],
            "type": "heatmapgl"
           }
          ],
          "histogram": [
           {
            "marker": {
             "colorbar": {
              "outlinewidth": 0,
              "ticks": ""
             }
            },
            "type": "histogram"
           }
          ],
          "histogram2d": [
           {
            "colorbar": {
             "outlinewidth": 0,
             "ticks": ""
            },
            "colorscale": [
             [
              0,
              "#0d0887"
             ],
             [
              0.1111111111111111,
              "#46039f"
             ],
             [
              0.2222222222222222,
              "#7201a8"
             ],
             [
              0.3333333333333333,
              "#9c179e"
             ],
             [
              0.4444444444444444,
              "#bd3786"
             ],
             [
              0.5555555555555556,
              "#d8576b"
             ],
             [
              0.6666666666666666,
              "#ed7953"
             ],
             [
              0.7777777777777778,
              "#fb9f3a"
             ],
             [
              0.8888888888888888,
              "#fdca26"
             ],
             [
              1,
              "#f0f921"
             ]
            ],
            "type": "histogram2d"
           }
          ],
          "histogram2dcontour": [
           {
            "colorbar": {
             "outlinewidth": 0,
             "ticks": ""
            },
            "colorscale": [
             [
              0,
              "#0d0887"
             ],
             [
              0.1111111111111111,
              "#46039f"
             ],
             [
              0.2222222222222222,
              "#7201a8"
             ],
             [
              0.3333333333333333,
              "#9c179e"
             ],
             [
              0.4444444444444444,
              "#bd3786"
             ],
             [
              0.5555555555555556,
              "#d8576b"
             ],
             [
              0.6666666666666666,
              "#ed7953"
             ],
             [
              0.7777777777777778,
              "#fb9f3a"
             ],
             [
              0.8888888888888888,
              "#fdca26"
             ],
             [
              1,
              "#f0f921"
             ]
            ],
            "type": "histogram2dcontour"
           }
          ],
          "mesh3d": [
           {
            "colorbar": {
             "outlinewidth": 0,
             "ticks": ""
            },
            "type": "mesh3d"
           }
          ],
          "parcoords": [
           {
            "line": {
             "colorbar": {
              "outlinewidth": 0,
              "ticks": ""
             }
            },
            "type": "parcoords"
           }
          ],
          "pie": [
           {
            "automargin": true,
            "type": "pie"
           }
          ],
          "scatter": [
           {
            "marker": {
             "colorbar": {
              "outlinewidth": 0,
              "ticks": ""
             }
            },
            "type": "scatter"
           }
          ],
          "scatter3d": [
           {
            "line": {
             "colorbar": {
              "outlinewidth": 0,
              "ticks": ""
             }
            },
            "marker": {
             "colorbar": {
              "outlinewidth": 0,
              "ticks": ""
             }
            },
            "type": "scatter3d"
           }
          ],
          "scattercarpet": [
           {
            "marker": {
             "colorbar": {
              "outlinewidth": 0,
              "ticks": ""
             }
            },
            "type": "scattercarpet"
           }
          ],
          "scattergeo": [
           {
            "marker": {
             "colorbar": {
              "outlinewidth": 0,
              "ticks": ""
             }
            },
            "type": "scattergeo"
           }
          ],
          "scattergl": [
           {
            "marker": {
             "colorbar": {
              "outlinewidth": 0,
              "ticks": ""
             }
            },
            "type": "scattergl"
           }
          ],
          "scattermapbox": [
           {
            "marker": {
             "colorbar": {
              "outlinewidth": 0,
              "ticks": ""
             }
            },
            "type": "scattermapbox"
           }
          ],
          "scatterpolar": [
           {
            "marker": {
             "colorbar": {
              "outlinewidth": 0,
              "ticks": ""
             }
            },
            "type": "scatterpolar"
           }
          ],
          "scatterpolargl": [
           {
            "marker": {
             "colorbar": {
              "outlinewidth": 0,
              "ticks": ""
             }
            },
            "type": "scatterpolargl"
           }
          ],
          "scatterternary": [
           {
            "marker": {
             "colorbar": {
              "outlinewidth": 0,
              "ticks": ""
             }
            },
            "type": "scatterternary"
           }
          ],
          "surface": [
           {
            "colorbar": {
             "outlinewidth": 0,
             "ticks": ""
            },
            "colorscale": [
             [
              0,
              "#0d0887"
             ],
             [
              0.1111111111111111,
              "#46039f"
             ],
             [
              0.2222222222222222,
              "#7201a8"
             ],
             [
              0.3333333333333333,
              "#9c179e"
             ],
             [
              0.4444444444444444,
              "#bd3786"
             ],
             [
              0.5555555555555556,
              "#d8576b"
             ],
             [
              0.6666666666666666,
              "#ed7953"
             ],
             [
              0.7777777777777778,
              "#fb9f3a"
             ],
             [
              0.8888888888888888,
              "#fdca26"
             ],
             [
              1,
              "#f0f921"
             ]
            ],
            "type": "surface"
           }
          ],
          "table": [
           {
            "cells": {
             "fill": {
              "color": "#EBF0F8"
             },
             "line": {
              "color": "white"
             }
            },
            "header": {
             "fill": {
              "color": "#C8D4E3"
             },
             "line": {
              "color": "white"
             }
            },
            "type": "table"
           }
          ]
         },
         "layout": {
          "annotationdefaults": {
           "arrowcolor": "#2a3f5f",
           "arrowhead": 0,
           "arrowwidth": 1
          },
          "autotypenumbers": "strict",
          "coloraxis": {
           "colorbar": {
            "outlinewidth": 0,
            "ticks": ""
           }
          },
          "colorscale": {
           "diverging": [
            [
             0,
             "#8e0152"
            ],
            [
             0.1,
             "#c51b7d"
            ],
            [
             0.2,
             "#de77ae"
            ],
            [
             0.3,
             "#f1b6da"
            ],
            [
             0.4,
             "#fde0ef"
            ],
            [
             0.5,
             "#f7f7f7"
            ],
            [
             0.6,
             "#e6f5d0"
            ],
            [
             0.7,
             "#b8e186"
            ],
            [
             0.8,
             "#7fbc41"
            ],
            [
             0.9,
             "#4d9221"
            ],
            [
             1,
             "#276419"
            ]
           ],
           "sequential": [
            [
             0,
             "#0d0887"
            ],
            [
             0.1111111111111111,
             "#46039f"
            ],
            [
             0.2222222222222222,
             "#7201a8"
            ],
            [
             0.3333333333333333,
             "#9c179e"
            ],
            [
             0.4444444444444444,
             "#bd3786"
            ],
            [
             0.5555555555555556,
             "#d8576b"
            ],
            [
             0.6666666666666666,
             "#ed7953"
            ],
            [
             0.7777777777777778,
             "#fb9f3a"
            ],
            [
             0.8888888888888888,
             "#fdca26"
            ],
            [
             1,
             "#f0f921"
            ]
           ],
           "sequentialminus": [
            [
             0,
             "#0d0887"
            ],
            [
             0.1111111111111111,
             "#46039f"
            ],
            [
             0.2222222222222222,
             "#7201a8"
            ],
            [
             0.3333333333333333,
             "#9c179e"
            ],
            [
             0.4444444444444444,
             "#bd3786"
            ],
            [
             0.5555555555555556,
             "#d8576b"
            ],
            [
             0.6666666666666666,
             "#ed7953"
            ],
            [
             0.7777777777777778,
             "#fb9f3a"
            ],
            [
             0.8888888888888888,
             "#fdca26"
            ],
            [
             1,
             "#f0f921"
            ]
           ]
          },
          "colorway": [
           "#636efa",
           "#EF553B",
           "#00cc96",
           "#ab63fa",
           "#FFA15A",
           "#19d3f3",
           "#FF6692",
           "#B6E880",
           "#FF97FF",
           "#FECB52"
          ],
          "font": {
           "color": "#2a3f5f"
          },
          "geo": {
           "bgcolor": "white",
           "lakecolor": "white",
           "landcolor": "#E5ECF6",
           "showlakes": true,
           "showland": true,
           "subunitcolor": "white"
          },
          "hoverlabel": {
           "align": "left"
          },
          "hovermode": "closest",
          "mapbox": {
           "style": "light"
          },
          "paper_bgcolor": "white",
          "plot_bgcolor": "#E5ECF6",
          "polar": {
           "angularaxis": {
            "gridcolor": "white",
            "linecolor": "white",
            "ticks": ""
           },
           "bgcolor": "#E5ECF6",
           "radialaxis": {
            "gridcolor": "white",
            "linecolor": "white",
            "ticks": ""
           }
          },
          "scene": {
           "xaxis": {
            "backgroundcolor": "#E5ECF6",
            "gridcolor": "white",
            "gridwidth": 2,
            "linecolor": "white",
            "showbackground": true,
            "ticks": "",
            "zerolinecolor": "white"
           },
           "yaxis": {
            "backgroundcolor": "#E5ECF6",
            "gridcolor": "white",
            "gridwidth": 2,
            "linecolor": "white",
            "showbackground": true,
            "ticks": "",
            "zerolinecolor": "white"
           },
           "zaxis": {
            "backgroundcolor": "#E5ECF6",
            "gridcolor": "white",
            "gridwidth": 2,
            "linecolor": "white",
            "showbackground": true,
            "ticks": "",
            "zerolinecolor": "white"
           }
          },
          "shapedefaults": {
           "line": {
            "color": "#2a3f5f"
           }
          },
          "ternary": {
           "aaxis": {
            "gridcolor": "white",
            "linecolor": "white",
            "ticks": ""
           },
           "baxis": {
            "gridcolor": "white",
            "linecolor": "white",
            "ticks": ""
           },
           "bgcolor": "#E5ECF6",
           "caxis": {
            "gridcolor": "white",
            "linecolor": "white",
            "ticks": ""
           }
          },
          "title": {
           "x": 0.05
          },
          "xaxis": {
           "automargin": true,
           "gridcolor": "white",
           "linecolor": "white",
           "ticks": "",
           "title": {
            "standoff": 15
           },
           "zerolinecolor": "white",
           "zerolinewidth": 2
          },
          "yaxis": {
           "automargin": true,
           "gridcolor": "white",
           "linecolor": "white",
           "ticks": "",
           "title": {
            "standoff": 15
           },
           "zerolinecolor": "white",
           "zerolinewidth": 2
          }
         }
        },
        "title": {
         "text": "Gesamtpunktzahl"
        },
        "xaxis": {
         "anchor": "y",
         "domain": [
          0,
          1
         ],
         "title": {
          "text": "Spieltag"
         }
        },
        "yaxis": {
         "anchor": "x",
         "domain": [
          0,
          1
         ],
         "title": {
          "text": "Punkte gesamt"
         }
        }
       }
      },
      "text/html": [
       "<div>                            <div id=\"6f0902a5-15ae-4cbd-a81d-9017f011351b\" class=\"plotly-graph-div\" style=\"height:525px; width:100%;\"></div>            <script type=\"text/javascript\">                require([\"plotly\"], function(Plotly) {                    window.PLOTLYENV=window.PLOTLYENV || {};                                    if (document.getElementById(\"6f0902a5-15ae-4cbd-a81d-9017f011351b\")) {                    Plotly.newPlot(                        \"6f0902a5-15ae-4cbd-a81d-9017f011351b\",                        [{\"hovertemplate\": \"Club=FC Bayern M\\u00fcnchen<br>Spieltag=%{x}<br>Punkte gesamt=%{y}<extra></extra>\", \"legendgroup\": \"FC Bayern M\\u00fcnchen\", \"line\": {\"color\": \"#636efa\", \"dash\": \"solid\"}, \"mode\": \"lines\", \"name\": \"FC Bayern M\\u00fcnchen\", \"orientation\": \"v\", \"showlegend\": true, \"type\": \"scatter\", \"x\": [1, 2, 3, 4, 5, 6, 7, 8, 9, 10, 11, 12, 13, 14, 15, 16, 17, 18, 19, 20, 21, 22, 23, 24, 25, 26, 27, 28, 29, 30, 31, 32, 33, 34], \"xaxis\": \"x\", \"y\": [3, 6, 9, 10, 11, 12, 12, 15, 16, 19, 22, 25, 28, 31, 34, 35, 36, 37, 40, 43, 43, 46, 49, 52, 52, 55, 58, 59, 59, 62, 65, 68, 68, 71], \"yaxis\": \"y\"}, {\"hovertemplate\": \"Club=Borussia Dortmund<br>Spieltag=%{x}<br>Punkte gesamt=%{y}<extra></extra>\", \"legendgroup\": \"Borussia Dortmund\", \"line\": {\"color\": \"#EF553B\", \"dash\": \"solid\"}, \"mode\": \"lines\", \"name\": \"Borussia Dortmund\", \"orientation\": \"v\", \"showlegend\": true, \"type\": \"scatter\", \"x\": [1, 2, 3, 4, 5, 6, 7, 8, 9, 10, 11, 12, 13, 14, 15, 16, 17, 18, 19, 20, 21, 22, 23, 24, 25, 26, 27, 28, 29, 30, 31, 32, 33, 34], \"xaxis\": \"x\", \"y\": [3, 6, 6, 9, 12, 12, 15, 15, 16, 16, 19, 22, 25, 25, 25, 28, 31, 34, 37, 40, 43, 46, 49, 50, 53, 53, 56, 57, 60, 61, 64, 67, 70, 71], \"yaxis\": \"y\"}],                        {\"legend\": {\"title\": {\"text\": \"Club\"}, \"tracegroupgap\": 0}, \"template\": {\"data\": {\"bar\": [{\"error_x\": {\"color\": \"#2a3f5f\"}, \"error_y\": {\"color\": \"#2a3f5f\"}, \"marker\": {\"line\": {\"color\": \"#E5ECF6\", \"width\": 0.5}}, \"type\": \"bar\"}], \"barpolar\": [{\"marker\": {\"line\": {\"color\": \"#E5ECF6\", \"width\": 0.5}}, \"type\": \"barpolar\"}], \"carpet\": [{\"aaxis\": {\"endlinecolor\": \"#2a3f5f\", \"gridcolor\": \"white\", \"linecolor\": \"white\", \"minorgridcolor\": \"white\", \"startlinecolor\": \"#2a3f5f\"}, \"baxis\": {\"endlinecolor\": \"#2a3f5f\", \"gridcolor\": \"white\", \"linecolor\": \"white\", \"minorgridcolor\": \"white\", \"startlinecolor\": \"#2a3f5f\"}, \"type\": \"carpet\"}], \"choropleth\": [{\"colorbar\": {\"outlinewidth\": 0, \"ticks\": \"\"}, \"type\": \"choropleth\"}], \"contour\": [{\"colorbar\": {\"outlinewidth\": 0, \"ticks\": \"\"}, \"colorscale\": [[0.0, \"#0d0887\"], [0.1111111111111111, \"#46039f\"], [0.2222222222222222, \"#7201a8\"], [0.3333333333333333, \"#9c179e\"], [0.4444444444444444, \"#bd3786\"], [0.5555555555555556, \"#d8576b\"], [0.6666666666666666, \"#ed7953\"], [0.7777777777777778, \"#fb9f3a\"], [0.8888888888888888, \"#fdca26\"], [1.0, \"#f0f921\"]], \"type\": \"contour\"}], \"contourcarpet\": [{\"colorbar\": {\"outlinewidth\": 0, \"ticks\": \"\"}, \"type\": \"contourcarpet\"}], \"heatmap\": [{\"colorbar\": {\"outlinewidth\": 0, \"ticks\": \"\"}, \"colorscale\": [[0.0, \"#0d0887\"], [0.1111111111111111, \"#46039f\"], [0.2222222222222222, \"#7201a8\"], [0.3333333333333333, \"#9c179e\"], [0.4444444444444444, \"#bd3786\"], [0.5555555555555556, \"#d8576b\"], [0.6666666666666666, \"#ed7953\"], [0.7777777777777778, \"#fb9f3a\"], [0.8888888888888888, \"#fdca26\"], [1.0, \"#f0f921\"]], \"type\": \"heatmap\"}], \"heatmapgl\": [{\"colorbar\": {\"outlinewidth\": 0, \"ticks\": \"\"}, \"colorscale\": [[0.0, \"#0d0887\"], [0.1111111111111111, \"#46039f\"], [0.2222222222222222, \"#7201a8\"], [0.3333333333333333, \"#9c179e\"], [0.4444444444444444, \"#bd3786\"], [0.5555555555555556, \"#d8576b\"], [0.6666666666666666, \"#ed7953\"], [0.7777777777777778, \"#fb9f3a\"], [0.8888888888888888, \"#fdca26\"], [1.0, \"#f0f921\"]], \"type\": \"heatmapgl\"}], \"histogram\": [{\"marker\": {\"colorbar\": {\"outlinewidth\": 0, \"ticks\": \"\"}}, \"type\": \"histogram\"}], \"histogram2d\": [{\"colorbar\": {\"outlinewidth\": 0, \"ticks\": \"\"}, \"colorscale\": [[0.0, \"#0d0887\"], [0.1111111111111111, \"#46039f\"], [0.2222222222222222, \"#7201a8\"], [0.3333333333333333, \"#9c179e\"], [0.4444444444444444, \"#bd3786\"], [0.5555555555555556, \"#d8576b\"], [0.6666666666666666, \"#ed7953\"], [0.7777777777777778, \"#fb9f3a\"], [0.8888888888888888, \"#fdca26\"], [1.0, \"#f0f921\"]], \"type\": \"histogram2d\"}], \"histogram2dcontour\": [{\"colorbar\": {\"outlinewidth\": 0, \"ticks\": \"\"}, \"colorscale\": [[0.0, \"#0d0887\"], [0.1111111111111111, \"#46039f\"], [0.2222222222222222, \"#7201a8\"], [0.3333333333333333, \"#9c179e\"], [0.4444444444444444, \"#bd3786\"], [0.5555555555555556, \"#d8576b\"], [0.6666666666666666, \"#ed7953\"], [0.7777777777777778, \"#fb9f3a\"], [0.8888888888888888, \"#fdca26\"], [1.0, \"#f0f921\"]], \"type\": \"histogram2dcontour\"}], \"mesh3d\": [{\"colorbar\": {\"outlinewidth\": 0, \"ticks\": \"\"}, \"type\": \"mesh3d\"}], \"parcoords\": [{\"line\": {\"colorbar\": {\"outlinewidth\": 0, \"ticks\": \"\"}}, \"type\": \"parcoords\"}], \"pie\": [{\"automargin\": true, \"type\": \"pie\"}], \"scatter\": [{\"marker\": {\"colorbar\": {\"outlinewidth\": 0, \"ticks\": \"\"}}, \"type\": \"scatter\"}], \"scatter3d\": [{\"line\": {\"colorbar\": {\"outlinewidth\": 0, \"ticks\": \"\"}}, \"marker\": {\"colorbar\": {\"outlinewidth\": 0, \"ticks\": \"\"}}, \"type\": \"scatter3d\"}], \"scattercarpet\": [{\"marker\": {\"colorbar\": {\"outlinewidth\": 0, \"ticks\": \"\"}}, \"type\": \"scattercarpet\"}], \"scattergeo\": [{\"marker\": {\"colorbar\": {\"outlinewidth\": 0, \"ticks\": \"\"}}, \"type\": \"scattergeo\"}], \"scattergl\": [{\"marker\": {\"colorbar\": {\"outlinewidth\": 0, \"ticks\": \"\"}}, \"type\": \"scattergl\"}], \"scattermapbox\": [{\"marker\": {\"colorbar\": {\"outlinewidth\": 0, \"ticks\": \"\"}}, \"type\": \"scattermapbox\"}], \"scatterpolar\": [{\"marker\": {\"colorbar\": {\"outlinewidth\": 0, \"ticks\": \"\"}}, \"type\": \"scatterpolar\"}], \"scatterpolargl\": [{\"marker\": {\"colorbar\": {\"outlinewidth\": 0, \"ticks\": \"\"}}, \"type\": \"scatterpolargl\"}], \"scatterternary\": [{\"marker\": {\"colorbar\": {\"outlinewidth\": 0, \"ticks\": \"\"}}, \"type\": \"scatterternary\"}], \"surface\": [{\"colorbar\": {\"outlinewidth\": 0, \"ticks\": \"\"}, \"colorscale\": [[0.0, \"#0d0887\"], [0.1111111111111111, \"#46039f\"], [0.2222222222222222, \"#7201a8\"], [0.3333333333333333, \"#9c179e\"], [0.4444444444444444, \"#bd3786\"], [0.5555555555555556, \"#d8576b\"], [0.6666666666666666, \"#ed7953\"], [0.7777777777777778, \"#fb9f3a\"], [0.8888888888888888, \"#fdca26\"], [1.0, \"#f0f921\"]], \"type\": \"surface\"}], \"table\": [{\"cells\": {\"fill\": {\"color\": \"#EBF0F8\"}, \"line\": {\"color\": \"white\"}}, \"header\": {\"fill\": {\"color\": \"#C8D4E3\"}, \"line\": {\"color\": \"white\"}}, \"type\": \"table\"}]}, \"layout\": {\"annotationdefaults\": {\"arrowcolor\": \"#2a3f5f\", \"arrowhead\": 0, \"arrowwidth\": 1}, \"autotypenumbers\": \"strict\", \"coloraxis\": {\"colorbar\": {\"outlinewidth\": 0, \"ticks\": \"\"}}, \"colorscale\": {\"diverging\": [[0, \"#8e0152\"], [0.1, \"#c51b7d\"], [0.2, \"#de77ae\"], [0.3, \"#f1b6da\"], [0.4, \"#fde0ef\"], [0.5, \"#f7f7f7\"], [0.6, \"#e6f5d0\"], [0.7, \"#b8e186\"], [0.8, \"#7fbc41\"], [0.9, \"#4d9221\"], [1, \"#276419\"]], \"sequential\": [[0.0, \"#0d0887\"], [0.1111111111111111, \"#46039f\"], [0.2222222222222222, \"#7201a8\"], [0.3333333333333333, \"#9c179e\"], [0.4444444444444444, \"#bd3786\"], [0.5555555555555556, \"#d8576b\"], [0.6666666666666666, \"#ed7953\"], [0.7777777777777778, \"#fb9f3a\"], [0.8888888888888888, \"#fdca26\"], [1.0, \"#f0f921\"]], \"sequentialminus\": [[0.0, \"#0d0887\"], [0.1111111111111111, \"#46039f\"], [0.2222222222222222, \"#7201a8\"], [0.3333333333333333, \"#9c179e\"], [0.4444444444444444, \"#bd3786\"], [0.5555555555555556, \"#d8576b\"], [0.6666666666666666, \"#ed7953\"], [0.7777777777777778, \"#fb9f3a\"], [0.8888888888888888, \"#fdca26\"], [1.0, \"#f0f921\"]]}, \"colorway\": [\"#636efa\", \"#EF553B\", \"#00cc96\", \"#ab63fa\", \"#FFA15A\", \"#19d3f3\", \"#FF6692\", \"#B6E880\", \"#FF97FF\", \"#FECB52\"], \"font\": {\"color\": \"#2a3f5f\"}, \"geo\": {\"bgcolor\": \"white\", \"lakecolor\": \"white\", \"landcolor\": \"#E5ECF6\", \"showlakes\": true, \"showland\": true, \"subunitcolor\": \"white\"}, \"hoverlabel\": {\"align\": \"left\"}, \"hovermode\": \"closest\", \"mapbox\": {\"style\": \"light\"}, \"paper_bgcolor\": \"white\", \"plot_bgcolor\": \"#E5ECF6\", \"polar\": {\"angularaxis\": {\"gridcolor\": \"white\", \"linecolor\": \"white\", \"ticks\": \"\"}, \"bgcolor\": \"#E5ECF6\", \"radialaxis\": {\"gridcolor\": \"white\", \"linecolor\": \"white\", \"ticks\": \"\"}}, \"scene\": {\"xaxis\": {\"backgroundcolor\": \"#E5ECF6\", \"gridcolor\": \"white\", \"gridwidth\": 2, \"linecolor\": \"white\", \"showbackground\": true, \"ticks\": \"\", \"zerolinecolor\": \"white\"}, \"yaxis\": {\"backgroundcolor\": \"#E5ECF6\", \"gridcolor\": \"white\", \"gridwidth\": 2, \"linecolor\": \"white\", \"showbackground\": true, \"ticks\": \"\", \"zerolinecolor\": \"white\"}, \"zaxis\": {\"backgroundcolor\": \"#E5ECF6\", \"gridcolor\": \"white\", \"gridwidth\": 2, \"linecolor\": \"white\", \"showbackground\": true, \"ticks\": \"\", \"zerolinecolor\": \"white\"}}, \"shapedefaults\": {\"line\": {\"color\": \"#2a3f5f\"}}, \"ternary\": {\"aaxis\": {\"gridcolor\": \"white\", \"linecolor\": \"white\", \"ticks\": \"\"}, \"baxis\": {\"gridcolor\": \"white\", \"linecolor\": \"white\", \"ticks\": \"\"}, \"bgcolor\": \"#E5ECF6\", \"caxis\": {\"gridcolor\": \"white\", \"linecolor\": \"white\", \"ticks\": \"\"}}, \"title\": {\"x\": 0.05}, \"xaxis\": {\"automargin\": true, \"gridcolor\": \"white\", \"linecolor\": \"white\", \"ticks\": \"\", \"title\": {\"standoff\": 15}, \"zerolinecolor\": \"white\", \"zerolinewidth\": 2}, \"yaxis\": {\"automargin\": true, \"gridcolor\": \"white\", \"linecolor\": \"white\", \"ticks\": \"\", \"title\": {\"standoff\": 15}, \"zerolinecolor\": \"white\", \"zerolinewidth\": 2}}}, \"title\": {\"text\": \"Gesamtpunktzahl\"}, \"xaxis\": {\"anchor\": \"y\", \"domain\": [0.0, 1.0], \"title\": {\"text\": \"Spieltag\"}}, \"yaxis\": {\"anchor\": \"x\", \"domain\": [0.0, 1.0], \"title\": {\"text\": \"Punkte gesamt\"}}},                        {\"responsive\": true}                    ).then(function(){\n",
       "                            \n",
       "var gd = document.getElementById('6f0902a5-15ae-4cbd-a81d-9017f011351b');\n",
       "var x = new MutationObserver(function (mutations, observer) {{\n",
       "        var display = window.getComputedStyle(gd).display;\n",
       "        if (!display || display === 'none') {{\n",
       "            console.log([gd, 'removed!']);\n",
       "            Plotly.purge(gd);\n",
       "            observer.disconnect();\n",
       "        }}\n",
       "}});\n",
       "\n",
       "// Listen for the removal of the full notebook cells\n",
       "var notebookContainer = gd.closest('#notebook-container');\n",
       "if (notebookContainer) {{\n",
       "    x.observe(notebookContainer, {childList: true});\n",
       "}}\n",
       "\n",
       "// Listen for the clearing of the current output cell\n",
       "var outputEl = gd.closest('.output');\n",
       "if (outputEl) {{\n",
       "    x.observe(outputEl, {childList: true});\n",
       "}}\n",
       "\n",
       "                        })                };                });            </script>        </div>"
      ]
     },
     "metadata": {},
     "output_type": "display_data"
    }
   ],
   "source": [
    "Punkte_plotten([\"FC Bayern München\",\"Borussia Dortmund\"])"
   ]
  },
  {
   "cell_type": "code",
   "execution_count": 310,
   "metadata": {},
   "outputs": [],
   "source": [
    "def stats_plotten(clubs, stats):\n",
    "    clubs_dfs = list()\n",
    "    for i,club in enumerate(clubs):\n",
    "        clubs_dfs.append(club_stats_dfs[clubs[i]])\n",
    "        clubs_dfs[i][\"Club\"] = club\n",
    "    df = pd.concat(clubs_dfs)\n",
    "    title_dict = {\"Punkte gesamt\": \"Gesamtpunktzahl\", \n",
    "                 \"Gegentore gesamt\" : \"Gegentore\",\n",
    "                 \"Tore gesamt\": \"Tore\",\n",
    "                 \"Tore Spieltag\": \"Erzielte Tore an diesem Spieltag\",\n",
    "                 \"Gegentore Spieltag\": \"Gegentore an diesem Spieltag\",\n",
    "                 \"Tordifferenz\": \"Tordifferenz\"}   \n",
    "    for s in stats:\n",
    "        fig = px.line(df, x = \"Spieltag\", y = s, title = title_dict[s], color = \"Club\")\n",
    "        fig.show()"
   ]
  },
  {
   "cell_type": "code",
   "execution_count": 312,
   "metadata": {},
   "outputs": [
    {
     "data": {
      "application/vnd.plotly.v1+json": {
       "config": {
        "plotlyServerURL": "https://plot.ly"
       },
       "data": [
        {
         "hovertemplate": "Club=FC Bayern München<br>Spieltag=%{x}<br>Punkte gesamt=%{y}<extra></extra>",
         "legendgroup": "FC Bayern München",
         "line": {
          "color": "#636efa",
          "dash": "solid"
         },
         "mode": "lines",
         "name": "FC Bayern München",
         "orientation": "v",
         "showlegend": true,
         "type": "scatter",
         "x": [
          1,
          2,
          3,
          4,
          5,
          6,
          7,
          8,
          9,
          10,
          11,
          12,
          13,
          14,
          15,
          16,
          17,
          18,
          19,
          20,
          21,
          22,
          23,
          24,
          25,
          26,
          27,
          28,
          29,
          30,
          31,
          32,
          33,
          34
         ],
         "xaxis": "x",
         "y": [
          3,
          6,
          9,
          10,
          11,
          12,
          12,
          15,
          16,
          19,
          22,
          25,
          28,
          31,
          34,
          35,
          36,
          37,
          40,
          43,
          43,
          46,
          49,
          52,
          52,
          55,
          58,
          59,
          59,
          62,
          65,
          68,
          68,
          71
         ],
         "yaxis": "y"
        },
        {
         "hovertemplate": "Club=Borussia Dortmund<br>Spieltag=%{x}<br>Punkte gesamt=%{y}<extra></extra>",
         "legendgroup": "Borussia Dortmund",
         "line": {
          "color": "#EF553B",
          "dash": "solid"
         },
         "mode": "lines",
         "name": "Borussia Dortmund",
         "orientation": "v",
         "showlegend": true,
         "type": "scatter",
         "x": [
          1,
          2,
          3,
          4,
          5,
          6,
          7,
          8,
          9,
          10,
          11,
          12,
          13,
          14,
          15,
          16,
          17,
          18,
          19,
          20,
          21,
          22,
          23,
          24,
          25,
          26,
          27,
          28,
          29,
          30,
          31,
          32,
          33,
          34
         ],
         "xaxis": "x",
         "y": [
          3,
          6,
          6,
          9,
          12,
          12,
          15,
          15,
          16,
          16,
          19,
          22,
          25,
          25,
          25,
          28,
          31,
          34,
          37,
          40,
          43,
          46,
          49,
          50,
          53,
          53,
          56,
          57,
          60,
          61,
          64,
          67,
          70,
          71
         ],
         "yaxis": "y"
        }
       ],
       "layout": {
        "legend": {
         "title": {
          "text": "Club"
         },
         "tracegroupgap": 0
        },
        "template": {
         "data": {
          "bar": [
           {
            "error_x": {
             "color": "#2a3f5f"
            },
            "error_y": {
             "color": "#2a3f5f"
            },
            "marker": {
             "line": {
              "color": "#E5ECF6",
              "width": 0.5
             }
            },
            "type": "bar"
           }
          ],
          "barpolar": [
           {
            "marker": {
             "line": {
              "color": "#E5ECF6",
              "width": 0.5
             }
            },
            "type": "barpolar"
           }
          ],
          "carpet": [
           {
            "aaxis": {
             "endlinecolor": "#2a3f5f",
             "gridcolor": "white",
             "linecolor": "white",
             "minorgridcolor": "white",
             "startlinecolor": "#2a3f5f"
            },
            "baxis": {
             "endlinecolor": "#2a3f5f",
             "gridcolor": "white",
             "linecolor": "white",
             "minorgridcolor": "white",
             "startlinecolor": "#2a3f5f"
            },
            "type": "carpet"
           }
          ],
          "choropleth": [
           {
            "colorbar": {
             "outlinewidth": 0,
             "ticks": ""
            },
            "type": "choropleth"
           }
          ],
          "contour": [
           {
            "colorbar": {
             "outlinewidth": 0,
             "ticks": ""
            },
            "colorscale": [
             [
              0,
              "#0d0887"
             ],
             [
              0.1111111111111111,
              "#46039f"
             ],
             [
              0.2222222222222222,
              "#7201a8"
             ],
             [
              0.3333333333333333,
              "#9c179e"
             ],
             [
              0.4444444444444444,
              "#bd3786"
             ],
             [
              0.5555555555555556,
              "#d8576b"
             ],
             [
              0.6666666666666666,
              "#ed7953"
             ],
             [
              0.7777777777777778,
              "#fb9f3a"
             ],
             [
              0.8888888888888888,
              "#fdca26"
             ],
             [
              1,
              "#f0f921"
             ]
            ],
            "type": "contour"
           }
          ],
          "contourcarpet": [
           {
            "colorbar": {
             "outlinewidth": 0,
             "ticks": ""
            },
            "type": "contourcarpet"
           }
          ],
          "heatmap": [
           {
            "colorbar": {
             "outlinewidth": 0,
             "ticks": ""
            },
            "colorscale": [
             [
              0,
              "#0d0887"
             ],
             [
              0.1111111111111111,
              "#46039f"
             ],
             [
              0.2222222222222222,
              "#7201a8"
             ],
             [
              0.3333333333333333,
              "#9c179e"
             ],
             [
              0.4444444444444444,
              "#bd3786"
             ],
             [
              0.5555555555555556,
              "#d8576b"
             ],
             [
              0.6666666666666666,
              "#ed7953"
             ],
             [
              0.7777777777777778,
              "#fb9f3a"
             ],
             [
              0.8888888888888888,
              "#fdca26"
             ],
             [
              1,
              "#f0f921"
             ]
            ],
            "type": "heatmap"
           }
          ],
          "heatmapgl": [
           {
            "colorbar": {
             "outlinewidth": 0,
             "ticks": ""
            },
            "colorscale": [
             [
              0,
              "#0d0887"
             ],
             [
              0.1111111111111111,
              "#46039f"
             ],
             [
              0.2222222222222222,
              "#7201a8"
             ],
             [
              0.3333333333333333,
              "#9c179e"
             ],
             [
              0.4444444444444444,
              "#bd3786"
             ],
             [
              0.5555555555555556,
              "#d8576b"
             ],
             [
              0.6666666666666666,
              "#ed7953"
             ],
             [
              0.7777777777777778,
              "#fb9f3a"
             ],
             [
              0.8888888888888888,
              "#fdca26"
             ],
             [
              1,
              "#f0f921"
             ]
            ],
            "type": "heatmapgl"
           }
          ],
          "histogram": [
           {
            "marker": {
             "colorbar": {
              "outlinewidth": 0,
              "ticks": ""
             }
            },
            "type": "histogram"
           }
          ],
          "histogram2d": [
           {
            "colorbar": {
             "outlinewidth": 0,
             "ticks": ""
            },
            "colorscale": [
             [
              0,
              "#0d0887"
             ],
             [
              0.1111111111111111,
              "#46039f"
             ],
             [
              0.2222222222222222,
              "#7201a8"
             ],
             [
              0.3333333333333333,
              "#9c179e"
             ],
             [
              0.4444444444444444,
              "#bd3786"
             ],
             [
              0.5555555555555556,
              "#d8576b"
             ],
             [
              0.6666666666666666,
              "#ed7953"
             ],
             [
              0.7777777777777778,
              "#fb9f3a"
             ],
             [
              0.8888888888888888,
              "#fdca26"
             ],
             [
              1,
              "#f0f921"
             ]
            ],
            "type": "histogram2d"
           }
          ],
          "histogram2dcontour": [
           {
            "colorbar": {
             "outlinewidth": 0,
             "ticks": ""
            },
            "colorscale": [
             [
              0,
              "#0d0887"
             ],
             [
              0.1111111111111111,
              "#46039f"
             ],
             [
              0.2222222222222222,
              "#7201a8"
             ],
             [
              0.3333333333333333,
              "#9c179e"
             ],
             [
              0.4444444444444444,
              "#bd3786"
             ],
             [
              0.5555555555555556,
              "#d8576b"
             ],
             [
              0.6666666666666666,
              "#ed7953"
             ],
             [
              0.7777777777777778,
              "#fb9f3a"
             ],
             [
              0.8888888888888888,
              "#fdca26"
             ],
             [
              1,
              "#f0f921"
             ]
            ],
            "type": "histogram2dcontour"
           }
          ],
          "mesh3d": [
           {
            "colorbar": {
             "outlinewidth": 0,
             "ticks": ""
            },
            "type": "mesh3d"
           }
          ],
          "parcoords": [
           {
            "line": {
             "colorbar": {
              "outlinewidth": 0,
              "ticks": ""
             }
            },
            "type": "parcoords"
           }
          ],
          "pie": [
           {
            "automargin": true,
            "type": "pie"
           }
          ],
          "scatter": [
           {
            "marker": {
             "colorbar": {
              "outlinewidth": 0,
              "ticks": ""
             }
            },
            "type": "scatter"
           }
          ],
          "scatter3d": [
           {
            "line": {
             "colorbar": {
              "outlinewidth": 0,
              "ticks": ""
             }
            },
            "marker": {
             "colorbar": {
              "outlinewidth": 0,
              "ticks": ""
             }
            },
            "type": "scatter3d"
           }
          ],
          "scattercarpet": [
           {
            "marker": {
             "colorbar": {
              "outlinewidth": 0,
              "ticks": ""
             }
            },
            "type": "scattercarpet"
           }
          ],
          "scattergeo": [
           {
            "marker": {
             "colorbar": {
              "outlinewidth": 0,
              "ticks": ""
             }
            },
            "type": "scattergeo"
           }
          ],
          "scattergl": [
           {
            "marker": {
             "colorbar": {
              "outlinewidth": 0,
              "ticks": ""
             }
            },
            "type": "scattergl"
           }
          ],
          "scattermapbox": [
           {
            "marker": {
             "colorbar": {
              "outlinewidth": 0,
              "ticks": ""
             }
            },
            "type": "scattermapbox"
           }
          ],
          "scatterpolar": [
           {
            "marker": {
             "colorbar": {
              "outlinewidth": 0,
              "ticks": ""
             }
            },
            "type": "scatterpolar"
           }
          ],
          "scatterpolargl": [
           {
            "marker": {
             "colorbar": {
              "outlinewidth": 0,
              "ticks": ""
             }
            },
            "type": "scatterpolargl"
           }
          ],
          "scatterternary": [
           {
            "marker": {
             "colorbar": {
              "outlinewidth": 0,
              "ticks": ""
             }
            },
            "type": "scatterternary"
           }
          ],
          "surface": [
           {
            "colorbar": {
             "outlinewidth": 0,
             "ticks": ""
            },
            "colorscale": [
             [
              0,
              "#0d0887"
             ],
             [
              0.1111111111111111,
              "#46039f"
             ],
             [
              0.2222222222222222,
              "#7201a8"
             ],
             [
              0.3333333333333333,
              "#9c179e"
             ],
             [
              0.4444444444444444,
              "#bd3786"
             ],
             [
              0.5555555555555556,
              "#d8576b"
             ],
             [
              0.6666666666666666,
              "#ed7953"
             ],
             [
              0.7777777777777778,
              "#fb9f3a"
             ],
             [
              0.8888888888888888,
              "#fdca26"
             ],
             [
              1,
              "#f0f921"
             ]
            ],
            "type": "surface"
           }
          ],
          "table": [
           {
            "cells": {
             "fill": {
              "color": "#EBF0F8"
             },
             "line": {
              "color": "white"
             }
            },
            "header": {
             "fill": {
              "color": "#C8D4E3"
             },
             "line": {
              "color": "white"
             }
            },
            "type": "table"
           }
          ]
         },
         "layout": {
          "annotationdefaults": {
           "arrowcolor": "#2a3f5f",
           "arrowhead": 0,
           "arrowwidth": 1
          },
          "autotypenumbers": "strict",
          "coloraxis": {
           "colorbar": {
            "outlinewidth": 0,
            "ticks": ""
           }
          },
          "colorscale": {
           "diverging": [
            [
             0,
             "#8e0152"
            ],
            [
             0.1,
             "#c51b7d"
            ],
            [
             0.2,
             "#de77ae"
            ],
            [
             0.3,
             "#f1b6da"
            ],
            [
             0.4,
             "#fde0ef"
            ],
            [
             0.5,
             "#f7f7f7"
            ],
            [
             0.6,
             "#e6f5d0"
            ],
            [
             0.7,
             "#b8e186"
            ],
            [
             0.8,
             "#7fbc41"
            ],
            [
             0.9,
             "#4d9221"
            ],
            [
             1,
             "#276419"
            ]
           ],
           "sequential": [
            [
             0,
             "#0d0887"
            ],
            [
             0.1111111111111111,
             "#46039f"
            ],
            [
             0.2222222222222222,
             "#7201a8"
            ],
            [
             0.3333333333333333,
             "#9c179e"
            ],
            [
             0.4444444444444444,
             "#bd3786"
            ],
            [
             0.5555555555555556,
             "#d8576b"
            ],
            [
             0.6666666666666666,
             "#ed7953"
            ],
            [
             0.7777777777777778,
             "#fb9f3a"
            ],
            [
             0.8888888888888888,
             "#fdca26"
            ],
            [
             1,
             "#f0f921"
            ]
           ],
           "sequentialminus": [
            [
             0,
             "#0d0887"
            ],
            [
             0.1111111111111111,
             "#46039f"
            ],
            [
             0.2222222222222222,
             "#7201a8"
            ],
            [
             0.3333333333333333,
             "#9c179e"
            ],
            [
             0.4444444444444444,
             "#bd3786"
            ],
            [
             0.5555555555555556,
             "#d8576b"
            ],
            [
             0.6666666666666666,
             "#ed7953"
            ],
            [
             0.7777777777777778,
             "#fb9f3a"
            ],
            [
             0.8888888888888888,
             "#fdca26"
            ],
            [
             1,
             "#f0f921"
            ]
           ]
          },
          "colorway": [
           "#636efa",
           "#EF553B",
           "#00cc96",
           "#ab63fa",
           "#FFA15A",
           "#19d3f3",
           "#FF6692",
           "#B6E880",
           "#FF97FF",
           "#FECB52"
          ],
          "font": {
           "color": "#2a3f5f"
          },
          "geo": {
           "bgcolor": "white",
           "lakecolor": "white",
           "landcolor": "#E5ECF6",
           "showlakes": true,
           "showland": true,
           "subunitcolor": "white"
          },
          "hoverlabel": {
           "align": "left"
          },
          "hovermode": "closest",
          "mapbox": {
           "style": "light"
          },
          "paper_bgcolor": "white",
          "plot_bgcolor": "#E5ECF6",
          "polar": {
           "angularaxis": {
            "gridcolor": "white",
            "linecolor": "white",
            "ticks": ""
           },
           "bgcolor": "#E5ECF6",
           "radialaxis": {
            "gridcolor": "white",
            "linecolor": "white",
            "ticks": ""
           }
          },
          "scene": {
           "xaxis": {
            "backgroundcolor": "#E5ECF6",
            "gridcolor": "white",
            "gridwidth": 2,
            "linecolor": "white",
            "showbackground": true,
            "ticks": "",
            "zerolinecolor": "white"
           },
           "yaxis": {
            "backgroundcolor": "#E5ECF6",
            "gridcolor": "white",
            "gridwidth": 2,
            "linecolor": "white",
            "showbackground": true,
            "ticks": "",
            "zerolinecolor": "white"
           },
           "zaxis": {
            "backgroundcolor": "#E5ECF6",
            "gridcolor": "white",
            "gridwidth": 2,
            "linecolor": "white",
            "showbackground": true,
            "ticks": "",
            "zerolinecolor": "white"
           }
          },
          "shapedefaults": {
           "line": {
            "color": "#2a3f5f"
           }
          },
          "ternary": {
           "aaxis": {
            "gridcolor": "white",
            "linecolor": "white",
            "ticks": ""
           },
           "baxis": {
            "gridcolor": "white",
            "linecolor": "white",
            "ticks": ""
           },
           "bgcolor": "#E5ECF6",
           "caxis": {
            "gridcolor": "white",
            "linecolor": "white",
            "ticks": ""
           }
          },
          "title": {
           "x": 0.05
          },
          "xaxis": {
           "automargin": true,
           "gridcolor": "white",
           "linecolor": "white",
           "ticks": "",
           "title": {
            "standoff": 15
           },
           "zerolinecolor": "white",
           "zerolinewidth": 2
          },
          "yaxis": {
           "automargin": true,
           "gridcolor": "white",
           "linecolor": "white",
           "ticks": "",
           "title": {
            "standoff": 15
           },
           "zerolinecolor": "white",
           "zerolinewidth": 2
          }
         }
        },
        "title": {
         "text": "Gesamtpunktzahl"
        },
        "xaxis": {
         "anchor": "y",
         "domain": [
          0,
          1
         ],
         "title": {
          "text": "Spieltag"
         }
        },
        "yaxis": {
         "anchor": "x",
         "domain": [
          0,
          1
         ],
         "title": {
          "text": "Punkte gesamt"
         }
        }
       }
      },
      "text/html": [
       "<div>                            <div id=\"b133f096-0c86-4247-84b4-e8680aa662bd\" class=\"plotly-graph-div\" style=\"height:525px; width:100%;\"></div>            <script type=\"text/javascript\">                require([\"plotly\"], function(Plotly) {                    window.PLOTLYENV=window.PLOTLYENV || {};                                    if (document.getElementById(\"b133f096-0c86-4247-84b4-e8680aa662bd\")) {                    Plotly.newPlot(                        \"b133f096-0c86-4247-84b4-e8680aa662bd\",                        [{\"hovertemplate\": \"Club=FC Bayern M\\u00fcnchen<br>Spieltag=%{x}<br>Punkte gesamt=%{y}<extra></extra>\", \"legendgroup\": \"FC Bayern M\\u00fcnchen\", \"line\": {\"color\": \"#636efa\", \"dash\": \"solid\"}, \"mode\": \"lines\", \"name\": \"FC Bayern M\\u00fcnchen\", \"orientation\": \"v\", \"showlegend\": true, \"type\": \"scatter\", \"x\": [1, 2, 3, 4, 5, 6, 7, 8, 9, 10, 11, 12, 13, 14, 15, 16, 17, 18, 19, 20, 21, 22, 23, 24, 25, 26, 27, 28, 29, 30, 31, 32, 33, 34], \"xaxis\": \"x\", \"y\": [3, 6, 9, 10, 11, 12, 12, 15, 16, 19, 22, 25, 28, 31, 34, 35, 36, 37, 40, 43, 43, 46, 49, 52, 52, 55, 58, 59, 59, 62, 65, 68, 68, 71], \"yaxis\": \"y\"}, {\"hovertemplate\": \"Club=Borussia Dortmund<br>Spieltag=%{x}<br>Punkte gesamt=%{y}<extra></extra>\", \"legendgroup\": \"Borussia Dortmund\", \"line\": {\"color\": \"#EF553B\", \"dash\": \"solid\"}, \"mode\": \"lines\", \"name\": \"Borussia Dortmund\", \"orientation\": \"v\", \"showlegend\": true, \"type\": \"scatter\", \"x\": [1, 2, 3, 4, 5, 6, 7, 8, 9, 10, 11, 12, 13, 14, 15, 16, 17, 18, 19, 20, 21, 22, 23, 24, 25, 26, 27, 28, 29, 30, 31, 32, 33, 34], \"xaxis\": \"x\", \"y\": [3, 6, 6, 9, 12, 12, 15, 15, 16, 16, 19, 22, 25, 25, 25, 28, 31, 34, 37, 40, 43, 46, 49, 50, 53, 53, 56, 57, 60, 61, 64, 67, 70, 71], \"yaxis\": \"y\"}],                        {\"legend\": {\"title\": {\"text\": \"Club\"}, \"tracegroupgap\": 0}, \"template\": {\"data\": {\"bar\": [{\"error_x\": {\"color\": \"#2a3f5f\"}, \"error_y\": {\"color\": \"#2a3f5f\"}, \"marker\": {\"line\": {\"color\": \"#E5ECF6\", \"width\": 0.5}}, \"type\": \"bar\"}], \"barpolar\": [{\"marker\": {\"line\": {\"color\": \"#E5ECF6\", \"width\": 0.5}}, \"type\": \"barpolar\"}], \"carpet\": [{\"aaxis\": {\"endlinecolor\": \"#2a3f5f\", \"gridcolor\": \"white\", \"linecolor\": \"white\", \"minorgridcolor\": \"white\", \"startlinecolor\": \"#2a3f5f\"}, \"baxis\": {\"endlinecolor\": \"#2a3f5f\", \"gridcolor\": \"white\", \"linecolor\": \"white\", \"minorgridcolor\": \"white\", \"startlinecolor\": \"#2a3f5f\"}, \"type\": \"carpet\"}], \"choropleth\": [{\"colorbar\": {\"outlinewidth\": 0, \"ticks\": \"\"}, \"type\": \"choropleth\"}], \"contour\": [{\"colorbar\": {\"outlinewidth\": 0, \"ticks\": \"\"}, \"colorscale\": [[0.0, \"#0d0887\"], [0.1111111111111111, \"#46039f\"], [0.2222222222222222, \"#7201a8\"], [0.3333333333333333, \"#9c179e\"], [0.4444444444444444, \"#bd3786\"], [0.5555555555555556, \"#d8576b\"], [0.6666666666666666, \"#ed7953\"], [0.7777777777777778, \"#fb9f3a\"], [0.8888888888888888, \"#fdca26\"], [1.0, \"#f0f921\"]], \"type\": \"contour\"}], \"contourcarpet\": [{\"colorbar\": {\"outlinewidth\": 0, \"ticks\": \"\"}, \"type\": \"contourcarpet\"}], \"heatmap\": [{\"colorbar\": {\"outlinewidth\": 0, \"ticks\": \"\"}, \"colorscale\": [[0.0, \"#0d0887\"], [0.1111111111111111, \"#46039f\"], [0.2222222222222222, \"#7201a8\"], [0.3333333333333333, \"#9c179e\"], [0.4444444444444444, \"#bd3786\"], [0.5555555555555556, \"#d8576b\"], [0.6666666666666666, \"#ed7953\"], [0.7777777777777778, \"#fb9f3a\"], [0.8888888888888888, \"#fdca26\"], [1.0, \"#f0f921\"]], \"type\": \"heatmap\"}], \"heatmapgl\": [{\"colorbar\": {\"outlinewidth\": 0, \"ticks\": \"\"}, \"colorscale\": [[0.0, \"#0d0887\"], [0.1111111111111111, \"#46039f\"], [0.2222222222222222, \"#7201a8\"], [0.3333333333333333, \"#9c179e\"], [0.4444444444444444, \"#bd3786\"], [0.5555555555555556, \"#d8576b\"], [0.6666666666666666, \"#ed7953\"], [0.7777777777777778, \"#fb9f3a\"], [0.8888888888888888, \"#fdca26\"], [1.0, \"#f0f921\"]], \"type\": \"heatmapgl\"}], \"histogram\": [{\"marker\": {\"colorbar\": {\"outlinewidth\": 0, \"ticks\": \"\"}}, \"type\": \"histogram\"}], \"histogram2d\": [{\"colorbar\": {\"outlinewidth\": 0, \"ticks\": \"\"}, \"colorscale\": [[0.0, \"#0d0887\"], [0.1111111111111111, \"#46039f\"], [0.2222222222222222, \"#7201a8\"], [0.3333333333333333, \"#9c179e\"], [0.4444444444444444, \"#bd3786\"], [0.5555555555555556, \"#d8576b\"], [0.6666666666666666, \"#ed7953\"], [0.7777777777777778, \"#fb9f3a\"], [0.8888888888888888, \"#fdca26\"], [1.0, \"#f0f921\"]], \"type\": \"histogram2d\"}], \"histogram2dcontour\": [{\"colorbar\": {\"outlinewidth\": 0, \"ticks\": \"\"}, \"colorscale\": [[0.0, \"#0d0887\"], [0.1111111111111111, \"#46039f\"], [0.2222222222222222, \"#7201a8\"], [0.3333333333333333, \"#9c179e\"], [0.4444444444444444, \"#bd3786\"], [0.5555555555555556, \"#d8576b\"], [0.6666666666666666, \"#ed7953\"], [0.7777777777777778, \"#fb9f3a\"], [0.8888888888888888, \"#fdca26\"], [1.0, \"#f0f921\"]], \"type\": \"histogram2dcontour\"}], \"mesh3d\": [{\"colorbar\": {\"outlinewidth\": 0, \"ticks\": \"\"}, \"type\": \"mesh3d\"}], \"parcoords\": [{\"line\": {\"colorbar\": {\"outlinewidth\": 0, \"ticks\": \"\"}}, \"type\": \"parcoords\"}], \"pie\": [{\"automargin\": true, \"type\": \"pie\"}], \"scatter\": [{\"marker\": {\"colorbar\": {\"outlinewidth\": 0, \"ticks\": \"\"}}, \"type\": \"scatter\"}], \"scatter3d\": [{\"line\": {\"colorbar\": {\"outlinewidth\": 0, \"ticks\": \"\"}}, \"marker\": {\"colorbar\": {\"outlinewidth\": 0, \"ticks\": \"\"}}, \"type\": \"scatter3d\"}], \"scattercarpet\": [{\"marker\": {\"colorbar\": {\"outlinewidth\": 0, \"ticks\": \"\"}}, \"type\": \"scattercarpet\"}], \"scattergeo\": [{\"marker\": {\"colorbar\": {\"outlinewidth\": 0, \"ticks\": \"\"}}, \"type\": \"scattergeo\"}], \"scattergl\": [{\"marker\": {\"colorbar\": {\"outlinewidth\": 0, \"ticks\": \"\"}}, \"type\": \"scattergl\"}], \"scattermapbox\": [{\"marker\": {\"colorbar\": {\"outlinewidth\": 0, \"ticks\": \"\"}}, \"type\": \"scattermapbox\"}], \"scatterpolar\": [{\"marker\": {\"colorbar\": {\"outlinewidth\": 0, \"ticks\": \"\"}}, \"type\": \"scatterpolar\"}], \"scatterpolargl\": [{\"marker\": {\"colorbar\": {\"outlinewidth\": 0, \"ticks\": \"\"}}, \"type\": \"scatterpolargl\"}], \"scatterternary\": [{\"marker\": {\"colorbar\": {\"outlinewidth\": 0, \"ticks\": \"\"}}, \"type\": \"scatterternary\"}], \"surface\": [{\"colorbar\": {\"outlinewidth\": 0, \"ticks\": \"\"}, \"colorscale\": [[0.0, \"#0d0887\"], [0.1111111111111111, \"#46039f\"], [0.2222222222222222, \"#7201a8\"], [0.3333333333333333, \"#9c179e\"], [0.4444444444444444, \"#bd3786\"], [0.5555555555555556, \"#d8576b\"], [0.6666666666666666, \"#ed7953\"], [0.7777777777777778, \"#fb9f3a\"], [0.8888888888888888, \"#fdca26\"], [1.0, \"#f0f921\"]], \"type\": \"surface\"}], \"table\": [{\"cells\": {\"fill\": {\"color\": \"#EBF0F8\"}, \"line\": {\"color\": \"white\"}}, \"header\": {\"fill\": {\"color\": \"#C8D4E3\"}, \"line\": {\"color\": \"white\"}}, \"type\": \"table\"}]}, \"layout\": {\"annotationdefaults\": {\"arrowcolor\": \"#2a3f5f\", \"arrowhead\": 0, \"arrowwidth\": 1}, \"autotypenumbers\": \"strict\", \"coloraxis\": {\"colorbar\": {\"outlinewidth\": 0, \"ticks\": \"\"}}, \"colorscale\": {\"diverging\": [[0, \"#8e0152\"], [0.1, \"#c51b7d\"], [0.2, \"#de77ae\"], [0.3, \"#f1b6da\"], [0.4, \"#fde0ef\"], [0.5, \"#f7f7f7\"], [0.6, \"#e6f5d0\"], [0.7, \"#b8e186\"], [0.8, \"#7fbc41\"], [0.9, \"#4d9221\"], [1, \"#276419\"]], \"sequential\": [[0.0, \"#0d0887\"], [0.1111111111111111, \"#46039f\"], [0.2222222222222222, \"#7201a8\"], [0.3333333333333333, \"#9c179e\"], [0.4444444444444444, \"#bd3786\"], [0.5555555555555556, \"#d8576b\"], [0.6666666666666666, \"#ed7953\"], [0.7777777777777778, \"#fb9f3a\"], [0.8888888888888888, \"#fdca26\"], [1.0, \"#f0f921\"]], \"sequentialminus\": [[0.0, \"#0d0887\"], [0.1111111111111111, \"#46039f\"], [0.2222222222222222, \"#7201a8\"], [0.3333333333333333, \"#9c179e\"], [0.4444444444444444, \"#bd3786\"], [0.5555555555555556, \"#d8576b\"], [0.6666666666666666, \"#ed7953\"], [0.7777777777777778, \"#fb9f3a\"], [0.8888888888888888, \"#fdca26\"], [1.0, \"#f0f921\"]]}, \"colorway\": [\"#636efa\", \"#EF553B\", \"#00cc96\", \"#ab63fa\", \"#FFA15A\", \"#19d3f3\", \"#FF6692\", \"#B6E880\", \"#FF97FF\", \"#FECB52\"], \"font\": {\"color\": \"#2a3f5f\"}, \"geo\": {\"bgcolor\": \"white\", \"lakecolor\": \"white\", \"landcolor\": \"#E5ECF6\", \"showlakes\": true, \"showland\": true, \"subunitcolor\": \"white\"}, \"hoverlabel\": {\"align\": \"left\"}, \"hovermode\": \"closest\", \"mapbox\": {\"style\": \"light\"}, \"paper_bgcolor\": \"white\", \"plot_bgcolor\": \"#E5ECF6\", \"polar\": {\"angularaxis\": {\"gridcolor\": \"white\", \"linecolor\": \"white\", \"ticks\": \"\"}, \"bgcolor\": \"#E5ECF6\", \"radialaxis\": {\"gridcolor\": \"white\", \"linecolor\": \"white\", \"ticks\": \"\"}}, \"scene\": {\"xaxis\": {\"backgroundcolor\": \"#E5ECF6\", \"gridcolor\": \"white\", \"gridwidth\": 2, \"linecolor\": \"white\", \"showbackground\": true, \"ticks\": \"\", \"zerolinecolor\": \"white\"}, \"yaxis\": {\"backgroundcolor\": \"#E5ECF6\", \"gridcolor\": \"white\", \"gridwidth\": 2, \"linecolor\": \"white\", \"showbackground\": true, \"ticks\": \"\", \"zerolinecolor\": \"white\"}, \"zaxis\": {\"backgroundcolor\": \"#E5ECF6\", \"gridcolor\": \"white\", \"gridwidth\": 2, \"linecolor\": \"white\", \"showbackground\": true, \"ticks\": \"\", \"zerolinecolor\": \"white\"}}, \"shapedefaults\": {\"line\": {\"color\": \"#2a3f5f\"}}, \"ternary\": {\"aaxis\": {\"gridcolor\": \"white\", \"linecolor\": \"white\", \"ticks\": \"\"}, \"baxis\": {\"gridcolor\": \"white\", \"linecolor\": \"white\", \"ticks\": \"\"}, \"bgcolor\": \"#E5ECF6\", \"caxis\": {\"gridcolor\": \"white\", \"linecolor\": \"white\", \"ticks\": \"\"}}, \"title\": {\"x\": 0.05}, \"xaxis\": {\"automargin\": true, \"gridcolor\": \"white\", \"linecolor\": \"white\", \"ticks\": \"\", \"title\": {\"standoff\": 15}, \"zerolinecolor\": \"white\", \"zerolinewidth\": 2}, \"yaxis\": {\"automargin\": true, \"gridcolor\": \"white\", \"linecolor\": \"white\", \"ticks\": \"\", \"title\": {\"standoff\": 15}, \"zerolinecolor\": \"white\", \"zerolinewidth\": 2}}}, \"title\": {\"text\": \"Gesamtpunktzahl\"}, \"xaxis\": {\"anchor\": \"y\", \"domain\": [0.0, 1.0], \"title\": {\"text\": \"Spieltag\"}}, \"yaxis\": {\"anchor\": \"x\", \"domain\": [0.0, 1.0], \"title\": {\"text\": \"Punkte gesamt\"}}},                        {\"responsive\": true}                    ).then(function(){\n",
       "                            \n",
       "var gd = document.getElementById('b133f096-0c86-4247-84b4-e8680aa662bd');\n",
       "var x = new MutationObserver(function (mutations, observer) {{\n",
       "        var display = window.getComputedStyle(gd).display;\n",
       "        if (!display || display === 'none') {{\n",
       "            console.log([gd, 'removed!']);\n",
       "            Plotly.purge(gd);\n",
       "            observer.disconnect();\n",
       "        }}\n",
       "}});\n",
       "\n",
       "// Listen for the removal of the full notebook cells\n",
       "var notebookContainer = gd.closest('#notebook-container');\n",
       "if (notebookContainer) {{\n",
       "    x.observe(notebookContainer, {childList: true});\n",
       "}}\n",
       "\n",
       "// Listen for the clearing of the current output cell\n",
       "var outputEl = gd.closest('.output');\n",
       "if (outputEl) {{\n",
       "    x.observe(outputEl, {childList: true});\n",
       "}}\n",
       "\n",
       "                        })                };                });            </script>        </div>"
      ]
     },
     "metadata": {},
     "output_type": "display_data"
    },
    {
     "data": {
      "application/vnd.plotly.v1+json": {
       "config": {
        "plotlyServerURL": "https://plot.ly"
       },
       "data": [
        {
         "hovertemplate": "Club=FC Bayern München<br>Spieltag=%{x}<br>Tordifferenz=%{y}<extra></extra>",
         "legendgroup": "FC Bayern München",
         "line": {
          "color": "#636efa",
          "dash": "solid"
         },
         "mode": "lines",
         "name": "FC Bayern München",
         "orientation": "v",
         "showlegend": true,
         "type": "scatter",
         "x": [
          1,
          2,
          3,
          4,
          5,
          6,
          7,
          8,
          9,
          10,
          11,
          12,
          13,
          14,
          15,
          16,
          17,
          18,
          19,
          20,
          21,
          22,
          23,
          24,
          25,
          26,
          27,
          28,
          29,
          30,
          31,
          32,
          33,
          34
         ],
         "xaxis": "x",
         "y": [
          5,
          7,
          14,
          14,
          14,
          14,
          13,
          17,
          17,
          22,
          24,
          28,
          29,
          34,
          36,
          36,
          36,
          36,
          38,
          41,
          40,
          43,
          44,
          46,
          45,
          47,
          48,
          48,
          46,
          48,
          49,
          55,
          53,
          54
         ],
         "yaxis": "y"
        },
        {
         "hovertemplate": "Club=Borussia Dortmund<br>Spieltag=%{x}<br>Tordifferenz=%{y}<extra></extra>",
         "legendgroup": "Borussia Dortmund",
         "line": {
          "color": "#EF553B",
          "dash": "solid"
         },
         "mode": "lines",
         "name": "Borussia Dortmund",
         "orientation": "v",
         "showlegend": true,
         "type": "scatter",
         "x": [
          1,
          2,
          3,
          4,
          5,
          6,
          7,
          8,
          9,
          10,
          11,
          12,
          13,
          14,
          15,
          16,
          17,
          18,
          19,
          20,
          21,
          22,
          23,
          24,
          25,
          26,
          27,
          28,
          29,
          30,
          31,
          32,
          33,
          34
         ],
         "xaxis": "x",
         "y": [
          1,
          3,
          2,
          3,
          4,
          1,
          2,
          1,
          1,
          -1,
          4,
          5,
          8,
          6,
          4,
          5,
          6,
          8,
          12,
          14,
          17,
          18,
          19,
          19,
          24,
          22,
          23,
          23,
          27,
          27,
          33,
          36,
          39,
          39
         ],
         "yaxis": "y"
        }
       ],
       "layout": {
        "legend": {
         "title": {
          "text": "Club"
         },
         "tracegroupgap": 0
        },
        "template": {
         "data": {
          "bar": [
           {
            "error_x": {
             "color": "#2a3f5f"
            },
            "error_y": {
             "color": "#2a3f5f"
            },
            "marker": {
             "line": {
              "color": "#E5ECF6",
              "width": 0.5
             }
            },
            "type": "bar"
           }
          ],
          "barpolar": [
           {
            "marker": {
             "line": {
              "color": "#E5ECF6",
              "width": 0.5
             }
            },
            "type": "barpolar"
           }
          ],
          "carpet": [
           {
            "aaxis": {
             "endlinecolor": "#2a3f5f",
             "gridcolor": "white",
             "linecolor": "white",
             "minorgridcolor": "white",
             "startlinecolor": "#2a3f5f"
            },
            "baxis": {
             "endlinecolor": "#2a3f5f",
             "gridcolor": "white",
             "linecolor": "white",
             "minorgridcolor": "white",
             "startlinecolor": "#2a3f5f"
            },
            "type": "carpet"
           }
          ],
          "choropleth": [
           {
            "colorbar": {
             "outlinewidth": 0,
             "ticks": ""
            },
            "type": "choropleth"
           }
          ],
          "contour": [
           {
            "colorbar": {
             "outlinewidth": 0,
             "ticks": ""
            },
            "colorscale": [
             [
              0,
              "#0d0887"
             ],
             [
              0.1111111111111111,
              "#46039f"
             ],
             [
              0.2222222222222222,
              "#7201a8"
             ],
             [
              0.3333333333333333,
              "#9c179e"
             ],
             [
              0.4444444444444444,
              "#bd3786"
             ],
             [
              0.5555555555555556,
              "#d8576b"
             ],
             [
              0.6666666666666666,
              "#ed7953"
             ],
             [
              0.7777777777777778,
              "#fb9f3a"
             ],
             [
              0.8888888888888888,
              "#fdca26"
             ],
             [
              1,
              "#f0f921"
             ]
            ],
            "type": "contour"
           }
          ],
          "contourcarpet": [
           {
            "colorbar": {
             "outlinewidth": 0,
             "ticks": ""
            },
            "type": "contourcarpet"
           }
          ],
          "heatmap": [
           {
            "colorbar": {
             "outlinewidth": 0,
             "ticks": ""
            },
            "colorscale": [
             [
              0,
              "#0d0887"
             ],
             [
              0.1111111111111111,
              "#46039f"
             ],
             [
              0.2222222222222222,
              "#7201a8"
             ],
             [
              0.3333333333333333,
              "#9c179e"
             ],
             [
              0.4444444444444444,
              "#bd3786"
             ],
             [
              0.5555555555555556,
              "#d8576b"
             ],
             [
              0.6666666666666666,
              "#ed7953"
             ],
             [
              0.7777777777777778,
              "#fb9f3a"
             ],
             [
              0.8888888888888888,
              "#fdca26"
             ],
             [
              1,
              "#f0f921"
             ]
            ],
            "type": "heatmap"
           }
          ],
          "heatmapgl": [
           {
            "colorbar": {
             "outlinewidth": 0,
             "ticks": ""
            },
            "colorscale": [
             [
              0,
              "#0d0887"
             ],
             [
              0.1111111111111111,
              "#46039f"
             ],
             [
              0.2222222222222222,
              "#7201a8"
             ],
             [
              0.3333333333333333,
              "#9c179e"
             ],
             [
              0.4444444444444444,
              "#bd3786"
             ],
             [
              0.5555555555555556,
              "#d8576b"
             ],
             [
              0.6666666666666666,
              "#ed7953"
             ],
             [
              0.7777777777777778,
              "#fb9f3a"
             ],
             [
              0.8888888888888888,
              "#fdca26"
             ],
             [
              1,
              "#f0f921"
             ]
            ],
            "type": "heatmapgl"
           }
          ],
          "histogram": [
           {
            "marker": {
             "colorbar": {
              "outlinewidth": 0,
              "ticks": ""
             }
            },
            "type": "histogram"
           }
          ],
          "histogram2d": [
           {
            "colorbar": {
             "outlinewidth": 0,
             "ticks": ""
            },
            "colorscale": [
             [
              0,
              "#0d0887"
             ],
             [
              0.1111111111111111,
              "#46039f"
             ],
             [
              0.2222222222222222,
              "#7201a8"
             ],
             [
              0.3333333333333333,
              "#9c179e"
             ],
             [
              0.4444444444444444,
              "#bd3786"
             ],
             [
              0.5555555555555556,
              "#d8576b"
             ],
             [
              0.6666666666666666,
              "#ed7953"
             ],
             [
              0.7777777777777778,
              "#fb9f3a"
             ],
             [
              0.8888888888888888,
              "#fdca26"
             ],
             [
              1,
              "#f0f921"
             ]
            ],
            "type": "histogram2d"
           }
          ],
          "histogram2dcontour": [
           {
            "colorbar": {
             "outlinewidth": 0,
             "ticks": ""
            },
            "colorscale": [
             [
              0,
              "#0d0887"
             ],
             [
              0.1111111111111111,
              "#46039f"
             ],
             [
              0.2222222222222222,
              "#7201a8"
             ],
             [
              0.3333333333333333,
              "#9c179e"
             ],
             [
              0.4444444444444444,
              "#bd3786"
             ],
             [
              0.5555555555555556,
              "#d8576b"
             ],
             [
              0.6666666666666666,
              "#ed7953"
             ],
             [
              0.7777777777777778,
              "#fb9f3a"
             ],
             [
              0.8888888888888888,
              "#fdca26"
             ],
             [
              1,
              "#f0f921"
             ]
            ],
            "type": "histogram2dcontour"
           }
          ],
          "mesh3d": [
           {
            "colorbar": {
             "outlinewidth": 0,
             "ticks": ""
            },
            "type": "mesh3d"
           }
          ],
          "parcoords": [
           {
            "line": {
             "colorbar": {
              "outlinewidth": 0,
              "ticks": ""
             }
            },
            "type": "parcoords"
           }
          ],
          "pie": [
           {
            "automargin": true,
            "type": "pie"
           }
          ],
          "scatter": [
           {
            "marker": {
             "colorbar": {
              "outlinewidth": 0,
              "ticks": ""
             }
            },
            "type": "scatter"
           }
          ],
          "scatter3d": [
           {
            "line": {
             "colorbar": {
              "outlinewidth": 0,
              "ticks": ""
             }
            },
            "marker": {
             "colorbar": {
              "outlinewidth": 0,
              "ticks": ""
             }
            },
            "type": "scatter3d"
           }
          ],
          "scattercarpet": [
           {
            "marker": {
             "colorbar": {
              "outlinewidth": 0,
              "ticks": ""
             }
            },
            "type": "scattercarpet"
           }
          ],
          "scattergeo": [
           {
            "marker": {
             "colorbar": {
              "outlinewidth": 0,
              "ticks": ""
             }
            },
            "type": "scattergeo"
           }
          ],
          "scattergl": [
           {
            "marker": {
             "colorbar": {
              "outlinewidth": 0,
              "ticks": ""
             }
            },
            "type": "scattergl"
           }
          ],
          "scattermapbox": [
           {
            "marker": {
             "colorbar": {
              "outlinewidth": 0,
              "ticks": ""
             }
            },
            "type": "scattermapbox"
           }
          ],
          "scatterpolar": [
           {
            "marker": {
             "colorbar": {
              "outlinewidth": 0,
              "ticks": ""
             }
            },
            "type": "scatterpolar"
           }
          ],
          "scatterpolargl": [
           {
            "marker": {
             "colorbar": {
              "outlinewidth": 0,
              "ticks": ""
             }
            },
            "type": "scatterpolargl"
           }
          ],
          "scatterternary": [
           {
            "marker": {
             "colorbar": {
              "outlinewidth": 0,
              "ticks": ""
             }
            },
            "type": "scatterternary"
           }
          ],
          "surface": [
           {
            "colorbar": {
             "outlinewidth": 0,
             "ticks": ""
            },
            "colorscale": [
             [
              0,
              "#0d0887"
             ],
             [
              0.1111111111111111,
              "#46039f"
             ],
             [
              0.2222222222222222,
              "#7201a8"
             ],
             [
              0.3333333333333333,
              "#9c179e"
             ],
             [
              0.4444444444444444,
              "#bd3786"
             ],
             [
              0.5555555555555556,
              "#d8576b"
             ],
             [
              0.6666666666666666,
              "#ed7953"
             ],
             [
              0.7777777777777778,
              "#fb9f3a"
             ],
             [
              0.8888888888888888,
              "#fdca26"
             ],
             [
              1,
              "#f0f921"
             ]
            ],
            "type": "surface"
           }
          ],
          "table": [
           {
            "cells": {
             "fill": {
              "color": "#EBF0F8"
             },
             "line": {
              "color": "white"
             }
            },
            "header": {
             "fill": {
              "color": "#C8D4E3"
             },
             "line": {
              "color": "white"
             }
            },
            "type": "table"
           }
          ]
         },
         "layout": {
          "annotationdefaults": {
           "arrowcolor": "#2a3f5f",
           "arrowhead": 0,
           "arrowwidth": 1
          },
          "autotypenumbers": "strict",
          "coloraxis": {
           "colorbar": {
            "outlinewidth": 0,
            "ticks": ""
           }
          },
          "colorscale": {
           "diverging": [
            [
             0,
             "#8e0152"
            ],
            [
             0.1,
             "#c51b7d"
            ],
            [
             0.2,
             "#de77ae"
            ],
            [
             0.3,
             "#f1b6da"
            ],
            [
             0.4,
             "#fde0ef"
            ],
            [
             0.5,
             "#f7f7f7"
            ],
            [
             0.6,
             "#e6f5d0"
            ],
            [
             0.7,
             "#b8e186"
            ],
            [
             0.8,
             "#7fbc41"
            ],
            [
             0.9,
             "#4d9221"
            ],
            [
             1,
             "#276419"
            ]
           ],
           "sequential": [
            [
             0,
             "#0d0887"
            ],
            [
             0.1111111111111111,
             "#46039f"
            ],
            [
             0.2222222222222222,
             "#7201a8"
            ],
            [
             0.3333333333333333,
             "#9c179e"
            ],
            [
             0.4444444444444444,
             "#bd3786"
            ],
            [
             0.5555555555555556,
             "#d8576b"
            ],
            [
             0.6666666666666666,
             "#ed7953"
            ],
            [
             0.7777777777777778,
             "#fb9f3a"
            ],
            [
             0.8888888888888888,
             "#fdca26"
            ],
            [
             1,
             "#f0f921"
            ]
           ],
           "sequentialminus": [
            [
             0,
             "#0d0887"
            ],
            [
             0.1111111111111111,
             "#46039f"
            ],
            [
             0.2222222222222222,
             "#7201a8"
            ],
            [
             0.3333333333333333,
             "#9c179e"
            ],
            [
             0.4444444444444444,
             "#bd3786"
            ],
            [
             0.5555555555555556,
             "#d8576b"
            ],
            [
             0.6666666666666666,
             "#ed7953"
            ],
            [
             0.7777777777777778,
             "#fb9f3a"
            ],
            [
             0.8888888888888888,
             "#fdca26"
            ],
            [
             1,
             "#f0f921"
            ]
           ]
          },
          "colorway": [
           "#636efa",
           "#EF553B",
           "#00cc96",
           "#ab63fa",
           "#FFA15A",
           "#19d3f3",
           "#FF6692",
           "#B6E880",
           "#FF97FF",
           "#FECB52"
          ],
          "font": {
           "color": "#2a3f5f"
          },
          "geo": {
           "bgcolor": "white",
           "lakecolor": "white",
           "landcolor": "#E5ECF6",
           "showlakes": true,
           "showland": true,
           "subunitcolor": "white"
          },
          "hoverlabel": {
           "align": "left"
          },
          "hovermode": "closest",
          "mapbox": {
           "style": "light"
          },
          "paper_bgcolor": "white",
          "plot_bgcolor": "#E5ECF6",
          "polar": {
           "angularaxis": {
            "gridcolor": "white",
            "linecolor": "white",
            "ticks": ""
           },
           "bgcolor": "#E5ECF6",
           "radialaxis": {
            "gridcolor": "white",
            "linecolor": "white",
            "ticks": ""
           }
          },
          "scene": {
           "xaxis": {
            "backgroundcolor": "#E5ECF6",
            "gridcolor": "white",
            "gridwidth": 2,
            "linecolor": "white",
            "showbackground": true,
            "ticks": "",
            "zerolinecolor": "white"
           },
           "yaxis": {
            "backgroundcolor": "#E5ECF6",
            "gridcolor": "white",
            "gridwidth": 2,
            "linecolor": "white",
            "showbackground": true,
            "ticks": "",
            "zerolinecolor": "white"
           },
           "zaxis": {
            "backgroundcolor": "#E5ECF6",
            "gridcolor": "white",
            "gridwidth": 2,
            "linecolor": "white",
            "showbackground": true,
            "ticks": "",
            "zerolinecolor": "white"
           }
          },
          "shapedefaults": {
           "line": {
            "color": "#2a3f5f"
           }
          },
          "ternary": {
           "aaxis": {
            "gridcolor": "white",
            "linecolor": "white",
            "ticks": ""
           },
           "baxis": {
            "gridcolor": "white",
            "linecolor": "white",
            "ticks": ""
           },
           "bgcolor": "#E5ECF6",
           "caxis": {
            "gridcolor": "white",
            "linecolor": "white",
            "ticks": ""
           }
          },
          "title": {
           "x": 0.05
          },
          "xaxis": {
           "automargin": true,
           "gridcolor": "white",
           "linecolor": "white",
           "ticks": "",
           "title": {
            "standoff": 15
           },
           "zerolinecolor": "white",
           "zerolinewidth": 2
          },
          "yaxis": {
           "automargin": true,
           "gridcolor": "white",
           "linecolor": "white",
           "ticks": "",
           "title": {
            "standoff": 15
           },
           "zerolinecolor": "white",
           "zerolinewidth": 2
          }
         }
        },
        "title": {
         "text": "Tordifferenz"
        },
        "xaxis": {
         "anchor": "y",
         "domain": [
          0,
          1
         ],
         "title": {
          "text": "Spieltag"
         }
        },
        "yaxis": {
         "anchor": "x",
         "domain": [
          0,
          1
         ],
         "title": {
          "text": "Tordifferenz"
         }
        }
       }
      },
      "text/html": [
       "<div>                            <div id=\"bc1c0601-361b-493b-943e-ed8c13c642dc\" class=\"plotly-graph-div\" style=\"height:525px; width:100%;\"></div>            <script type=\"text/javascript\">                require([\"plotly\"], function(Plotly) {                    window.PLOTLYENV=window.PLOTLYENV || {};                                    if (document.getElementById(\"bc1c0601-361b-493b-943e-ed8c13c642dc\")) {                    Plotly.newPlot(                        \"bc1c0601-361b-493b-943e-ed8c13c642dc\",                        [{\"hovertemplate\": \"Club=FC Bayern M\\u00fcnchen<br>Spieltag=%{x}<br>Tordifferenz=%{y}<extra></extra>\", \"legendgroup\": \"FC Bayern M\\u00fcnchen\", \"line\": {\"color\": \"#636efa\", \"dash\": \"solid\"}, \"mode\": \"lines\", \"name\": \"FC Bayern M\\u00fcnchen\", \"orientation\": \"v\", \"showlegend\": true, \"type\": \"scatter\", \"x\": [1, 2, 3, 4, 5, 6, 7, 8, 9, 10, 11, 12, 13, 14, 15, 16, 17, 18, 19, 20, 21, 22, 23, 24, 25, 26, 27, 28, 29, 30, 31, 32, 33, 34], \"xaxis\": \"x\", \"y\": [5, 7, 14, 14, 14, 14, 13, 17, 17, 22, 24, 28, 29, 34, 36, 36, 36, 36, 38, 41, 40, 43, 44, 46, 45, 47, 48, 48, 46, 48, 49, 55, 53, 54], \"yaxis\": \"y\"}, {\"hovertemplate\": \"Club=Borussia Dortmund<br>Spieltag=%{x}<br>Tordifferenz=%{y}<extra></extra>\", \"legendgroup\": \"Borussia Dortmund\", \"line\": {\"color\": \"#EF553B\", \"dash\": \"solid\"}, \"mode\": \"lines\", \"name\": \"Borussia Dortmund\", \"orientation\": \"v\", \"showlegend\": true, \"type\": \"scatter\", \"x\": [1, 2, 3, 4, 5, 6, 7, 8, 9, 10, 11, 12, 13, 14, 15, 16, 17, 18, 19, 20, 21, 22, 23, 24, 25, 26, 27, 28, 29, 30, 31, 32, 33, 34], \"xaxis\": \"x\", \"y\": [1, 3, 2, 3, 4, 1, 2, 1, 1, -1, 4, 5, 8, 6, 4, 5, 6, 8, 12, 14, 17, 18, 19, 19, 24, 22, 23, 23, 27, 27, 33, 36, 39, 39], \"yaxis\": \"y\"}],                        {\"legend\": {\"title\": {\"text\": \"Club\"}, \"tracegroupgap\": 0}, \"template\": {\"data\": {\"bar\": [{\"error_x\": {\"color\": \"#2a3f5f\"}, \"error_y\": {\"color\": \"#2a3f5f\"}, \"marker\": {\"line\": {\"color\": \"#E5ECF6\", \"width\": 0.5}}, \"type\": \"bar\"}], \"barpolar\": [{\"marker\": {\"line\": {\"color\": \"#E5ECF6\", \"width\": 0.5}}, \"type\": \"barpolar\"}], \"carpet\": [{\"aaxis\": {\"endlinecolor\": \"#2a3f5f\", \"gridcolor\": \"white\", \"linecolor\": \"white\", \"minorgridcolor\": \"white\", \"startlinecolor\": \"#2a3f5f\"}, \"baxis\": {\"endlinecolor\": \"#2a3f5f\", \"gridcolor\": \"white\", \"linecolor\": \"white\", \"minorgridcolor\": \"white\", \"startlinecolor\": \"#2a3f5f\"}, \"type\": \"carpet\"}], \"choropleth\": [{\"colorbar\": {\"outlinewidth\": 0, \"ticks\": \"\"}, \"type\": \"choropleth\"}], \"contour\": [{\"colorbar\": {\"outlinewidth\": 0, \"ticks\": \"\"}, \"colorscale\": [[0.0, \"#0d0887\"], [0.1111111111111111, \"#46039f\"], [0.2222222222222222, \"#7201a8\"], [0.3333333333333333, \"#9c179e\"], [0.4444444444444444, \"#bd3786\"], [0.5555555555555556, \"#d8576b\"], [0.6666666666666666, \"#ed7953\"], [0.7777777777777778, \"#fb9f3a\"], [0.8888888888888888, \"#fdca26\"], [1.0, \"#f0f921\"]], \"type\": \"contour\"}], \"contourcarpet\": [{\"colorbar\": {\"outlinewidth\": 0, \"ticks\": \"\"}, \"type\": \"contourcarpet\"}], \"heatmap\": [{\"colorbar\": {\"outlinewidth\": 0, \"ticks\": \"\"}, \"colorscale\": [[0.0, \"#0d0887\"], [0.1111111111111111, \"#46039f\"], [0.2222222222222222, \"#7201a8\"], [0.3333333333333333, \"#9c179e\"], [0.4444444444444444, \"#bd3786\"], [0.5555555555555556, \"#d8576b\"], [0.6666666666666666, \"#ed7953\"], [0.7777777777777778, \"#fb9f3a\"], [0.8888888888888888, \"#fdca26\"], [1.0, \"#f0f921\"]], \"type\": \"heatmap\"}], \"heatmapgl\": [{\"colorbar\": {\"outlinewidth\": 0, \"ticks\": \"\"}, \"colorscale\": [[0.0, \"#0d0887\"], [0.1111111111111111, \"#46039f\"], [0.2222222222222222, \"#7201a8\"], [0.3333333333333333, \"#9c179e\"], [0.4444444444444444, \"#bd3786\"], [0.5555555555555556, \"#d8576b\"], [0.6666666666666666, \"#ed7953\"], [0.7777777777777778, \"#fb9f3a\"], [0.8888888888888888, \"#fdca26\"], [1.0, \"#f0f921\"]], \"type\": \"heatmapgl\"}], \"histogram\": [{\"marker\": {\"colorbar\": {\"outlinewidth\": 0, \"ticks\": \"\"}}, \"type\": \"histogram\"}], \"histogram2d\": [{\"colorbar\": {\"outlinewidth\": 0, \"ticks\": \"\"}, \"colorscale\": [[0.0, \"#0d0887\"], [0.1111111111111111, \"#46039f\"], [0.2222222222222222, \"#7201a8\"], [0.3333333333333333, \"#9c179e\"], [0.4444444444444444, \"#bd3786\"], [0.5555555555555556, \"#d8576b\"], [0.6666666666666666, \"#ed7953\"], [0.7777777777777778, \"#fb9f3a\"], [0.8888888888888888, \"#fdca26\"], [1.0, \"#f0f921\"]], \"type\": \"histogram2d\"}], \"histogram2dcontour\": [{\"colorbar\": {\"outlinewidth\": 0, \"ticks\": \"\"}, \"colorscale\": [[0.0, \"#0d0887\"], [0.1111111111111111, \"#46039f\"], [0.2222222222222222, \"#7201a8\"], [0.3333333333333333, \"#9c179e\"], [0.4444444444444444, \"#bd3786\"], [0.5555555555555556, \"#d8576b\"], [0.6666666666666666, \"#ed7953\"], [0.7777777777777778, \"#fb9f3a\"], [0.8888888888888888, \"#fdca26\"], [1.0, \"#f0f921\"]], \"type\": \"histogram2dcontour\"}], \"mesh3d\": [{\"colorbar\": {\"outlinewidth\": 0, \"ticks\": \"\"}, \"type\": \"mesh3d\"}], \"parcoords\": [{\"line\": {\"colorbar\": {\"outlinewidth\": 0, \"ticks\": \"\"}}, \"type\": \"parcoords\"}], \"pie\": [{\"automargin\": true, \"type\": \"pie\"}], \"scatter\": [{\"marker\": {\"colorbar\": {\"outlinewidth\": 0, \"ticks\": \"\"}}, \"type\": \"scatter\"}], \"scatter3d\": [{\"line\": {\"colorbar\": {\"outlinewidth\": 0, \"ticks\": \"\"}}, \"marker\": {\"colorbar\": {\"outlinewidth\": 0, \"ticks\": \"\"}}, \"type\": \"scatter3d\"}], \"scattercarpet\": [{\"marker\": {\"colorbar\": {\"outlinewidth\": 0, \"ticks\": \"\"}}, \"type\": \"scattercarpet\"}], \"scattergeo\": [{\"marker\": {\"colorbar\": {\"outlinewidth\": 0, \"ticks\": \"\"}}, \"type\": \"scattergeo\"}], \"scattergl\": [{\"marker\": {\"colorbar\": {\"outlinewidth\": 0, \"ticks\": \"\"}}, \"type\": \"scattergl\"}], \"scattermapbox\": [{\"marker\": {\"colorbar\": {\"outlinewidth\": 0, \"ticks\": \"\"}}, \"type\": \"scattermapbox\"}], \"scatterpolar\": [{\"marker\": {\"colorbar\": {\"outlinewidth\": 0, \"ticks\": \"\"}}, \"type\": \"scatterpolar\"}], \"scatterpolargl\": [{\"marker\": {\"colorbar\": {\"outlinewidth\": 0, \"ticks\": \"\"}}, \"type\": \"scatterpolargl\"}], \"scatterternary\": [{\"marker\": {\"colorbar\": {\"outlinewidth\": 0, \"ticks\": \"\"}}, \"type\": \"scatterternary\"}], \"surface\": [{\"colorbar\": {\"outlinewidth\": 0, \"ticks\": \"\"}, \"colorscale\": [[0.0, \"#0d0887\"], [0.1111111111111111, \"#46039f\"], [0.2222222222222222, \"#7201a8\"], [0.3333333333333333, \"#9c179e\"], [0.4444444444444444, \"#bd3786\"], [0.5555555555555556, \"#d8576b\"], [0.6666666666666666, \"#ed7953\"], [0.7777777777777778, \"#fb9f3a\"], [0.8888888888888888, \"#fdca26\"], [1.0, \"#f0f921\"]], \"type\": \"surface\"}], \"table\": [{\"cells\": {\"fill\": {\"color\": \"#EBF0F8\"}, \"line\": {\"color\": \"white\"}}, \"header\": {\"fill\": {\"color\": \"#C8D4E3\"}, \"line\": {\"color\": \"white\"}}, \"type\": \"table\"}]}, \"layout\": {\"annotationdefaults\": {\"arrowcolor\": \"#2a3f5f\", \"arrowhead\": 0, \"arrowwidth\": 1}, \"autotypenumbers\": \"strict\", \"coloraxis\": {\"colorbar\": {\"outlinewidth\": 0, \"ticks\": \"\"}}, \"colorscale\": {\"diverging\": [[0, \"#8e0152\"], [0.1, \"#c51b7d\"], [0.2, \"#de77ae\"], [0.3, \"#f1b6da\"], [0.4, \"#fde0ef\"], [0.5, \"#f7f7f7\"], [0.6, \"#e6f5d0\"], [0.7, \"#b8e186\"], [0.8, \"#7fbc41\"], [0.9, \"#4d9221\"], [1, \"#276419\"]], \"sequential\": [[0.0, \"#0d0887\"], [0.1111111111111111, \"#46039f\"], [0.2222222222222222, \"#7201a8\"], [0.3333333333333333, \"#9c179e\"], [0.4444444444444444, \"#bd3786\"], [0.5555555555555556, \"#d8576b\"], [0.6666666666666666, \"#ed7953\"], [0.7777777777777778, \"#fb9f3a\"], [0.8888888888888888, \"#fdca26\"], [1.0, \"#f0f921\"]], \"sequentialminus\": [[0.0, \"#0d0887\"], [0.1111111111111111, \"#46039f\"], [0.2222222222222222, \"#7201a8\"], [0.3333333333333333, \"#9c179e\"], [0.4444444444444444, \"#bd3786\"], [0.5555555555555556, \"#d8576b\"], [0.6666666666666666, \"#ed7953\"], [0.7777777777777778, \"#fb9f3a\"], [0.8888888888888888, \"#fdca26\"], [1.0, \"#f0f921\"]]}, \"colorway\": [\"#636efa\", \"#EF553B\", \"#00cc96\", \"#ab63fa\", \"#FFA15A\", \"#19d3f3\", \"#FF6692\", \"#B6E880\", \"#FF97FF\", \"#FECB52\"], \"font\": {\"color\": \"#2a3f5f\"}, \"geo\": {\"bgcolor\": \"white\", \"lakecolor\": \"white\", \"landcolor\": \"#E5ECF6\", \"showlakes\": true, \"showland\": true, \"subunitcolor\": \"white\"}, \"hoverlabel\": {\"align\": \"left\"}, \"hovermode\": \"closest\", \"mapbox\": {\"style\": \"light\"}, \"paper_bgcolor\": \"white\", \"plot_bgcolor\": \"#E5ECF6\", \"polar\": {\"angularaxis\": {\"gridcolor\": \"white\", \"linecolor\": \"white\", \"ticks\": \"\"}, \"bgcolor\": \"#E5ECF6\", \"radialaxis\": {\"gridcolor\": \"white\", \"linecolor\": \"white\", \"ticks\": \"\"}}, \"scene\": {\"xaxis\": {\"backgroundcolor\": \"#E5ECF6\", \"gridcolor\": \"white\", \"gridwidth\": 2, \"linecolor\": \"white\", \"showbackground\": true, \"ticks\": \"\", \"zerolinecolor\": \"white\"}, \"yaxis\": {\"backgroundcolor\": \"#E5ECF6\", \"gridcolor\": \"white\", \"gridwidth\": 2, \"linecolor\": \"white\", \"showbackground\": true, \"ticks\": \"\", \"zerolinecolor\": \"white\"}, \"zaxis\": {\"backgroundcolor\": \"#E5ECF6\", \"gridcolor\": \"white\", \"gridwidth\": 2, \"linecolor\": \"white\", \"showbackground\": true, \"ticks\": \"\", \"zerolinecolor\": \"white\"}}, \"shapedefaults\": {\"line\": {\"color\": \"#2a3f5f\"}}, \"ternary\": {\"aaxis\": {\"gridcolor\": \"white\", \"linecolor\": \"white\", \"ticks\": \"\"}, \"baxis\": {\"gridcolor\": \"white\", \"linecolor\": \"white\", \"ticks\": \"\"}, \"bgcolor\": \"#E5ECF6\", \"caxis\": {\"gridcolor\": \"white\", \"linecolor\": \"white\", \"ticks\": \"\"}}, \"title\": {\"x\": 0.05}, \"xaxis\": {\"automargin\": true, \"gridcolor\": \"white\", \"linecolor\": \"white\", \"ticks\": \"\", \"title\": {\"standoff\": 15}, \"zerolinecolor\": \"white\", \"zerolinewidth\": 2}, \"yaxis\": {\"automargin\": true, \"gridcolor\": \"white\", \"linecolor\": \"white\", \"ticks\": \"\", \"title\": {\"standoff\": 15}, \"zerolinecolor\": \"white\", \"zerolinewidth\": 2}}}, \"title\": {\"text\": \"Tordifferenz\"}, \"xaxis\": {\"anchor\": \"y\", \"domain\": [0.0, 1.0], \"title\": {\"text\": \"Spieltag\"}}, \"yaxis\": {\"anchor\": \"x\", \"domain\": [0.0, 1.0], \"title\": {\"text\": \"Tordifferenz\"}}},                        {\"responsive\": true}                    ).then(function(){\n",
       "                            \n",
       "var gd = document.getElementById('bc1c0601-361b-493b-943e-ed8c13c642dc');\n",
       "var x = new MutationObserver(function (mutations, observer) {{\n",
       "        var display = window.getComputedStyle(gd).display;\n",
       "        if (!display || display === 'none') {{\n",
       "            console.log([gd, 'removed!']);\n",
       "            Plotly.purge(gd);\n",
       "            observer.disconnect();\n",
       "        }}\n",
       "}});\n",
       "\n",
       "// Listen for the removal of the full notebook cells\n",
       "var notebookContainer = gd.closest('#notebook-container');\n",
       "if (notebookContainer) {{\n",
       "    x.observe(notebookContainer, {childList: true});\n",
       "}}\n",
       "\n",
       "// Listen for the clearing of the current output cell\n",
       "var outputEl = gd.closest('.output');\n",
       "if (outputEl) {{\n",
       "    x.observe(outputEl, {childList: true});\n",
       "}}\n",
       "\n",
       "                        })                };                });            </script>        </div>"
      ]
     },
     "metadata": {},
     "output_type": "display_data"
    }
   ],
   "source": [
    "stats_plotten([\"FC Bayern München\",\"Borussia Dortmund\"], [\"Punkte gesamt\", \"Tordifferenz\"])"
   ]
  },
  {
   "cell_type": "markdown",
   "metadata": {},
   "source": [
    "Es wäre nicht schelcht Auswärts-und Heimpunkte getrennt zu haben"
   ]
  },
  {
   "cell_type": "code",
   "execution_count": 316,
   "metadata": {
    "scrolled": false
   },
   "outputs": [
    {
     "name": "stdout",
     "output_type": "stream",
     "text": [
      "[{'FC Bayern München': 3, 'RB Leipzig': 1, 'TSG 1899 Hoffenheim': 0, 'SC Freiburg': 3, 'FC Augsburg': 0, 'Werder Bremen': 1, 'Eintracht Frankfurt': 0, 'VfB Stuttgart': 1, '1. FSV Mainz 05': 3, 'Bayer Leverkusen': 0, 'Borussia Mönchengladbach': 3, 'VfL Wolfsburg': 1, '1. FC Köln': 3, 'Borussia Dortmund': 3, '1. FC Union Berlin': 3, 'FC Schalke 04': 0, 'Hertha BSC': 0, 'VfL Bochum': 0}, {'FC Bayern München': 3, 'RB Leipzig': 1, 'TSG 1899 Hoffenheim': 3, 'SC Freiburg': 0, 'FC Augsburg': 3, 'Werder Bremen': 1, 'Eintracht Frankfurt': 1, 'VfB Stuttgart': 1, '1. FSV Mainz 05': 1, 'Bayer Leverkusen': 0, 'Borussia Mönchengladbach': 1, 'VfL Wolfsburg': 0, '1. FC Köln': 1, 'Borussia Dortmund': 3, '1. FC Union Berlin': 1, 'FC Schalke 04': 1, 'Hertha BSC': 1, 'VfL Bochum': 0}, {'FC Bayern München': 3, 'RB Leipzig': 0, 'TSG 1899 Hoffenheim': 3, 'SC Freiburg': 3, 'FC Augsburg': 0, 'Werder Bremen': 3, 'Eintracht Frankfurt': 1, 'VfB Stuttgart': 0, '1. FSV Mainz 05': 3, 'Bayer Leverkusen': 0, 'Borussia Mönchengladbach': 3, 'VfL Wolfsburg': 1, '1. FC Köln': 1, 'Borussia Dortmund': 0, '1. FC Union Berlin': 3, 'FC Schalke 04': 1, 'Hertha BSC': 0, 'VfL Bochum': 0}, {'FC Bayern München': 1, 'RB Leipzig': 3, 'TSG 1899 Hoffenheim': 3, 'SC Freiburg': 3, 'FC Augsburg': 0, 'Werder Bremen': 0, 'Eintracht Frankfurt': 3, 'VfB Stuttgart': 1, '1. FSV Mainz 05': 0, 'Bayer Leverkusen': 3, 'Borussia Mönchengladbach': 1, 'VfL Wolfsburg': 0, '1. FC Köln': 1, 'Borussia Dortmund': 3, '1. FC Union Berlin': 3, 'FC Schalke 04': 0, 'Hertha BSC': 0, 'VfL Bochum': 0}, {'FC Bayern München': 1, 'RB Leipzig': 0, 'TSG 1899 Hoffenheim': 0, 'SC Freiburg': 3, 'FC Augsburg': 0, 'Werder Bremen': 3, 'Eintracht Frankfurt': 3, 'VfB Stuttgart': 1, '1. FSV Mainz 05': 3, 'Bayer Leverkusen': 0, 'Borussia Mönchengladbach': 0, 'VfL Wolfsburg': 0, '1. FC Köln': 3, 'Borussia Dortmund': 3, '1. FC Union Berlin': 1, 'FC Schalke 04': 1, 'Hertha BSC': 3, 'VfL Bochum': 0}, {'FC Bayern München': 1, 'RB Leipzig': 3, 'TSG 1899 Hoffenheim': 3, 'SC Freiburg': 1, 'FC Augsburg': 3, 'Werder Bremen': 0, 'Eintracht Frankfurt': 0, 'VfB Stuttgart': 1, '1. FSV Mainz 05': 0, 'Bayer Leverkusen': 1, 'Borussia Mönchengladbach': 1, 'VfL Wolfsburg': 3, '1. FC Köln': 0, 'Borussia Dortmund': 0, '1. FC Union Berlin': 3, 'FC Schalke 04': 3, 'Hertha BSC': 1, 'VfL Bochum': 0}, {'FC Bayern München': 0, 'RB Leipzig': 0, 'TSG 1899 Hoffenheim': 1, 'SC Freiburg': 1, 'FC Augsburg': 3, 'Werder Bremen': 1, 'Eintracht Frankfurt': 3, 'VfB Stuttgart': 0, '1. FSV Mainz 05': 1, 'Bayer Leverkusen': 1, 'Borussia Mönchengladbach': 3, 'VfL Wolfsburg': 0, '1. FC Köln': 1, 'Borussia Dortmund': 3, '1. FC Union Berlin': 3, 'FC Schalke 04': 0, 'Hertha BSC': 1, 'VfL Bochum': 1}, {'FC Bayern München': 3, 'RB Leipzig': 3, 'TSG 1899 Hoffenheim': 1, 'SC Freiburg': 3, 'FC Augsburg': 3, 'Werder Bremen': 3, 'Eintracht Frankfurt': 3, 'VfB Stuttgart': 0, '1. FSV Mainz 05': 0, 'Bayer Leverkusen': 0, 'Borussia Mönchengladbach': 0, 'VfL Wolfsburg': 3, '1. FC Köln': 3, 'Borussia Dortmund': 0, '1. FC Union Berlin': 0, 'FC Schalke 04': 0, 'Hertha BSC': 1, 'VfL Bochum': 0}, {'FC Bayern München': 1, 'RB Leipzig': 1, 'TSG 1899 Hoffenheim': 0, 'SC Freiburg': 1, 'FC Augsburg': 1, 'Werder Bremen': 3, 'Eintracht Frankfurt': 0, 'VfB Stuttgart': 0, '1. FSV Mainz 05': 1, 'Bayer Leverkusen': 3, 'Borussia Mönchengladbach': 3, 'VfL Wolfsburg': 1, '1. FC Köln': 0, 'Borussia Dortmund': 1, '1. FC Union Berlin': 3, 'FC Schalke 04': 0, 'Hertha BSC': 1, 'VfL Bochum': 3}, {'FC Bayern München': 3, 'RB Leipzig': 3, 'TSG 1899 Hoffenheim': 3, 'SC Freiburg': 0, 'FC Augsburg': 0, 'Werder Bremen': 0, 'Eintracht Frankfurt': 3, 'VfB Stuttgart': 3, '1. FSV Mainz 05': 3, 'Bayer Leverkusen': 0, 'Borussia Mönchengladbach': 1, 'VfL Wolfsburg': 1, '1. FC Köln': 3, 'Borussia Dortmund': 0, '1. FC Union Berlin': 3, 'FC Schalke 04': 0, 'Hertha BSC': 0, 'VfL Bochum': 0}, {'FC Bayern München': 3, 'RB Leipzig': 1, 'TSG 1899 Hoffenheim': 0, 'SC Freiburg': 3, 'FC Augsburg': 1, 'Werder Bremen': 0, 'Eintracht Frankfurt': 3, 'VfB Stuttgart': 0, '1. FSV Mainz 05': 3, 'Bayer Leverkusen': 1, 'Borussia Mönchengladbach': 0, 'VfL Wolfsburg': 1, '1. FC Köln': 0, 'Borussia Dortmund': 3, '1. FC Union Berlin': 0, 'FC Schalke 04': 0, 'Hertha BSC': 3, 'VfL Bochum': 3}, {'FC Bayern München': 3, 'RB Leipzig': 3, 'TSG 1899 Hoffenheim': 1, 'SC Freiburg': 3, 'FC Augsburg': 0, 'Werder Bremen': 3, 'Eintracht Frankfurt': 0, 'VfB Stuttgart': 3, '1. FSV Mainz 05': 0, 'Bayer Leverkusen': 0, 'Borussia Mönchengladbach': 0, 'VfL Wolfsburg': 3, '1. FC Köln': 1, 'Borussia Dortmund': 3, '1. FC Union Berlin': 3, 'FC Schalke 04': 0, 'Hertha BSC': 0, 'VfL Bochum': 0}, {'FC Bayern München': 3, 'RB Leipzig': 3, 'TSG 1899 Hoffenheim': 0, 'SC Freiburg': 3, 'FC Augsburg': 0, 'Werder Bremen': 3, 'Eintracht Frankfurt': 3, 'VfB Stuttgart': 0, '1. FSV Mainz 05': 0, 'Bayer Leverkusen': 3, 'Borussia Mönchengladbach': 3, 'VfL Wolfsburg': 3, '1. FC Köln': 0, 'Borussia Dortmund': 3, '1. FC Union Berlin': 0, 'FC Schalke 04': 0, 'Hertha BSC': 0, 'VfL Bochum': 0}, {'FC Bayern München': 3, 'RB Leipzig': 3, 'TSG 1899 Hoffenheim': 0, 'SC Freiburg': 0, 'FC Augsburg': 1, 'Werder Bremen': 0, 'Eintracht Frankfurt': 3, 'VfB Stuttgart': 3, '1. FSV Mainz 05': 0, 'Bayer Leverkusen': 3, 'Borussia Mönchengladbach': 0, 'VfL Wolfsburg': 3, '1. FC Köln': 0, 'Borussia Dortmund': 0, '1. FC Union Berlin': 1, 'FC Schalke 04': 3, 'Hertha BSC': 0, 'VfL Bochum': 3}, {'FC Bayern München': 3, 'RB Leipzig': 3, 'TSG 1899 Hoffenheim': 0, 'SC Freiburg': 3, 'FC Augsburg': 0, 'Werder Bremen': 0, 'Eintracht Frankfurt': 1, 'VfB Stuttgart': 0, '1. FSV Mainz 05': 1, 'Bayer Leverkusen': 3, 'Borussia Mönchengladbach': 3, 'VfL Wolfsburg': 3, '1. FC Köln': 0, 'Borussia Dortmund': 0, '1. FC Union Berlin': 0, 'FC Schalke 04': 0, 'Hertha BSC': 3, 'VfL Bochum': 3}, {'FC Bayern München': 1, 'RB Leipzig': 1, 'TSG 1899 Hoffenheim': 0, 'SC Freiburg': 0, 'FC Augsburg': 0, 'Werder Bremen': 0, 'Eintracht Frankfurt': 3, 'VfB Stuttgart': 1, '1. FSV Mainz 05': 1, 'Bayer Leverkusen': 3, 'Borussia Mönchengladbach': 0, 'VfL Wolfsburg': 3, '1. FC Köln': 3, 'Borussia Dortmund': 3, '1. FC Union Berlin': 3, 'FC Schalke 04': 0, 'Hertha BSC': 0, 'VfL Bochum': 3}, {'FC Bayern München': 1, 'RB Leipzig': 3, 'TSG 1899 Hoffenheim': 1, 'SC Freiburg': 1, 'FC Augsburg': 3, 'Werder Bremen': 0, 'Eintracht Frankfurt': 1, 'VfB Stuttgart': 1, '1. FSV Mainz 05': 0, 'Bayer Leverkusen': 3, 'Borussia Mönchengladbach': 0, 'VfL Wolfsburg': 3, '1. FC Köln': 1, 'Borussia Dortmund': 3, '1. FC Union Berlin': 3, 'FC Schalke 04': 0, 'Hertha BSC': 0, 'VfL Bochum': 0}, {'FC Bayern München': 1, 'RB Leipzig': 3, 'TSG 1899 Hoffenheim': 0, 'SC Freiburg': 3, 'FC Augsburg': 0, 'Werder Bremen': 3, 'Eintracht Frankfurt': 1, 'VfB Stuttgart': 0, '1. FSV Mainz 05': 3, 'Bayer Leverkusen': 0, 'Borussia Mönchengladbach': 3, 'VfL Wolfsburg': 0, '1. FC Köln': 1, 'Borussia Dortmund': 3, '1. FC Union Berlin': 3, 'FC Schalke 04': 1, 'Hertha BSC': 0, 'VfL Bochum': 0}, {'FC Bayern München': 3, 'RB Leipzig': 1, 'TSG 1899 Hoffenheim': 0, 'SC Freiburg': 0, 'FC Augsburg': 3, 'Werder Bremen': 3, 'Eintracht Frankfurt': 3, 'VfB Stuttgart': 0, '1. FSV Mainz 05': 0, 'Bayer Leverkusen': 0, 'Borussia Mönchengladbach': 1, 'VfL Wolfsburg': 0, '1. FC Köln': 1, 'Borussia Dortmund': 3, '1. FC Union Berlin': 3, 'FC Schalke 04': 1, 'Hertha BSC': 0, 'VfL Bochum': 3}, {'FC Bayern München': 3, 'RB Leipzig': 0, 'TSG 1899 Hoffenheim': 0, 'SC Freiburg': 3, 'FC Augsburg': 0, 'Werder Bremen': 0, 'Eintracht Frankfurt': 0, 'VfB Stuttgart': 0, '1. FSV Mainz 05': 3, 'Bayer Leverkusen': 3, 'Borussia Mönchengladbach': 0, 'VfL Wolfsburg': 1, '1. FC Köln': 3, 'Borussia Dortmund': 3, '1. FC Union Berlin': 3, 'FC Schalke 04': 1, 'Hertha BSC': 3, 'VfL Bochum': 0}, {'FC Bayern München': 0, 'RB Leipzig': 3, 'TSG 1899 Hoffenheim': 0, 'SC Freiburg': 3, 'FC Augsburg': 3, 'Werder Bremen': 0, 'Eintracht Frankfurt': 3, 'VfB Stuttgart': 3, '1. FSV Mainz 05': 3, 'Bayer Leverkusen': 0, 'Borussia Mönchengladbach': 3, 'VfL Wolfsburg': 0, '1. FC Köln': 0, 'Borussia Dortmund': 3, '1. FC Union Berlin': 1, 'FC Schalke 04': 1, 'Hertha BSC': 0, 'VfL Bochum': 0}, {'FC Bayern München': 3, 'RB Leipzig': 3, 'TSG 1899 Hoffenheim': 0, 'SC Freiburg': 1, 'FC Augsburg': 0, 'Werder Bremen': 3, 'Eintracht Frankfurt': 0, 'VfB Stuttgart': 0, '1. FSV Mainz 05': 3, 'Bayer Leverkusen': 1, 'Borussia Mönchengladbach': 0, 'VfL Wolfsburg': 3, '1. FC Köln': 0, 'Borussia Dortmund': 3, '1. FC Union Berlin': 0, 'FC Schalke 04': 3, 'Hertha BSC': 3, 'VfL Bochum': 0}, {'FC Bayern München': 3, 'RB Leipzig': 0, 'TSG 1899 Hoffenheim': 0, 'SC Freiburg': 1, 'FC Augsburg': 3, 'Werder Bremen': 0, 'Eintracht Frankfurt': 1, 'VfB Stuttgart': 0, '1. FSV Mainz 05': 3, 'Bayer Leverkusen': 3, 'Borussia Mönchengladbach': 1, 'VfL Wolfsburg': 1, '1. FC Köln': 1, 'Borussia Dortmund': 3, '1. FC Union Berlin': 1, 'FC Schalke 04': 3, 'Hertha BSC': 0, 'VfL Bochum': 0}, {'FC Bayern München': 3, 'RB Leipzig': 3, 'TSG 1899 Hoffenheim': 0, 'SC Freiburg': 3, 'FC Augsburg': 0, 'Werder Bremen': 0, 'Eintracht Frankfurt': 1, 'VfB Stuttgart': 1, '1. FSV Mainz 05': 1, 'Bayer Leverkusen': 3, 'Borussia Mönchengladbach': 0, 'VfL Wolfsburg': 1, '1. FC Köln': 0, 'Borussia Dortmund': 1, '1. FC Union Berlin': 1, 'FC Schalke 04': 1, 'Hertha BSC': 1, 'VfL Bochum': 3}, {'FC Bayern München': 0, 'RB Leipzig': 0, 'TSG 1899 Hoffenheim': 3, 'SC Freiburg': 1, 'FC Augsburg': 1, 'Werder Bremen': 1, 'Eintracht Frankfurt': 0, 'VfB Stuttgart': 0, '1. FSV Mainz 05': 1, 'Bayer Leverkusen': 3, 'Borussia Mönchengladbach': 1, 'VfL Wolfsburg': 3, '1. FC Köln': 0, 'Borussia Dortmund': 3, '1. FC Union Berlin': 3, 'FC Schalke 04': 1, 'Hertha BSC': 0, 'VfL Bochum': 3}, {'FC Bayern München': 3, 'RB Leipzig': 0, 'TSG 1899 Hoffenheim': 3, 'SC Freiburg': 1, 'FC Augsburg': 1, 'Werder Bremen': 0, 'Eintracht Frankfurt': 1, 'VfB Stuttgart': 0, '1. FSV Mainz 05': 3, 'Bayer Leverkusen': 3, 'Borussia Mönchengladbach': 1, 'VfL Wolfsburg': 1, '1. FC Köln': 1, 'Borussia Dortmund': 0, '1. FC Union Berlin': 3, 'FC Schalke 04': 0, 'Hertha BSC': 1, 'VfL Bochum': 1}, {'FC Bayern München': 3, 'RB Leipzig': 3, 'TSG 1899 Hoffenheim': 3, 'SC Freiburg': 0, 'FC Augsburg': 0, 'Werder Bremen': 1, 'Eintracht Frankfurt': 0, 'VfB Stuttgart': 3, '1. FSV Mainz 05': 1, 'Bayer Leverkusen': 3, 'Borussia Mönchengladbach': 3, 'VfL Wolfsburg': 0, '1. FC Köln': 3, 'Borussia Dortmund': 3, '1. FC Union Berlin': 0, 'FC Schalke 04': 0, 'Hertha BSC': 0, 'VfL Bochum': 0}, {'FC Bayern München': 1, 'RB Leipzig': 3, 'TSG 1899 Hoffenheim': 1, 'SC Freiburg': 3, 'FC Augsburg': 0, 'Werder Bremen': 0, 'Eintracht Frankfurt': 1, 'VfB Stuttgart': 1, '1. FSV Mainz 05': 1, 'Bayer Leverkusen': 1, 'Borussia Mönchengladbach': 1, 'VfL Wolfsburg': 1, '1. FC Köln': 1, 'Borussia Dortmund': 1, '1. FC Union Berlin': 1, 'FC Schalke 04': 3, 'Hertha BSC': 0, 'VfL Bochum': 1}, {'FC Bayern München': 0, 'RB Leipzig': 0, 'TSG 1899 Hoffenheim': 0, 'SC Freiburg': 3, 'FC Augsburg': 1, 'Werder Bremen': 3, 'Eintracht Frankfurt': 0, 'VfB Stuttgart': 1, '1. FSV Mainz 05': 3, 'Bayer Leverkusen': 3, 'Borussia Mönchengladbach': 0, 'VfL Wolfsburg': 3, '1. FC Köln': 3, 'Borussia Dortmund': 3, '1. FC Union Berlin': 3, 'FC Schalke 04': 0, 'Hertha BSC': 0, 'VfL Bochum': 0}, {'FC Bayern München': 3, 'RB Leipzig': 3, 'TSG 1899 Hoffenheim': 0, 'SC Freiburg': 3, 'FC Augsburg': 1, 'Werder Bremen': 0, 'Eintracht Frankfurt': 1, 'VfB Stuttgart': 3, '1. FSV Mainz 05': 0, 'Bayer Leverkusen': 1, 'Borussia Mönchengladbach': 0, 'VfL Wolfsburg': 3, '1. FC Köln': 0, 'Borussia Dortmund': 1, '1. FC Union Berlin': 1, 'FC Schalke 04': 3, 'Hertha BSC': 0, 'VfL Bochum': 1}, {'FC Bayern München': 3, 'RB Leipzig': 3, 'TSG 1899 Hoffenheim': 3, 'SC Freiburg': 0, 'FC Augsburg': 3, 'Werder Bremen': 0, 'Eintracht Frankfurt': 0, 'VfB Stuttgart': 0, '1. FSV Mainz 05': 0, 'Bayer Leverkusen': 0, 'Borussia Mönchengladbach': 3, 'VfL Wolfsburg': 0, '1. FC Köln': 3, 'Borussia Dortmund': 3, '1. FC Union Berlin': 0, 'FC Schalke 04': 3, 'Hertha BSC': 3, 'VfL Bochum': 0}, {'FC Bayern München': 3, 'RB Leipzig': 3, 'TSG 1899 Hoffenheim': 0, 'SC Freiburg': 0, 'FC Augsburg': 0, 'Werder Bremen': 0, 'Eintracht Frankfurt': 3, 'VfB Stuttgart': 1, '1. FSV Mainz 05': 0, 'Bayer Leverkusen': 1, 'Borussia Mönchengladbach': 0, 'VfL Wolfsburg': 3, '1. FC Köln': 3, 'Borussia Dortmund': 3, '1. FC Union Berlin': 3, 'FC Schalke 04': 0, 'Hertha BSC': 0, 'VfL Bochum': 3}, {'FC Bayern München': 0, 'RB Leipzig': 3, 'TSG 1899 Hoffenheim': 3, 'SC Freiburg': 3, 'FC Augsburg': 0, 'Werder Bremen': 1, 'Eintracht Frankfurt': 1, 'VfB Stuttgart': 3, '1. FSV Mainz 05': 0, 'Bayer Leverkusen': 1, 'Borussia Mönchengladbach': 1, 'VfL Wolfsburg': 0, '1. FC Köln': 1, 'Borussia Dortmund': 3, '1. FC Union Berlin': 0, 'FC Schalke 04': 1, 'Hertha BSC': 1, 'VfL Bochum': 1}, {'FC Bayern München': 3, 'RB Leipzig': 3, 'TSG 1899 Hoffenheim': 1, 'SC Freiburg': 0, 'FC Augsburg': 0, 'Werder Bremen': 0, 'Eintracht Frankfurt': 3, 'VfB Stuttgart': 1, '1. FSV Mainz 05': 1, 'Bayer Leverkusen': 0, 'Borussia Mönchengladbach': 3, 'VfL Wolfsburg': 0, '1. FC Köln': 0, 'Borussia Dortmund': 1, '1. FC Union Berlin': 3, 'FC Schalke 04': 0, 'Hertha BSC': 3, 'VfL Bochum': 3}]\n"
     ]
    }
   ],
   "source": [
    "print(punktzahlen)"
   ]
  },
  {
   "cell_type": "code",
   "execution_count": 345,
   "metadata": {},
   "outputs": [
    {
     "data": {
      "text/plain": [
       "array(['Eintracht Frankfurt', 'FC Augsburg', 'VfL Bochum',\n",
       "       'Borussia Mönchengladbach', '1. FC Union Berlin', 'VfL Wolfsburg',\n",
       "       'Borussia Dortmund', 'VfB Stuttgart', '1. FC Köln'], dtype=object)"
      ]
     },
     "execution_count": 345,
     "metadata": {},
     "output_type": "execute_result"
    }
   ],
   "source": [
    "type(spieltage_dfs[0][spieltage_dfs[0][\"heim\"] == 'Eintracht Frankfurt'])\n",
    "spieltage_dfs[0][\"heim\"].values"
   ]
  },
  {
   "cell_type": "code",
   "execution_count": 352,
   "metadata": {},
   "outputs": [],
   "source": [
    "for club in clubs_set:\n",
    "    punkte_heim =np.zeros(34)\n",
    "    punkte_gast = np.zeros(34)\n",
    "    for i, tag in enumerate(punktzahlen):\n",
    "        #st = spieltage_dfs[tag]\n",
    "        \n",
    "        if club in spieltage_dfs[i][\"heim\"].values:\n",
    "            p = spieltage_dfs[i][spieltage_dfs[i][\"heim\"] == club][\"Punkte Heim\"].values[0]\n",
    "            if i > 0:\n",
    "                punkte_heim[i] = punkte_heim[i-1] + p\n",
    "                punkte_gast[i] = punkte_gast[i-1]\n",
    "            else:\n",
    "                punkte_heim[i] = p\n",
    "        else: \n",
    "            p = spieltage_dfs[i][spieltage_dfs[i][\"gast\"] == club][\"Punkte Gast\"].values[0]\n",
    "            if i > 0:\n",
    "                punkte_gast[i] = punkte_gast[i-1] + p\n",
    "                punkte_heim[i] = punkte_heim[i-1]\n",
    "            else:\n",
    "                punkte_heim[i] = p                                          \n",
    "    club_stats_dfs[club][\"Heimpunkte gesamt\"] = punkte_heim.astype(int)\n",
    "    club_stats_dfs[club][\"Auswärtspunkte gesamt\"] = punkte_gast.astype(int)                                            "
   ]
  },
  {
   "cell_type": "code",
   "execution_count": 353,
   "metadata": {},
   "outputs": [
    {
     "data": {
      "text/html": [
       "<div>\n",
       "<style scoped>\n",
       "    .dataframe tbody tr th:only-of-type {\n",
       "        vertical-align: middle;\n",
       "    }\n",
       "\n",
       "    .dataframe tbody tr th {\n",
       "        vertical-align: top;\n",
       "    }\n",
       "\n",
       "    .dataframe thead th {\n",
       "        text-align: right;\n",
       "    }\n",
       "</style>\n",
       "<table border=\"1\" class=\"dataframe\">\n",
       "  <thead>\n",
       "    <tr style=\"text-align: right;\">\n",
       "      <th></th>\n",
       "      <th>Spieltag</th>\n",
       "      <th>Punkte Spieltag</th>\n",
       "      <th>Tore Spieltag</th>\n",
       "      <th>Gegentore Spieltag</th>\n",
       "      <th>Punkte gesamt</th>\n",
       "      <th>Tore gesamt</th>\n",
       "      <th>Gegentore gesamt</th>\n",
       "      <th>Tordifferenz</th>\n",
       "      <th>Heimpunkte gesamt</th>\n",
       "      <th>Auswärtspunkte gesamt</th>\n",
       "    </tr>\n",
       "  </thead>\n",
       "  <tbody>\n",
       "    <tr>\n",
       "      <th>0</th>\n",
       "      <td>1</td>\n",
       "      <td>0</td>\n",
       "      <td>1</td>\n",
       "      <td>6</td>\n",
       "      <td>0</td>\n",
       "      <td>1</td>\n",
       "      <td>6</td>\n",
       "      <td>-5</td>\n",
       "      <td>0</td>\n",
       "      <td>0</td>\n",
       "    </tr>\n",
       "    <tr>\n",
       "      <th>1</th>\n",
       "      <td>2</td>\n",
       "      <td>1</td>\n",
       "      <td>1</td>\n",
       "      <td>1</td>\n",
       "      <td>1</td>\n",
       "      <td>2</td>\n",
       "      <td>7</td>\n",
       "      <td>-5</td>\n",
       "      <td>0</td>\n",
       "      <td>1</td>\n",
       "    </tr>\n",
       "    <tr>\n",
       "      <th>2</th>\n",
       "      <td>3</td>\n",
       "      <td>1</td>\n",
       "      <td>1</td>\n",
       "      <td>1</td>\n",
       "      <td>2</td>\n",
       "      <td>3</td>\n",
       "      <td>8</td>\n",
       "      <td>-5</td>\n",
       "      <td>1</td>\n",
       "      <td>1</td>\n",
       "    </tr>\n",
       "    <tr>\n",
       "      <th>3</th>\n",
       "      <td>4</td>\n",
       "      <td>3</td>\n",
       "      <td>4</td>\n",
       "      <td>3</td>\n",
       "      <td>5</td>\n",
       "      <td>7</td>\n",
       "      <td>11</td>\n",
       "      <td>-4</td>\n",
       "      <td>1</td>\n",
       "      <td>4</td>\n",
       "    </tr>\n",
       "    <tr>\n",
       "      <th>4</th>\n",
       "      <td>5</td>\n",
       "      <td>3</td>\n",
       "      <td>4</td>\n",
       "      <td>0</td>\n",
       "      <td>8</td>\n",
       "      <td>11</td>\n",
       "      <td>11</td>\n",
       "      <td>0</td>\n",
       "      <td>4</td>\n",
       "      <td>4</td>\n",
       "    </tr>\n",
       "  </tbody>\n",
       "</table>\n",
       "</div>"
      ],
      "text/plain": [
       "  Spieltag Punkte Spieltag Tore Spieltag Gegentore Spieltag Punkte gesamt  \\\n",
       "0        1               0             1                  6             0   \n",
       "1        2               1             1                  1             1   \n",
       "2        3               1             1                  1             2   \n",
       "3        4               3             4                  3             5   \n",
       "4        5               3             4                  0             8   \n",
       "\n",
       "  Tore gesamt Gegentore gesamt Tordifferenz  Heimpunkte gesamt  \\\n",
       "0           1                6           -5                  0   \n",
       "1           2                7           -5                  0   \n",
       "2           3                8           -5                  1   \n",
       "3           7               11           -4                  1   \n",
       "4          11               11            0                  4   \n",
       "\n",
       "   Auswärtspunkte gesamt  \n",
       "0                      0  \n",
       "1                      1  \n",
       "2                      1  \n",
       "3                      4  \n",
       "4                      4  "
      ]
     },
     "execution_count": 353,
     "metadata": {},
     "output_type": "execute_result"
    }
   ],
   "source": [
    "club_stats_dfs['Eintracht Frankfurt'].head()"
   ]
  },
  {
   "cell_type": "markdown",
   "metadata": {},
   "source": [
    "Jetzt können wir für die einzelnen Clubs gestapelte Balkendiagramme machen, die ihr Punkteausbeute aufteilen auf Heim und Auswärtspunkte: dazu passsen wir die Tabellendatensätze nochmal an"
   ]
  },
  {
   "cell_type": "code",
   "execution_count": 390,
   "metadata": {},
   "outputs": [
    {
     "name": "stderr",
     "output_type": "stream",
     "text": [
      "<ipython-input-390-2341e9819c48>:9: SettingWithCopyWarning:\n",
      "\n",
      "\n",
      "A value is trying to be set on a copy of a slice from a DataFrame.\n",
      "Try using .loc[row_indexer,col_indexer] = value instead\n",
      "\n",
      "See the caveats in the documentation: https://pandas.pydata.org/pandas-docs/stable/user_guide/indexing.html#returning-a-view-versus-a-copy\n",
      "\n",
      "<ipython-input-390-2341e9819c48>:10: SettingWithCopyWarning:\n",
      "\n",
      "\n",
      "A value is trying to be set on a copy of a slice from a DataFrame.\n",
      "Try using .loc[row_indexer,col_indexer] = value instead\n",
      "\n",
      "See the caveats in the documentation: https://pandas.pydata.org/pandas-docs/stable/user_guide/indexing.html#returning-a-view-versus-a-copy\n",
      "\n"
     ]
    }
   ],
   "source": [
    "for tag, df in tabellen_dict.items():\n",
    "    heimpunkte = 0\n",
    "    auswaertspunkte = 0\n",
    "    df[\"Heimpunkte gesamt\"]= 0\n",
    "    df[\"Auswärtspunkte gesamt\"] = 0\n",
    "    for club in tabellen_dict[tag][\"Club\"]:\n",
    "        heimpunkte = club_stats_dfs[club][club_stats_dfs[club][\"Spieltag\"]==tag][\"Heimpunkte gesamt\"].values[0]\n",
    "        auswaertspunkte = club_stats_dfs[club][club_stats_dfs[club][\"Spieltag\"]==tag][\"Auswärtspunkte gesamt\"].values[0]\n",
    "        df[df[\"Club\"] == club][\"Heimpunkte gesamt\"] = heimpunkte\n",
    "        df[df[\"Club\"] == club][\"Auswärtspunkte gesamt\"] = auswaertspunkte"
   ]
  },
  {
   "cell_type": "code",
   "execution_count": 386,
   "metadata": {},
   "outputs": [],
   "source": [
    "for tag, df in tabellen_dict.items():\n",
    "    for club in tabellen_dict[tag][\"Club\"]:\n",
    "        heimpunkte = club_stats_dfs[club]\n",
    "        #print(heimpunkte)\n",
    "        auswaertspunkte = club_stats_dfs[club][club_stats_dfs[club][\"Spieltag\"]==tag][\"Auswärtspunkte gesamt\"].values[0]\n",
    "        df[\"Heimpunkte gesamt\"] = club_stats_dfs[club]\n",
    "        df[\"Auswärtspunkte gesamt\"] = auswaertspunkte"
   ]
  },
  {
   "cell_type": "code",
   "execution_count": 391,
   "metadata": {},
   "outputs": [
    {
     "data": {
      "text/html": [
       "<div>\n",
       "<style scoped>\n",
       "    .dataframe tbody tr th:only-of-type {\n",
       "        vertical-align: middle;\n",
       "    }\n",
       "\n",
       "    .dataframe tbody tr th {\n",
       "        vertical-align: top;\n",
       "    }\n",
       "\n",
       "    .dataframe thead th {\n",
       "        text-align: right;\n",
       "    }\n",
       "</style>\n",
       "<table border=\"1\" class=\"dataframe\">\n",
       "  <thead>\n",
       "    <tr style=\"text-align: right;\">\n",
       "      <th></th>\n",
       "      <th>Club</th>\n",
       "      <th>Spieltag</th>\n",
       "      <th>Punkte gesamt</th>\n",
       "      <th>Tore gesamt</th>\n",
       "      <th>Gegentore gesamt</th>\n",
       "      <th>Tordifferenz</th>\n",
       "      <th>Heimpunkte gesamt</th>\n",
       "      <th>Auswärtspunkte gesamt</th>\n",
       "    </tr>\n",
       "    <tr>\n",
       "      <th>Position</th>\n",
       "      <th></th>\n",
       "      <th></th>\n",
       "      <th></th>\n",
       "      <th></th>\n",
       "      <th></th>\n",
       "      <th></th>\n",
       "      <th></th>\n",
       "      <th></th>\n",
       "    </tr>\n",
       "  </thead>\n",
       "  <tbody>\n",
       "    <tr>\n",
       "      <th>1</th>\n",
       "      <td>FC Bayern München</td>\n",
       "      <td>1</td>\n",
       "      <td>3</td>\n",
       "      <td>6</td>\n",
       "      <td>1</td>\n",
       "      <td>5</td>\n",
       "      <td>0</td>\n",
       "      <td>0</td>\n",
       "    </tr>\n",
       "    <tr>\n",
       "      <th>2</th>\n",
       "      <td>RB Leipzig</td>\n",
       "      <td>1</td>\n",
       "      <td>1</td>\n",
       "      <td>1</td>\n",
       "      <td>1</td>\n",
       "      <td>0</td>\n",
       "      <td>0</td>\n",
       "      <td>0</td>\n",
       "    </tr>\n",
       "    <tr>\n",
       "      <th>3</th>\n",
       "      <td>TSG 1899 Hoffenheim</td>\n",
       "      <td>1</td>\n",
       "      <td>0</td>\n",
       "      <td>1</td>\n",
       "      <td>3</td>\n",
       "      <td>-2</td>\n",
       "      <td>0</td>\n",
       "      <td>0</td>\n",
       "    </tr>\n",
       "    <tr>\n",
       "      <th>4</th>\n",
       "      <td>SC Freiburg</td>\n",
       "      <td>1</td>\n",
       "      <td>3</td>\n",
       "      <td>4</td>\n",
       "      <td>0</td>\n",
       "      <td>4</td>\n",
       "      <td>0</td>\n",
       "      <td>0</td>\n",
       "    </tr>\n",
       "    <tr>\n",
       "      <th>5</th>\n",
       "      <td>FC Augsburg</td>\n",
       "      <td>1</td>\n",
       "      <td>0</td>\n",
       "      <td>0</td>\n",
       "      <td>4</td>\n",
       "      <td>-4</td>\n",
       "      <td>0</td>\n",
       "      <td>0</td>\n",
       "    </tr>\n",
       "    <tr>\n",
       "      <th>6</th>\n",
       "      <td>Werder Bremen</td>\n",
       "      <td>1</td>\n",
       "      <td>1</td>\n",
       "      <td>2</td>\n",
       "      <td>2</td>\n",
       "      <td>0</td>\n",
       "      <td>0</td>\n",
       "      <td>0</td>\n",
       "    </tr>\n",
       "    <tr>\n",
       "      <th>7</th>\n",
       "      <td>Eintracht Frankfurt</td>\n",
       "      <td>1</td>\n",
       "      <td>0</td>\n",
       "      <td>1</td>\n",
       "      <td>6</td>\n",
       "      <td>-5</td>\n",
       "      <td>0</td>\n",
       "      <td>0</td>\n",
       "    </tr>\n",
       "    <tr>\n",
       "      <th>8</th>\n",
       "      <td>VfB Stuttgart</td>\n",
       "      <td>1</td>\n",
       "      <td>1</td>\n",
       "      <td>1</td>\n",
       "      <td>1</td>\n",
       "      <td>0</td>\n",
       "      <td>0</td>\n",
       "      <td>0</td>\n",
       "    </tr>\n",
       "    <tr>\n",
       "      <th>9</th>\n",
       "      <td>1. FSV Mainz 05</td>\n",
       "      <td>1</td>\n",
       "      <td>3</td>\n",
       "      <td>2</td>\n",
       "      <td>1</td>\n",
       "      <td>1</td>\n",
       "      <td>0</td>\n",
       "      <td>0</td>\n",
       "    </tr>\n",
       "    <tr>\n",
       "      <th>10</th>\n",
       "      <td>Bayer Leverkusen</td>\n",
       "      <td>1</td>\n",
       "      <td>0</td>\n",
       "      <td>0</td>\n",
       "      <td>1</td>\n",
       "      <td>-1</td>\n",
       "      <td>0</td>\n",
       "      <td>0</td>\n",
       "    </tr>\n",
       "    <tr>\n",
       "      <th>11</th>\n",
       "      <td>Borussia Mönchengladbach</td>\n",
       "      <td>1</td>\n",
       "      <td>3</td>\n",
       "      <td>3</td>\n",
       "      <td>1</td>\n",
       "      <td>2</td>\n",
       "      <td>0</td>\n",
       "      <td>0</td>\n",
       "    </tr>\n",
       "    <tr>\n",
       "      <th>12</th>\n",
       "      <td>VfL Wolfsburg</td>\n",
       "      <td>1</td>\n",
       "      <td>1</td>\n",
       "      <td>2</td>\n",
       "      <td>2</td>\n",
       "      <td>0</td>\n",
       "      <td>0</td>\n",
       "      <td>0</td>\n",
       "    </tr>\n",
       "    <tr>\n",
       "      <th>13</th>\n",
       "      <td>1. FC Köln</td>\n",
       "      <td>1</td>\n",
       "      <td>3</td>\n",
       "      <td>3</td>\n",
       "      <td>1</td>\n",
       "      <td>2</td>\n",
       "      <td>0</td>\n",
       "      <td>0</td>\n",
       "    </tr>\n",
       "    <tr>\n",
       "      <th>14</th>\n",
       "      <td>Borussia Dortmund</td>\n",
       "      <td>1</td>\n",
       "      <td>3</td>\n",
       "      <td>1</td>\n",
       "      <td>0</td>\n",
       "      <td>1</td>\n",
       "      <td>0</td>\n",
       "      <td>0</td>\n",
       "    </tr>\n",
       "    <tr>\n",
       "      <th>15</th>\n",
       "      <td>1. FC Union Berlin</td>\n",
       "      <td>1</td>\n",
       "      <td>3</td>\n",
       "      <td>3</td>\n",
       "      <td>1</td>\n",
       "      <td>2</td>\n",
       "      <td>0</td>\n",
       "      <td>0</td>\n",
       "    </tr>\n",
       "    <tr>\n",
       "      <th>16</th>\n",
       "      <td>FC Schalke 04</td>\n",
       "      <td>1</td>\n",
       "      <td>0</td>\n",
       "      <td>1</td>\n",
       "      <td>3</td>\n",
       "      <td>-2</td>\n",
       "      <td>0</td>\n",
       "      <td>0</td>\n",
       "    </tr>\n",
       "    <tr>\n",
       "      <th>17</th>\n",
       "      <td>Hertha BSC</td>\n",
       "      <td>1</td>\n",
       "      <td>0</td>\n",
       "      <td>1</td>\n",
       "      <td>3</td>\n",
       "      <td>-2</td>\n",
       "      <td>0</td>\n",
       "      <td>0</td>\n",
       "    </tr>\n",
       "    <tr>\n",
       "      <th>18</th>\n",
       "      <td>VfL Bochum</td>\n",
       "      <td>1</td>\n",
       "      <td>0</td>\n",
       "      <td>1</td>\n",
       "      <td>2</td>\n",
       "      <td>-1</td>\n",
       "      <td>0</td>\n",
       "      <td>0</td>\n",
       "    </tr>\n",
       "  </tbody>\n",
       "</table>\n",
       "</div>"
      ],
      "text/plain": [
       "                              Club Spieltag Punkte gesamt Tore gesamt  \\\n",
       "Position                                                                \n",
       "1                FC Bayern München        1             3           6   \n",
       "2                       RB Leipzig        1             1           1   \n",
       "3              TSG 1899 Hoffenheim        1             0           1   \n",
       "4                      SC Freiburg        1             3           4   \n",
       "5                      FC Augsburg        1             0           0   \n",
       "6                    Werder Bremen        1             1           2   \n",
       "7              Eintracht Frankfurt        1             0           1   \n",
       "8                    VfB Stuttgart        1             1           1   \n",
       "9                  1. FSV Mainz 05        1             3           2   \n",
       "10                Bayer Leverkusen        1             0           0   \n",
       "11        Borussia Mönchengladbach        1             3           3   \n",
       "12                   VfL Wolfsburg        1             1           2   \n",
       "13                      1. FC Köln        1             3           3   \n",
       "14               Borussia Dortmund        1             3           1   \n",
       "15              1. FC Union Berlin        1             3           3   \n",
       "16                   FC Schalke 04        1             0           1   \n",
       "17                      Hertha BSC        1             0           1   \n",
       "18                      VfL Bochum        1             0           1   \n",
       "\n",
       "         Gegentore gesamt Tordifferenz  Heimpunkte gesamt  \\\n",
       "Position                                                    \n",
       "1                       1            5                  0   \n",
       "2                       1            0                  0   \n",
       "3                       3           -2                  0   \n",
       "4                       0            4                  0   \n",
       "5                       4           -4                  0   \n",
       "6                       2            0                  0   \n",
       "7                       6           -5                  0   \n",
       "8                       1            0                  0   \n",
       "9                       1            1                  0   \n",
       "10                      1           -1                  0   \n",
       "11                      1            2                  0   \n",
       "12                      2            0                  0   \n",
       "13                      1            2                  0   \n",
       "14                      0            1                  0   \n",
       "15                      1            2                  0   \n",
       "16                      3           -2                  0   \n",
       "17                      3           -2                  0   \n",
       "18                      2           -1                  0   \n",
       "\n",
       "          Auswärtspunkte gesamt  \n",
       "Position                         \n",
       "1                             0  \n",
       "2                             0  \n",
       "3                             0  \n",
       "4                             0  \n",
       "5                             0  \n",
       "6                             0  \n",
       "7                             0  \n",
       "8                             0  \n",
       "9                             0  \n",
       "10                            0  \n",
       "11                            0  \n",
       "12                            0  \n",
       "13                            0  \n",
       "14                            0  \n",
       "15                            0  \n",
       "16                            0  \n",
       "17                            0  \n",
       "18                            0  "
      ]
     },
     "execution_count": 391,
     "metadata": {},
     "output_type": "execute_result"
    }
   ],
   "source": [
    "tabellen_dict[1]"
   ]
  },
  {
   "cell_type": "code",
   "execution_count": null,
   "metadata": {},
   "outputs": [],
   "source": []
  },
  {
   "cell_type": "markdown",
   "metadata": {},
   "source": [
    "Jetzt die gestapelten Balkendiagramme:"
   ]
  },
  {
   "cell_type": "code",
   "execution_count": 369,
   "metadata": {},
   "outputs": [
    {
     "name": "stdout",
     "output_type": "stream",
     "text": [
      "Collecting pandas\n",
      "  Using cached pandas-2.0.3-cp38-cp38-win_amd64.whl (10.8 MB)\n",
      "Requirement already satisfied, skipping upgrade: python-dateutil>=2.8.2 in c:\\anaconda\\lib\\site-packages (from pandas) (2.8.2)\n",
      "Requirement already satisfied, skipping upgrade: pytz>=2020.1 in c:\\anaconda\\lib\\site-packages (from pandas) (2020.1)\n",
      "Requirement already satisfied, skipping upgrade: numpy>=1.20.3; python_version < \"3.10\" in c:\\anaconda\\lib\\site-packages (from pandas) (1.24.4)\n",
      "Requirement already satisfied, skipping upgrade: tzdata>=2022.1 in c:\\anaconda\\lib\\site-packages (from pandas) (2023.3)\n",
      "Requirement already satisfied, skipping upgrade: six>=1.5 in c:\\anaconda\\lib\\site-packages (from python-dateutil>=2.8.2->pandas) (1.15.0)\n",
      "Installing collected packages: pandas\n",
      "Successfully installed pandas-2.0.3\n"
     ]
    }
   ],
   "source": [
    "import matplotlib.pyplot as plt\n",
    "import seaborn\n",
    "!pip install pandas --upgrade --user"
   ]
  },
  {
   "cell_type": "code",
   "execution_count": 375,
   "metadata": {},
   "outputs": [
    {
     "data": {
      "text/plain": [
       "<AxesSubplot:ylabel='Club'>"
      ]
     },
     "execution_count": 375,
     "metadata": {},
     "output_type": "execute_result"
    },
    {
     "data": {
      "image/png": "[encoded data removed]",
      "text/plain": [
       "<Figure size 432x288 with 1 Axes>"
      ]
     },
     "metadata": {
      "needs_background": "light"
     },
     "output_type": "display_data"
    }
   ],
   "source": [
    "tabellen_dict[1].set_index(keys = \"Club\")[[\"Heimpunkte gesamt\", \"Auswärtspunkte gesamt\"]].plot.barh(stacked=True, alpha = 0.5)"
   ]
  },
  {
   "cell_type": "code",
   "execution_count": 383,
   "metadata": {},
   "outputs": [
    {
     "data": {
      "text/html": [
       "<div>\n",
       "<style scoped>\n",
       "    .dataframe tbody tr th:only-of-type {\n",
       "        vertical-align: middle;\n",
       "    }\n",
       "\n",
       "    .dataframe tbody tr th {\n",
       "        vertical-align: top;\n",
       "    }\n",
       "\n",
       "    .dataframe thead th {\n",
       "        text-align: right;\n",
       "    }\n",
       "</style>\n",
       "<table border=\"1\" class=\"dataframe\">\n",
       "  <thead>\n",
       "    <tr style=\"text-align: right;\">\n",
       "      <th></th>\n",
       "      <th>Spieltag</th>\n",
       "      <th>Punkte gesamt</th>\n",
       "      <th>Tore gesamt</th>\n",
       "      <th>Gegentore gesamt</th>\n",
       "      <th>Tordifferenz</th>\n",
       "      <th>Heimpunkte gesamt</th>\n",
       "      <th>Auswärtspunkte gesamt</th>\n",
       "    </tr>\n",
       "    <tr>\n",
       "      <th>Club</th>\n",
       "      <th></th>\n",
       "      <th></th>\n",
       "      <th></th>\n",
       "      <th></th>\n",
       "      <th></th>\n",
       "      <th></th>\n",
       "      <th></th>\n",
       "    </tr>\n",
       "  </thead>\n",
       "  <tbody>\n",
       "    <tr>\n",
       "      <th>FC Bayern München</th>\n",
       "      <td>1</td>\n",
       "      <td>3</td>\n",
       "      <td>6</td>\n",
       "      <td>1</td>\n",
       "      <td>5</td>\n",
       "      <td>0</td>\n",
       "      <td>0</td>\n",
       "    </tr>\n",
       "    <tr>\n",
       "      <th>RB Leipzig</th>\n",
       "      <td>1</td>\n",
       "      <td>1</td>\n",
       "      <td>1</td>\n",
       "      <td>1</td>\n",
       "      <td>0</td>\n",
       "      <td>0</td>\n",
       "      <td>0</td>\n",
       "    </tr>\n",
       "    <tr>\n",
       "      <th>TSG 1899 Hoffenheim</th>\n",
       "      <td>1</td>\n",
       "      <td>0</td>\n",
       "      <td>1</td>\n",
       "      <td>3</td>\n",
       "      <td>-2</td>\n",
       "      <td>0</td>\n",
       "      <td>0</td>\n",
       "    </tr>\n",
       "    <tr>\n",
       "      <th>SC Freiburg</th>\n",
       "      <td>1</td>\n",
       "      <td>3</td>\n",
       "      <td>4</td>\n",
       "      <td>0</td>\n",
       "      <td>4</td>\n",
       "      <td>0</td>\n",
       "      <td>0</td>\n",
       "    </tr>\n",
       "    <tr>\n",
       "      <th>FC Augsburg</th>\n",
       "      <td>1</td>\n",
       "      <td>0</td>\n",
       "      <td>0</td>\n",
       "      <td>4</td>\n",
       "      <td>-4</td>\n",
       "      <td>0</td>\n",
       "      <td>0</td>\n",
       "    </tr>\n",
       "  </tbody>\n",
       "</table>\n",
       "</div>"
      ],
      "text/plain": [
       "                    Spieltag Punkte gesamt Tore gesamt Gegentore gesamt  \\\n",
       "Club                                                                      \n",
       "FC Bayern München          1             3           6                1   \n",
       "RB Leipzig                 1             1           1                1   \n",
       "TSG 1899 Hoffenheim        1             0           1                3   \n",
       "SC Freiburg                1             3           4                0   \n",
       "FC Augsburg                1             0           0                4   \n",
       "\n",
       "                    Tordifferenz  Heimpunkte gesamt  Auswärtspunkte gesamt  \n",
       "Club                                                                        \n",
       "FC Bayern München              5                  0                      0  \n",
       "RB Leipzig                     0                  0                      0  \n",
       "TSG 1899 Hoffenheim           -2                  0                      0  \n",
       "SC Freiburg                    4                  0                      0  \n",
       "FC Augsburg                   -4                  0                      0  "
      ]
     },
     "execution_count": 383,
     "metadata": {},
     "output_type": "execute_result"
    }
   ],
   "source": [
    "test = tabellen_dict[1].set_index(keys = \"Club\")\n",
    "test.head()"
   ]
  },
  {
   "cell_type": "code",
   "execution_count": 381,
   "metadata": {},
   "outputs": [
    {
     "data": {
      "text/plain": [
       "<AxesSubplot:ylabel='Club'>"
      ]
     },
     "execution_count": 381,
     "metadata": {},
     "output_type": "execute_result"
    },
    {
     "data": {
      "image/png": "[encoded data removed]",
      "text/plain": [
       "<Figure size 432x288 with 1 Axes>"
      ]
     },
     "metadata": {
      "needs_background": "light"
     },
     "output_type": "display_data"
    }
   ],
   "source": [
    "test[[\"Heimpunkte gesamt\", \"Auswärtspunkte gesamt\"]].plot.barh(stacked=True, alpha = 0.5)"
   ]
  },
  {
   "cell_type": "code",
   "execution_count": 382,
   "metadata": {},
   "outputs": [
    {
     "data": {
      "text/html": [
       "<div>\n",
       "<style scoped>\n",
       "    .dataframe tbody tr th:only-of-type {\n",
       "        vertical-align: middle;\n",
       "    }\n",
       "\n",
       "    .dataframe tbody tr th {\n",
       "        vertical-align: top;\n",
       "    }\n",
       "\n",
       "    .dataframe thead th {\n",
       "        text-align: right;\n",
       "    }\n",
       "</style>\n",
       "<table border=\"1\" class=\"dataframe\">\n",
       "  <thead>\n",
       "    <tr style=\"text-align: right;\">\n",
       "      <th></th>\n",
       "      <th>Heimpunkte gesamt</th>\n",
       "      <th>Auswärtspunkte gesamt</th>\n",
       "    </tr>\n",
       "    <tr>\n",
       "      <th>Club</th>\n",
       "      <th></th>\n",
       "      <th></th>\n",
       "    </tr>\n",
       "  </thead>\n",
       "  <tbody>\n",
       "    <tr>\n",
       "      <th>FC Bayern München</th>\n",
       "      <td>0</td>\n",
       "      <td>0</td>\n",
       "    </tr>\n",
       "    <tr>\n",
       "      <th>RB Leipzig</th>\n",
       "      <td>0</td>\n",
       "      <td>0</td>\n",
       "    </tr>\n",
       "    <tr>\n",
       "      <th>TSG 1899 Hoffenheim</th>\n",
       "      <td>0</td>\n",
       "      <td>0</td>\n",
       "    </tr>\n",
       "    <tr>\n",
       "      <th>SC Freiburg</th>\n",
       "      <td>0</td>\n",
       "      <td>0</td>\n",
       "    </tr>\n",
       "    <tr>\n",
       "      <th>FC Augsburg</th>\n",
       "      <td>0</td>\n",
       "      <td>0</td>\n",
       "    </tr>\n",
       "    <tr>\n",
       "      <th>Werder Bremen</th>\n",
       "      <td>0</td>\n",
       "      <td>0</td>\n",
       "    </tr>\n",
       "    <tr>\n",
       "      <th>Eintracht Frankfurt</th>\n",
       "      <td>0</td>\n",
       "      <td>0</td>\n",
       "    </tr>\n",
       "    <tr>\n",
       "      <th>VfB Stuttgart</th>\n",
       "      <td>0</td>\n",
       "      <td>0</td>\n",
       "    </tr>\n",
       "    <tr>\n",
       "      <th>1. FSV Mainz 05</th>\n",
       "      <td>0</td>\n",
       "      <td>0</td>\n",
       "    </tr>\n",
       "    <tr>\n",
       "      <th>Bayer Leverkusen</th>\n",
       "      <td>0</td>\n",
       "      <td>0</td>\n",
       "    </tr>\n",
       "    <tr>\n",
       "      <th>Borussia Mönchengladbach</th>\n",
       "      <td>0</td>\n",
       "      <td>0</td>\n",
       "    </tr>\n",
       "    <tr>\n",
       "      <th>VfL Wolfsburg</th>\n",
       "      <td>0</td>\n",
       "      <td>0</td>\n",
       "    </tr>\n",
       "    <tr>\n",
       "      <th>1. FC Köln</th>\n",
       "      <td>0</td>\n",
       "      <td>0</td>\n",
       "    </tr>\n",
       "    <tr>\n",
       "      <th>Borussia Dortmund</th>\n",
       "      <td>0</td>\n",
       "      <td>0</td>\n",
       "    </tr>\n",
       "    <tr>\n",
       "      <th>1. FC Union Berlin</th>\n",
       "      <td>0</td>\n",
       "      <td>0</td>\n",
       "    </tr>\n",
       "    <tr>\n",
       "      <th>FC Schalke 04</th>\n",
       "      <td>0</td>\n",
       "      <td>0</td>\n",
       "    </tr>\n",
       "    <tr>\n",
       "      <th>Hertha BSC</th>\n",
       "      <td>0</td>\n",
       "      <td>0</td>\n",
       "    </tr>\n",
       "    <tr>\n",
       "      <th>VfL Bochum</th>\n",
       "      <td>0</td>\n",
       "      <td>0</td>\n",
       "    </tr>\n",
       "  </tbody>\n",
       "</table>\n",
       "</div>"
      ],
      "text/plain": [
       "                          Heimpunkte gesamt  Auswärtspunkte gesamt\n",
       "Club                                                              \n",
       "FC Bayern München                         0                      0\n",
       "RB Leipzig                                0                      0\n",
       "TSG 1899 Hoffenheim                       0                      0\n",
       "SC Freiburg                               0                      0\n",
       "FC Augsburg                               0                      0\n",
       "Werder Bremen                             0                      0\n",
       "Eintracht Frankfurt                       0                      0\n",
       "VfB Stuttgart                             0                      0\n",
       "1. FSV Mainz 05                           0                      0\n",
       "Bayer Leverkusen                          0                      0\n",
       "Borussia Mönchengladbach                  0                      0\n",
       "VfL Wolfsburg                             0                      0\n",
       "1. FC Köln                                0                      0\n",
       "Borussia Dortmund                         0                      0\n",
       "1. FC Union Berlin                        0                      0\n",
       "FC Schalke 04                             0                      0\n",
       "Hertha BSC                                0                      0\n",
       "VfL Bochum                                0                      0"
      ]
     },
     "execution_count": 382,
     "metadata": {},
     "output_type": "execute_result"
    }
   ],
   "source": [
    "test[[\"Heimpunkte gesamt\", \"Auswärtspunkte gesamt\"]]"
   ]
  },
  {
   "cell_type": "code",
   "execution_count": null,
   "metadata": {},
   "outputs": [],
   "source": []
  }
 ],
 "metadata": {
  "kernelspec": {
   "display_name": "Python 3",
   "language": "python",
   "name": "python3"
  },
  "language_info": {
   "codemirror_mode": {
    "name": "ipython",
    "version": 3
   },
   "file_extension": ".py",
   "mimetype": "text/x-python",
   "name": "python",
   "nbconvert_exporter": "python",
   "pygments_lexer": "ipython3",
   "version": "3.8.5"
  }
 },
 "nbformat": 4,
 "nbformat_minor": 4
}

{
 "cells": [
  {
   "cell_type": "markdown",
   "metadata": {},
   "source": [
    "Dieses    Skript zieht an jedem Spieltag die aktuellen Daten und hängt sie an den Begegnungen Saison 23/24 Datensatz an:"
   ]
  },
  {
   "cell_type": "markdown",
   "metadata": {},
   "source": [
    "Spiele des aktuellen Spieltages der ersten Bundesliga:\n",
    "\n",
    "    https://api.openligadb.de/getmatchdata/bl1\n",
    "\n",
    "Der aktuelle Spieltag wird jeweils zur Hälfte der Zeit zwischen dem letzten Spiel des letzten Spieltages und dem ersten Spiel des nächsten Spieltages erhöht."
   ]
  },
  {
   "cell_type": "code",
   "execution_count": 9,
   "metadata": {},
   "outputs": [],
   "source": [
    "import requests\n",
    "import pandas as pd\n",
    "import numpy as np\n",
    "\n",
    "url = \"https://api.openligadb.de/getmatchdata/bl1\"\n",
    "spieltag = requests.get(url).json()"
   ]
  },
  {
   "cell_type": "markdown",
   "metadata": {},
   "source": [
    "Extrahiere die Spieltagsnummer:"
   ]
  },
  {
   "cell_type": "code",
   "execution_count": 6,
   "metadata": {},
   "outputs": [],
   "source": [
    "spieltagsnummer = spieltag[0][\"group\"]['groupOrderID']\n"
   ]
  },
  {
   "cell_type": "markdown",
   "metadata": {},
   "source": [
    "Wandle das json in einen pandas DataFrame um:"
   ]
  },
  {
   "cell_type": "code",
   "execution_count": 19,
   "metadata": {},
   "outputs": [],
   "source": [
    "spieltag_df = pd.DataFrame.from_dict(spieltag)\n"
   ]
  },
  {
   "cell_type": "code",
   "execution_count": 29,
   "metadata": {},
   "outputs": [
    {
     "name": "stderr",
     "output_type": "stream",
     "text": [
      "C:\\Anaconda\\lib\\site-packages\\pandas\\core\\indexing.py:670: SettingWithCopyWarning: \n",
      "A value is trying to be set on a copy of a slice from a DataFrame\n",
      "\n",
      "See the caveats in the documentation: https://pandas.pydata.org/pandas-docs/stable/user_guide/indexing.html#returning-a-view-versus-a-copy\n",
      "  iloc._setitem_with_indexer(indexer, value)\n"
     ]
    }
   ],
   "source": [
    "# unnest team1 and team 2:\n",
    "heim_gast_dict = {\"team1\" : \"heim\", \"team2\" : \"gast\"}\n",
    "\n",
    "for k, v in heim_gast_dict.items():\n",
    "    spieltag_df[v] = np.nan\n",
    "    for index, row in spieltag_df.iterrows():\n",
    "        spieltag_df[v].iloc[index] = spieltag_df[k].iloc[index][\"teamName\"]\n",
    "spieltag_df[[\"team1\",\"heim\", \"team2\",\"gast\"]].head()\n",
    "\n",
    "# schreibe den Spieltag in den Data Frame\n",
    "spieltag_df[\"spieltag\"] = spieltagsnummer"
   ]
  },
  {
   "cell_type": "code",
   "execution_count": 14,
   "metadata": {},
   "outputs": [
    {
     "name": "stdout",
     "output_type": "stream",
     "text": [
      "C:\\Users\\Florian\n"
     ]
    }
   ],
   "source": [
    "#import os\n",
    "#print(os.getcwd())"
   ]
  },
  {
   "cell_type": "code",
   "execution_count": 45,
   "metadata": {
    "scrolled": true
   },
   "outputs": [
    {
     "data": {
      "text/plain": [
       "Index(['matchID', 'matchDateTime', 'timeZoneID', 'leagueId', 'leagueName',\n",
       "       'leagueSeason', 'leagueShortcut', 'matchDateTimeUTC', 'group', 'team1',\n",
       "       'team2', 'lastUpdateDateTime', 'matchIsFinished', 'matchResults',\n",
       "       'goals', 'location', 'numberOfViewers', 'heim', 'gast', 'spieltag'],\n",
       "      dtype='object')"
      ]
     },
     "execution_count": 45,
     "metadata": {},
     "output_type": "execute_result"
    }
   ],
   "source": [
    "#spieltag_df.columns\n",
    "#spieltag_df[\"spieltag\"].head()"
   ]
  },
  {
   "cell_type": "markdown",
   "metadata": {},
   "source": [
    "Öffne nun die csv-Datei, die die Spieltagsdaten beinhaltet \n"
   ]
  },
  {
   "cell_type": "code",
   "execution_count": 64,
   "metadata": {},
   "outputs": [
    {
     "data": {
      "text/plain": [
       "Index(['matchID', 'matchDateTime', 'timeZoneID', 'leagueId', 'leagueName',\n",
       "       'leagueSeason', 'leagueShortcut', 'matchDateTimeUTC', 'group', 'team1',\n",
       "       'team2', 'lastUpdateDateTime', 'matchIsFinished', 'matchResults',\n",
       "       'goals', 'location', 'numberOfViewers', 'heim', 'gast', 'spieltag'],\n",
       "      dtype='object')"
      ]
     },
     "execution_count": 64,
     "metadata": {},
     "output_type": "execute_result"
    }
   ],
   "source": [
    "alle_spieltage = pd.read_csv(\"C:/Users/Florian/Bundesliga_Spieltage/spieltage.csv\")\n",
    "#alle_spieltage.columns\n",
    "\n",
    "\n"
   ]
  },
  {
   "cell_type": "code",
   "execution_count": 67,
   "metadata": {},
   "outputs": [
    {
     "name": "stdout",
     "output_type": "stream",
     "text": [
      "Keine neuen Spieltagsdaten\n"
     ]
    }
   ],
   "source": [
    "if spieltagsnummer not in alle_spieltage[\"spieltag\"].values:\n",
    "    spieltag_df.to_csv(\"C:/Users/Florian/Bundesliga_Spieltage/spieltage.csv\", mode = 'a', index=False, header=False)\n",
    "else:\n",
    "    print(\"Keine neuen Spieltagsdaten\")"
   ]
  },
  {
   "cell_type": "markdown",
   "metadata": {},
   "source": [
    "Funktioniert so nicht wegen englischer Wochen "
   ]
  },
  {
   "cell_type": "markdown",
   "metadata": {},
   "source": []
  },
  {
   "cell_type": "markdown",
   "metadata": {},
   "source": []
  }
 ],
 "metadata": {
  "kernelspec": {
   "display_name": "Python 3 (ipykernel)",
   "language": "python",
   "name": "python3"
  },
  "language_info": {
   "codemirror_mode": {
    "name": "ipython",
    "version": 3
   },
   "file_extension": ".py",
   "mimetype": "text/x-python",
   "name": "python",
   "nbconvert_exporter": "python",
   "pygments_lexer": "ipython3",
   "version": "3.11.4"
  }
 },
 "nbformat": 4,
 "nbformat_minor": 4
}
